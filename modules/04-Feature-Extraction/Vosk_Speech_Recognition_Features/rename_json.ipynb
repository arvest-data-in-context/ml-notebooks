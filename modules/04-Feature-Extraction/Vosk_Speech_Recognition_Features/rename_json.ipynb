{
 "cells": [
  {
   "cell_type": "code",
   "execution_count": 4,
   "metadata": {},
   "outputs": [
    {
     "name": "stdout",
     "output_type": "stream",
     "text": [
      "Purging pip environment and installing packages...\n",
      "Importing packages...\n",
      "Ready!\n"
     ]
    }
   ],
   "source": [
    "import sys\n",
    "!echo \"Purging pip environment and installing packages...\"\n",
    "!{sys.executable} -m pip cache purge > /dev/null 2>&1\n",
    "!{sys.executable} -m pip uninstall -y jlu > /dev/null 2>&1\n",
    "!{sys.executable} -m pip install -q git+https://github.com/arvest-data-in-context/jlu > /dev/null 2>&1\n",
    "!{sys.executable} -m pip uninstall -y dps > /dev/null 2>&1\n",
    "!{sys.executable} -m pip install -q git+https://github.com/jdchart/dps.git > /dev/null 2>&1\n",
    "\n",
    "# Imports\n",
    "print(\"Importing packages...\")\n",
    "import os\n",
    "import jlu\n",
    "import dps\n",
    "import matplotlib.pyplot as plt\n",
    "import numpy as np\n",
    "print(\"Ready!\")"
   ]
  },
  {
   "cell_type": "code",
   "execution_count": 8,
   "metadata": {
    "vscode": {
     "languageId": "plaintext"
    }
   },
   "outputs": [
    {
     "name": "stdout",
     "output_type": "stream",
     "text": [
      "['/Users/jacob/Documents/Repos/arvest-data-in-context/ml-notebooks/sources/LMI_20230428_2_0.0_833.833_merged.json', '/Users/jacob/Documents/Repos/arvest-data-in-context/ml-notebooks/sources/LMI_20220826_1_0.0_8753.398625_merged.json', '/Users/jacob/Documents/Repos/arvest-data-in-context/ml-notebooks/sources/LMI_20230502_3_0.0_833.833_merged.json', '/Users/jacob/Documents/Repos/arvest-data-in-context/ml-notebooks/sources/LMI_20230428_0_9152.85_final_merged.json', '/Users/jacob/Documents/Repos/arvest-data-in-context/ml-notebooks/sources/LMI_20230510_0_9505.769999999999_final_merged.json', '/Users/jacob/Documents/Repos/arvest-data-in-context/ml-notebooks/sources/LMI_20230428_8_0.0_833.833_merged.json', '/Users/jacob/Documents/Repos/arvest-data-in-context/ml-notebooks/sources/LMI_20230513_7_0.0_833.833_merged.json']\n"
     ]
    }
   ],
   "source": [
    "VOSK_ANALYSES = os.path.join(os.path.abspath('../../..'), \"sources\")\n",
    "analysis_files = jlu.files.collect_files(VOSK_ANALYSES, [\"json\"])\n",
    "print(analysis_files)"
   ]
  },
  {
   "cell_type": "code",
   "execution_count": 34,
   "metadata": {},
   "outputs": [],
   "source": [
    "import json\n",
    "import re\n",
    "\n",
    "OUTPATH = os.path.join(os.path.abspath('../../..'), \"RENAMED_JSON\")\n",
    "\n",
    "def read_json(path):\n",
    "    with open(path) as f:\n",
    "        data = json.load(f)\n",
    "    return data\n",
    "\n",
    "def write_json(path, data):\n",
    "    f = open(path, \"w\")\n",
    "    # f.write(mon_dict)\n",
    "    json.dump(data, f, indent = 4)\n",
    "    f.close()\n",
    "\n",
    "for i, item in enumerate(analysis_files):\n",
    "    data = read_json(item)\n",
    "\n",
    "    video_length = 0\n",
    "\n",
    "    pattern = r'(\\d+\\.?\\d*)_(?=\\w*\\.json$)'\n",
    "\n",
    "    match = re.search(pattern, item)\n",
    "    if match:\n",
    "        last_value = match.group(1)\n",
    "        video_length = float(last_value)\n",
    "    \n",
    "    data[\"media_length\"] = video_length\n",
    "\n",
    "\n",
    "    write_json(os.path.join(OUTPATH, f\"{i}.json\"), data)\n",
    "    "
   ]
  },
  {
   "cell_type": "code",
   "execution_count": null,
   "metadata": {},
   "outputs": [],
   "source": []
  }
 ],
 "metadata": {
  "kernelspec": {
   "display_name": "Python 3 (ipykernel)",
   "language": "python",
   "name": "python3"
  },
  "language_info": {
   "codemirror_mode": {
    "name": "ipython",
    "version": 3
   },
   "file_extension": ".py",
   "mimetype": "text/x-python",
   "name": "python",
   "nbconvert_exporter": "python",
   "pygments_lexer": "ipython3",
   "version": "3.11.8"
  }
 },
 "nbformat": 4,
 "nbformat_minor": 4
}
