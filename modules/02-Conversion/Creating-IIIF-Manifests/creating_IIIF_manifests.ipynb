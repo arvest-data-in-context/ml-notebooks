{
 "cells": [
  {
   "cell_type": "markdown",
   "metadata": {},
   "source": [
    "# Creating IIIF Manifests\n",
    "\n",
    "|Category(ies)         |References            |Input Type            |Workflows             |Next Steps            |\n",
    "|----------------------|----------------------|----------------------|----------------------|----------------------|\n",
    "|conversion|[IIIF website](https://iiif.io/), [iiif-prezi3 package](https://github.com/iiif-prezi/iiif-prezi3)|multiple|||\n",
    "\n",
    "In this notebook we will create [IIIF](https://iiif.io/) Manifests from different kinds of media. A IIIF Manifest is a light weight json file that allows us to point to media that is hosted online (or several medias in one Manifest), and also define things like metadata and annotations. It follows a standardized structure that is defined by the [IIIF Presentation API](https://iiif.io/api/presentation/3.0/)."
   ]
  },
  {
   "cell_type": "markdown",
   "metadata": {},
   "source": [
    "## 1. Setup\n",
    "First, let's import all of our dependencies."
   ]
  },
  {
   "cell_type": "code",
   "execution_count": null,
   "metadata": {},
   "outputs": [],
   "source": [
    "# Installs\n",
    "import sys\n",
    "!echo \"Purging pip environment and installing packages...\"\n",
    "!{sys.executable} -m pip cache purge > /dev/null 2>&1 # Purge pip's cache so that everything installs correctly.\n",
    "!{sys.executable} -m pip uninstall -y jlu > /dev/null 2>&1 # Uninstall jlu if it was previously installed.\n",
    "!{sys.executable} -m pip install -q git+https://github.com/arvest-data-in-context/jlu > /dev/null 2>&1 # Install the jlu package.\n",
    "!conda install -y -c conda-forge ffmpeg > /dev/null 2>&1 # Install ffmpeg for file conversion.\n",
    "!{sys.executable} -m pip install -q git+https://github.com/iiif-prezi/iiif-prezi3.git # Install the iiif-prezi3 package.\n",
    "\n",
    "# Imports\n",
    "print(\"Importing packages...\")\n",
    "from jlu import files\n",
    "import iiif_prezi3\n",
    "import uuid\n",
    "import os\n",
    "import json\n",
    "print(\"Ready!\")"
   ]
  },
  {
   "cell_type": "markdown",
   "metadata": {},
   "source": [
    "## 2. Prepare your media\n",
    "In order to work, IIIF needs the URL of an accesible media file on the internet. There are plenty of services that let you store files and render them accessible, some of them are free, some you will have to pay for. Here are a few:\n",
    "- [Internet archive](https://archive.org/): you can store any type of file on internet archive.\n",
    "- [Github](https://github.com/): if you have a github account, you can upload small files to a repo and access them with a direct url.\n",
    "- [Nakala](https://www.nakala.fr/): run by Huma-Num, Nakala is a service that allows you to store data for digital humanities projects.\n",
    "- [File Browser](https://filebrowser.org/): file browser is an open source file hosting system you can set up on your own server.\n",
    "- [Arvest](https://arvest.app): Arvest is a digital humanities tool specifically designed for IIIF which also lets you store media.\n",
    "- [Imgur](https://imgur.com/): a free image storing service.\n",
    "- [Dropbox](https://www.dropbox.com/): you will need to change the prefix of the link link from `www.dropbox.com` to `dl.dropboxusercontent.com`.\n",
    "- [Amazon S3 (Simple Storage Service](https://aws.amazon.com/fr/s3/): a paid service provided by amazon.\n",
    "- [pCloud](https://www.pcloud.com/fr/eu): a paid storage solution.\n",
    "- [Wikimedia Commons](https://commons.wikimedia.org/wiki/Accueil): a free storage solution provided by the Wikimedia Foundation.\n",
    "\n",
    "You will know that a file is directly available if you go to the link in an internet browser and nothing but the media file's contents appears. For the purposes of this module, we shall use some content that we know is available at the following adresses (follow the links to see them), however you can always replace these file names with your own. "
   ]
  },
  {
   "cell_type": "code",
   "execution_count": null,
   "metadata": {},
   "outputs": [],
   "source": [
    "media_urls = {\n",
    "    \"image_1\" : \"https://files.tetras-libre.fr/media/sceno_avignon.jpg\",\n",
    "    \"image_2\" : \"https://files.tetras-libre.fr/media/walden_nouvel.JPG\",\n",
    "    \"audio_1\" : \"https://files.tetras-libre.fr/media/test_markeas.wav\",\n",
    "    \"audio_2\" : \"https://files.tetras-libre.fr/media/speech_recognition_test_corpus/en/clean-support-call.wav\",\n",
    "    \"video_1\" : \"https://files.tetras-libre.fr/media/jf_peyret_re_walden.mp4\",\n",
    "    \"video_2\" : \"https://files.tetras-libre.fr/media/plozevet/fonds_gessain/132.mp4\"\n",
    "}"
   ]
  },
  {
   "cell_type": "markdown",
   "metadata": {},
   "source": [
    "## 3. Create a basic Manifest\n",
    "\n",
    "Let's create our first Manifest. Remeber, a Manifest is just a json file with a certain structure, we could do everything by hand, but we'll use the [iiif-prezi3](https://github.com/iiif-prezi/iiif-prezi3) package to make things easier. \n",
    "\n",
    "We can create an instance of the Manifest class to represent our IIIF Manifest."
   ]
  },
  {
   "cell_type": "code",
   "execution_count": null,
   "metadata": {},
   "outputs": [],
   "source": [
    "filename = f\"{str(uuid.uuid4())}.json\" # First, let's set a filename four our Manifest (we just set a random one).\n",
    "\n",
    "m = iiif_prezi3.Manifest(\n",
    "    # The id is the URL to the Manifest when it will be uploaded online:\n",
    "    id = f\"https://files.tetras-libre.fr/manifests/{filename}\",\n",
    "    # We must also give our Manifest a label using the w3c annotations model):\n",
    "    label = {\"en\" : [\"My first Manifest\"]}\n",
    ")\n",
    "\n",
    "# Now we can print the Manifest in json form to see its structure:\n",
    "print(m.json(indent=2))"
   ]
  },
  {
   "cell_type": "markdown",
   "metadata": {},
   "source": [
    "Great! Now if we want, we can turn this into a json file and save the Manifest onto our machine so that we can upload it later."
   ]
  },
  {
   "cell_type": "code",
   "execution_count": null,
   "metadata": {},
   "outputs": [],
   "source": [
    "# We will save the json to the \"output\" folder at the root of the ml-notebooks repo:\n",
    "OUTPUT_FOLDER = os.path.abspath(os.path.join(os.getcwd(), \"..\", \"..\", \"..\", \"output\"))\n",
    "\n",
    "# Creating a jlu File object for clean file handling:\n",
    "file = files.File(path = os.path.join(OUTPUT_FOLDER, filename), content = m.json())\n",
    "file.write()\n",
    "\n",
    "print(f\"Created {file.path}!\")"
   ]
  },
  {
   "cell_type": "markdown",
   "metadata": {},
   "source": [
    "## 4. Creating Image Manifests\n",
    "\n",
    "Now that we know how to create a basic manifest, let's create one that points to an image, and also gives it some metadata and annotations.\n",
    "\n",
    "To do this, we'll need to get some basic information about our image (namely, its dimensions). We'll first need to be able to access our image. We could do this using an API if available, but we'll just download it to our machine to make things simpler."
   ]
  },
  {
   "cell_type": "code",
   "execution_count": null,
   "metadata": {},
   "outputs": [],
   "source": [
    "# We will download the file to the \"sources\" folder at the root of the ml-notbooks repo:\n",
    "SOURCE_FOLDER = os.path.abspath(os.path.join(os.getcwd(), \"..\", \"..\", \"..\", \"sources\"))\n",
    "\n",
    "# Now let's download the image files using jlu's download function:\n",
    "downloaded_files = files.download([media_urls[\"image_1\"], media_urls[\"image_2\"]], SOURCE_FOLDER)\n",
    "\n",
    "# We have created two new jlu File objects that represent the downloaded files which are here:\n",
    "print(downloaded_files[0].path)\n",
    "print(downloaded_files[1].path)"
   ]
  },
  {
   "cell_type": "markdown",
   "metadata": {},
   "source": [
    "An image file's dimensions are part of the file's basic properties. We can use jlu's `get_file_properties()` method to retrieve this data (you can also make jlu run this automatically on File creating using `get_file_properties` kwarg to True)."
   ]
  },
  {
   "cell_type": "code",
   "execution_count": null,
   "metadata": {},
   "outputs": [],
   "source": [
    "for file in downloaded_files:\n",
    "    file.get_file_properties()\n",
    "    print(file.file_properties, \"\\n\")"
   ]
  },
  {
   "cell_type": "markdown",
   "metadata": {},
   "source": [
    "### Creating the Manifest\n",
    "\n",
    "Now that we have all the information we need, we can create the actual Manifest using the same ethod seen above. We shall add to the Manifest a Canvas (the blank canvas that we'll paint our content on), to the Canvas we'll add an Annotation Page (the container of our media), and to the Annotation Page, we'll add an Annotation (the actual media content). The terminology can be a bit confusing - this is because we're using the [w3c web annotations](https://www.w3.org/TR/annotation-model/) terms - but you'll soon get used to it!\n",
    "\n",
    "You can learn more about the structure of the Presentation API modele [here](https://iiif.io/api/presentation/3.0/#21-defined-types). Here is a breakdown of the model in image form:\n",
    "\n",
    "<img src=\"https://iiif.io/api/assets/images/data-model.png\" alt=\"IIIF Presentation API structure\" style=\"width:400px; padding-left:100px;\"/>\n",
    "\n",
    "Let's put this into action now!"
   ]
  },
  {
   "cell_type": "code",
   "execution_count": null,
   "metadata": {},
   "outputs": [],
   "source": [
    "# Retrieve the filename without extension for naming purposes:\n",
    "just_filename = os.path.splitext(os.path.basename(downloaded_files[0].filename))[0]\n",
    "\n",
    "# The main Manifest object:\n",
    "m = iiif_prezi3.Manifest(\n",
    "    id = f\"https://files.tetras-libre.fr/manifests/{just_filename}.json\",\n",
    "    label = {\"en\" : [just_filename]}\n",
    ")\n",
    "\n",
    "# Add a Canvas to the Manifest:\n",
    "c = iiif_prezi3.Canvas(\n",
    "    # Each Canvas has an id (the last number will increment if there is more than one):\n",
    "    id = f\"https://files.tetras-libre.fr/manifests/{just_filename}/canvas/1\",\n",
    "    # Each Canvas must also have a label:\n",
    "    label = {\"en\" : [downloaded_files[0].filename]},\n",
    "    # Let's give our Canvas a width and a height equal to that of our image:\n",
    "    width = downloaded_files[0].file_properties[\"width\"],\n",
    "    height = downloaded_files[0].file_properties[\"height\"]\n",
    ")\n",
    "m.items = [c] # Add the Canvas to the Manifest's \"items\"\n",
    "\n",
    "# Add an Annotation Page to the Canvas:\n",
    "ap = iiif_prezi3.AnnotationPage(\n",
    "    # The page's if first points to the Canvas, then this page:\n",
    "    id = f\"https://files.tetras-libre.fr/manifests/{just_filename}/canvas/1/page/1\"\n",
    ")\n",
    "c.items = [ap] # Add the Annotation Page to the Canvas's \"items\"\n",
    "\n",
    "# Finally, add an Annotation to the Annotation Page (this adds our actual content):\n",
    "a = iiif_prezi3.Annotation(\n",
    "    # For its id, we point to the Annotation Page it is on:\n",
    "    id = f\"https://files.tetras-libre.fr/manifests/{just_filename}/canvas/1/page/1/1\",\n",
    "    # We can also give it a motivation following the w3c terms:\n",
    "    motivation = \"painting\",\n",
    "    # We also define a target, telling IIIF which Canvas to paint it on, and where:\n",
    "    target = f\"{c.id}#xywh=0,0,{c.width},{c.height}\",\n",
    "    # Finaly, the body is where we shall give our media file info:\n",
    "    body = {\n",
    "        \"id\" : media_urls[\"image_1\"], # We give the url to where the media is found online\n",
    "        \"type\" : downloaded_files[0].mime[0].capitalize(), # The type of file\n",
    "        \"format\" : f\"{downloaded_files[0].mime[0]}/{downloaded_files[0].mime[1]}\", # File format\n",
    "        \"width\" : downloaded_files[0].file_properties[\"width\"], # The image width\n",
    "        \"height\" : downloaded_files[0].file_properties[\"height\"] # And height\n",
    "    }\n",
    ")\n",
    "ap.items = [a] # Add the Annotation to the Annotation Page's \"items\"\n",
    "\n",
    "# Now we can print out the Manifest, or save it like before if need be.\n",
    "print(m.json(indent=2))"
   ]
  },
  {
   "cell_type": "markdown",
   "metadata": {},
   "source": [
    "### Metadata and other information\n",
    "\n",
    "We now have a fully IIIF-compliant Manifest that displays our image. However, we may want to pack up some other information with it, for example metadata, credits, a logo, required statement etc. We can do this following w3c specifications as follows:"
   ]
  },
  {
   "cell_type": "code",
   "execution_count": null,
   "metadata": {},
   "outputs": [],
   "source": [
    "# License:\n",
    "m.rights = \"https://creativecommons.org/licenses/by-nc-nd/4.0/\"\n",
    "\n",
    "# Provider:\n",
    "m.provider = [{\n",
    "    \"id\" : \"https://www.univ-rennes2.fr/\",\n",
    "    \"type\" : \"Agent\",\n",
    "    \"label\" : {\"en\" : [\"Rennes 2 University\"]},\n",
    "    \"homepage\" : {\"id\" : \"https://www.univ-rennes2.fr/\", \"type\" : \"Text\", \"format\": \"text/html\", \"label\" : {\"en\" : [\"Rennes 2 University website\"]}}\n",
    "}]\n",
    "\n",
    "# Required Statement:\n",
    "m.requiredStatement = {\n",
    "    \"label\" : {\"en\" : [\"Attribution\"]},\n",
    "    \"value\" : {\"en\" : [\"Rennes 2 University\"]},\n",
    "}\n",
    "\n",
    "# Metadata:\n",
    "m.metadata = [\n",
    "    {\"label\" : {\"en\" : [\"Title\"]}, \"value\" : {\"en\" : [\"My first Manifest\"]}},\n",
    "    {\"label\" : {\"en\" : [\"Date\"]}, \"value\" : {\"en\" : [\"2024\"]}}\n",
    "    # You can go on and add any number of metadata you wish\n",
    "]\n",
    "\n",
    "# See the updated Manifest:\n",
    "print(m.json(indent=2))"
   ]
  },
  {
   "cell_type": "markdown",
   "metadata": {},
   "source": [
    "### Logo and thumbnail\n",
    "\n",
    "We can also give our Canvas a thumbnail which acts as a preview of what is found on the Canvas. We'll just use the same image for now, but note that it is best to use a smaller image as a thumbnail.\n",
    "\n",
    "Some IIIF viewers can also accept of Manifest logo, but this is not officially in the IIIF specs. This means that we'll have to add it to the json data once it is no longer a `iiif_prezi3.Manifest()` object."
   ]
  },
  {
   "cell_type": "code",
   "execution_count": null,
   "metadata": {},
   "outputs": [],
   "source": [
    "# Using the same image as the Annotation body defined above:\n",
    "c.thumbnail = [a.body]\n",
    "\n",
    "# To add a logo, we have to convert the manifest to a dict, and then add it to that:\n",
    "manifest_as_dict = json.loads(m.json())\n",
    "manifest_as_dict[\"logo\"] = {\n",
    "    \"id\": \"https://univ-droit.fr/images/structures/universites/356/0350937d.jpg\",\n",
    "    \"type\": \"Image\",\n",
    "    \"format\": \"image/png\",\n",
    "    \"height\": 833,\n",
    "    \"width\": 413\n",
    "}\n",
    "\n",
    "# See the updated Manifest (which is now dict data):\n",
    "print(manifest_as_dict)"
   ]
  },
  {
   "cell_type": "markdown",
   "metadata": {},
   "source": [
    "### Annotations\n",
    "\n",
    "Finally, we can add some annotations to our Manifest. Annotations are thought of as complementary information that, unlike metadata, target a specific part of the resource.\n",
    "\n",
    "Annotations are added to the Canvas not in its `\"items\"` but in its `\"annotations\"`. We will add to this a new Annotation Page, and then an Annotation for each annotation we wish to add. Annotations are where IIIF specs and usage can begin to misalign, and things get a bit murky with different viewers treating different stuctures differently. The writer of `iiif_prezi3` has made the choice to not allow us to add annotations of non fully-compliant formats. If we want to create annotations that will be viewable in a viewer like [Arvest](https://arvest.app), we shall have to proceed like logos, and add the body of an annotation after having transformed the `iiif_prezi3.Manifest()` object into a dict."
   ]
  },
  {
   "cell_type": "code",
   "execution_count": null,
   "metadata": {},
   "outputs": [],
   "source": [
    "# Create a new Annotation Page:\n",
    "new_ap = iiif_prezi3.AnnotationPage(\n",
    "    # For the id, as before we point to the Canvas, but change page to annotation:\n",
    "    id = f\"https://files.tetras-libre.fr/manifests/{just_filename}/canvas/1/annotation/1\"\n",
    ")\n",
    "c.annotations = [new_ap] # Add the Annotation Page to the Canvas's \"annotations\"\n",
    "\n",
    "# Create an annotation:\n",
    "new_a = iiif_prezi3.Annotation(\n",
    "    id = f\"https://files.tetras-libre.fr/manifests/{just_filename}/canvas/1/annotation/1/1\",\n",
    "    # Note that the motivation changes from painting to commenting:\n",
    "    motivation = \"commenting\",\n",
    "    # Target a region on the Canvas to annotate, here we put it a 100, 100 with a size of 50:\n",
    "    target = f\"{c.id}#xywh=100,100,50,50\"\n",
    ")\n",
    "new_ap.items = [new_a] # Add the Annotation to the Annotation Page's \"items\"\n",
    "\n",
    "# Now we can transform the Manifest object into a dict:\n",
    "manifest_as_dict = json.loads(m.json())\n",
    "\n",
    "# And add the annotation body to this:\n",
    "manifest_as_dict[\"items\"][0][\"annotations\"][0][\"items\"][0][\"body\"] = {\n",
    "    \"id\" : m.id,\n",
    "    \"value\" : \"My textual annotation\",\n",
    "    \"type\" : \"TextualBody\",\n",
    "    \"format\" : \"text/html\"\n",
    "}\n",
    "\n",
    "# See the updated Manifest:\n",
    "print(manifest_as_dict)"
   ]
  },
  {
   "cell_type": "markdown",
   "metadata": {},
   "source": [
    "## 5. Creating video Manifests"
   ]
  },
  {
   "cell_type": "code",
   "execution_count": null,
   "metadata": {},
   "outputs": [],
   "source": []
  }
 ],
 "metadata": {
  "kernelspec": {
   "display_name": "Python 3 (ipykernel)",
   "language": "python",
   "name": "python3"
  },
  "language_info": {
   "codemirror_mode": {
    "name": "ipython",
    "version": 3
   },
   "file_extension": ".py",
   "mimetype": "text/x-python",
   "name": "python",
   "nbconvert_exporter": "python",
   "pygments_lexer": "ipython3",
   "version": "3.11.8"
  }
 },
 "nbformat": 4,
 "nbformat_minor": 4
}
