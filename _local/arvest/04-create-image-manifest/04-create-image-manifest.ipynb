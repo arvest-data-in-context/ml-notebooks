{
 "cells": [
  {
   "cell_type": "markdown",
   "metadata": {},
   "source": [
    "![IIIF Manifest Creation](https://raw.githubusercontent.com/arvest-data-in-context/ml-notebooks/refs/heads/main/docs/images/notebooks/iiif-manifest-creation.png)\n",
    "\n",
    "In this notebook, you'll learn how to create a simple [IIIF](https://iiif.io/) Manifest in python using the [iiif-prezi3](https://github.com/iiif-prezi/iiif-prezi3) package from an image file. We shall take the image file from [Arvest](https://arvest.app) using the [Arvest API](https://github.com/arvest-data-in-context/arvest-api), and upload the Manifest so that you can see straight away how it looks.\n",
    "\n",
    "A IIIF Manifest is a small json file that allows you to bring together different media, set metadata and add annotations. A IIIF Manifest follows a strict format called the [IIIF Presentation API](https://iiif.io/api/presentation/3.0/).\n",
    "\n",
    "**ℹ️ In this notebook we shall take you through the whole process step by step. However, know that we also provide a utility function in the [`arvesttools`](https://github.com/arvest-data-in-context/arvest-api-tools) package called `media_to_manifest()` which essentially does all of this for you. We will show you this at the end of this tutorial, however if you're interested to learn how everyhting is working under the hood, please continue!**"
   ]
  },
  {
   "cell_type": "markdown",
   "metadata": {},
   "source": [
    "# 0. Setup\n",
    "\n",
    "Let's begin by installing and importing all of the different components we will need."
   ]
  },
  {
   "cell_type": "code",
   "execution_count": null,
   "metadata": {},
   "outputs": [],
   "source": [
    "print(\"Installing and importing packages...\")\n",
    "\n",
    "# Uninstall and reinstall packages for a clean environment\n",
    "!pip uninstall -q -y arvestapi\n",
    "!pip uninstall -q -y arvesttools\n",
    "!pip uninstall -q -y jhutils\n",
    "!pip uninstall -q -y iiif_prezi3\n",
    "!pip install -q --disable-pip-version-check git+https://github.com/arvest-data-in-context/arvest-api.git\n",
    "!pip install -q --disable-pip-version-check git+https://github.com/arvest-data-in-context/arvest-api-tools.git\n",
    "!pip install -q --disable-pip-version-check git+https://github.com/jdchart/jh-py-utils.git\n",
    "!pip install -q --disable-pip-version-check git+https://github.com/iiif-prezi/iiif-prezi3.git\n",
    "\n",
    "# Import packages\n",
    "import arvestapi\n",
    "import arvesttools.manifest_creation\n",
    "from jhutils.local_files import read_json, write_json, get_image_info\n",
    "import jhutils.online_files\n",
    "from jhutils.misc import print_progress_bar, slugify\n",
    "import os\n",
    "import iiif_prezi3\n",
    "import shutil\n",
    "import mimetypes\n",
    "mimetypes.add_type('image/webp', '.webp')\n",
    "\n",
    "print(\"👍 Ready!\")"
   ]
  },
  {
   "cell_type": "markdown",
   "metadata": {},
   "source": [
    "# 1. Prepare your media\n",
    "\n",
    "In order to work, IIIF needs the URL of an accesible media file on the internet. There are plenty of services that let you store files and render them accessible, we'll be using media stored on [Arvest](https://arvest.app). The first step, therefore, will be to upload your media to Arvest (there are tutorials for doing this via the API in this repo).\n",
    "\n",
    "First, we need to \"connect\" to Arvest using the Arvest API package. For this, we need our user email and our password which we will give to an instance of the `arvestapi.Arvest()` class. For convenience, we've saved ours in a file which is why we get `LOGIN_DATA` by reading a json file."
   ]
  },
  {
   "cell_type": "code",
   "execution_count": null,
   "metadata": {},
   "outputs": [],
   "source": [
    "LOGIN_DATA = read_json(os.path.join(os.getcwd(), \"login_private.json\"))\n",
    "\n",
    "ar = arvestapi.Arvest(LOGIN_DATA[\"email\"], LOGIN_DATA[\"password\"])\n",
    "print(f\"👍 Succesfully connected to Arvest with \\\"{ar.profile.name}\\\"\")"
   ]
  },
  {
   "cell_type": "markdown",
   "metadata": {},
   "source": [
    "Next we shall choose which media items we want by looking through all of our media items (using the `get_medias()` function), and selecting items according to specific metadata. Here for example, we get all of the media items with the `identifier` `\"API-TUTORIAL-CONTENT-IMAGE\"`."
   ]
  },
  {
   "cell_type": "code",
   "execution_count": null,
   "metadata": {},
   "outputs": [],
   "source": [
    "media_for_manifests = []\n",
    "media_items = ar.get_medias()\n",
    "\n",
    "for media_item in media_items:\n",
    "    media_item_metadata = media_item.get_metadata()\n",
    "    if media_item_metadata[\"identifier\"] == \"API-TUTORIAL-CONTENT-IMAGE\":\n",
    "        media_for_manifests.append(media_item)\n",
    "\n",
    "print(f\"🔍 Found {len(media_for_manifests)} media files corresponding to search criteria.\")"
   ]
  },
  {
   "cell_type": "markdown",
   "metadata": {},
   "source": [
    "**ℹ️ From this point, we will take you through, step by step, how to create IIIF Manifests from the media items. Know that we also provide a utility function in the `arvesttools` package called `media_to_manifest()` which essentially does all of this for you. We will show you this at the end of this tutorial, however if you're interested to learn how everyhting is working under the hood, please continue!**"
   ]
  },
  {
   "cell_type": "markdown",
   "metadata": {},
   "source": [
    "# 2. Get media info\n",
    "In order to create our Manifests, we will need to gather some basic information about our media: notably the **dimensions** of the image. The most reliable way of doing this is to download the media file and then get the information.\n",
    "\n",
    "In the following cell, we get the url of each media item using the `get_full_url()` function, then download the file into a temporary folder defined with `TEMP_FOLDER`. Then we read the image's dimensions using the `get_image_info()` utility function."
   ]
  },
  {
   "cell_type": "code",
   "execution_count": null,
   "metadata": {},
   "outputs": [],
   "source": [
    "TEMP_FOLDER = os.path.join(os.getcwd(), \"_TEMP\")\n",
    "media_info = {}\n",
    "\n",
    "if os.path.isdir(TEMP_FOLDER) == False:\n",
    "    os.makedirs(TEMP_FOLDER)\n",
    "\n",
    "print(\"Downloading and retriving info...\")\n",
    "\n",
    "for i, media_item in enumerate(media_for_manifests):\n",
    "    media_url = media_item.get_full_url()\n",
    "    \n",
    "    print_progress_bar(i + 1, len(media_for_manifests), f\"Processing \\\"{media_item.title}\\\"\")\n",
    "\n",
    "    dl_location = jhutils.online_files.download(media_url, dir = TEMP_FOLDER)\n",
    "\n",
    "    media_info[media_item.id] = {\"info\" : get_image_info(dl_location), \"url\" : media_url}\n",
    "\n",
    "for item in media_info:\n",
    "    print(f\"Media item id \\\"{item}\\\":\\n\\t{media_info[item]}\")\n",
    "\n",
    "print(\"👍 Finished!\")"
   ]
  },
  {
   "cell_type": "markdown",
   "metadata": {},
   "source": [
    "# 3. Create basic Manifests\n",
    "Now we have all of the information we need to create our basic Manifests that point to our media. We shall be using the [iiif-prezi3](https://github.com/iiif-prezi/iiif-prezi3) package which is specifically made for this purpose.\n",
    "\n",
    "We'll start by creating the basic `iiif_prezi3.Manifest()` class. We'll need to give it an `id` and a `label`. Notice that the id is a placeholder. The reason for this, is that the id corresponds to the location where the json file is stored online. As we haven't uploaded it yet, we can't know what this location is! We make the Manifest with a placeholder location, and this will be automaticcaly replaced when we upload the file using the Arvest API. The only part which will persist is the title we give to the json file.. We use `slugify()` to make sure that this strign is \"url safe\"."
   ]
  },
  {
   "cell_type": "code",
   "execution_count": null,
   "metadata": {},
   "outputs": [],
   "source": [
    "# We'll put all of our Manifest objects into a list for iteration:\n",
    "manifests = []\n",
    "\n",
    "print(\"Creating Manifests...\")\n",
    "\n",
    "for i, media_item in enumerate(media_for_manifests):\n",
    "    print_progress_bar(i + 1, len(media_for_manifests), f\"Creating a Manifest for \\\"{media_item.title}\\\"\")\n",
    "\n",
    "    title_sanitized = slugify(media_item.title)\n",
    "\n",
    "    # Creating an instance of the iiif_prezi3.Manifest class:\n",
    "    manifest = iiif_prezi3.Manifest(\n",
    "        id = f\"https://placeholder.com/{title_sanitized}.json\",\n",
    "        label = {\"en\" : [f\"{media_item.title}\"]}\n",
    "    )\n",
    "\n",
    "    manifests.append(manifest)\n",
    "\n",
    "print(\"👍 Finished!\")"
   ]
  },
  {
   "cell_type": "markdown",
   "metadata": {},
   "source": [
    "## Adding a Canvas\n",
    "\n",
    "Next, we'll need to give each Manifest a Canvas - think of this as a \"page\" upon which our media will be painted. For this, we'll create an instance of the `iiif_prezi3.Canvas()` class and add it to the Manifest's `items`.\n",
    "\n",
    "Note that, as well as an `id` and a `label`, we'll also have to give our Canvas a `width` and a `height` which correspond to the width and height of our media."
   ]
  },
  {
   "cell_type": "code",
   "execution_count": null,
   "metadata": {},
   "outputs": [],
   "source": [
    "print(\"Creating Canvases...\")\n",
    "\n",
    "for i, media_item in enumerate(media_for_manifests):\n",
    "    print_progress_bar(i + 1, len(media_for_manifests), f\"Creating a Canvas for \\\"{media_item.title}\\\"\")\n",
    "\n",
    "    # Creating an instance of the iiif_prezi3.Canvas class:\n",
    "    canvas = iiif_prezi3.Canvas(\n",
    "        id = \"https://placeholder.com/canvas/1\",\n",
    "        label = {\"en\" : [f\"{media_item.get_full_url()}\"]},\n",
    "        width = media_info[media_item.id][\"info\"][\"width\"],\n",
    "        height = media_info[media_item.id][\"info\"][\"height\"]\n",
    "    )\n",
    "\n",
    "    # Add the Canvas to the Manifest's list of items:\n",
    "    manifests[i].items.append(canvas)\n",
    "\n",
    "print(\"👍 Finished!\")"
   ]
  },
  {
   "cell_type": "markdown",
   "metadata": {},
   "source": [
    "## Painting the media to the Canvas\n",
    "\n",
    "Now we need to \"paint\" our media onto the Canvas. Following IIIF's Presentation API, we'll need to add an `AnnotationPage` to the Canvases `items`, and add an `Annotation` to the AnnotationPage's items, the `body` of which contains the reference to our media. This can be a bit complicated to follow, so here is a small diagram showing the hierarchy:\n",
    "\n",
    "![IIIF Manifest structure](https://raw.githubusercontent.com/arvest-data-in-context/ml-notebooks/refs/heads/main/docs/images/notebooks/manifest-structure.jpg)"
   ]
  },
  {
   "cell_type": "code",
   "execution_count": null,
   "metadata": {},
   "outputs": [],
   "source": [
    "print(\"Adding media to Canvases...\")\n",
    "\n",
    "for i, media_item in enumerate(media_for_manifests):\n",
    "    print_progress_bar(i + 1, len(media_for_manifests), f\"Adding media for \\\"{media_item.title}\\\"\")\n",
    "\n",
    "    # First, we need to retrieve the media's info, and the file type:\n",
    "    width = media_info[media_item.id][\"info\"][\"width\"]\n",
    "    height = media_info[media_item.id][\"info\"][\"height\"]\n",
    "    mime_type, encoding = mimetypes.guess_type(media_item.get_full_url())\n",
    "\n",
    "    # Then we create an instance of the iiif_prezi3.AnnotationPage class:\n",
    "    annotation_page = iiif_prezi3.AnnotationPage(id = \"https://placeholder.com/canvas/1/page/1\")\n",
    "    \n",
    "    # Creating an instance of the iiif_prezi3.Annotation class:\n",
    "    media_annotation_element = iiif_prezi3.Annotation(\n",
    "        id = \"https://placeholder.com/canvas/1/page/1/1\",\n",
    "        motivation = \"painting\",\n",
    "        target = f\"https://placeholder.com/canvas/1#xywh=0,0,{width},{height}\",\n",
    "        body = {\n",
    "            \"id\" : media_item.get_full_url(),\n",
    "            \"type\" : mime_type.split(\"/\")[0].capitalize(),\n",
    "            \"format\" : mime_type,\n",
    "            \"width\" : width,\n",
    "            \"height\" : height\n",
    "        }\n",
    "    )\n",
    "\n",
    "    # Then we add the Annotation to the AnnotationPage, and the AnnitationPage to the Canvas:\n",
    "    annotation_page.items.append(media_annotation_element)\n",
    "    manifests[i].items[0].items.append(annotation_page)\n",
    "\n",
    "print(\"👍 Finished!\")"
   ]
  },
  {
   "cell_type": "markdown",
   "metadata": {},
   "source": [
    "## Add a thumbnail\n",
    "We've now create our simple Manifest, however, it can be nice to add a thumbnail so that things look a bit prettier in Arvest. We shall use the media item's `thumbnail` url, but you can use anything you want."
   ]
  },
  {
   "cell_type": "code",
   "execution_count": null,
   "metadata": {},
   "outputs": [],
   "source": [
    "print(\"Creating thumbnails...\")\n",
    "\n",
    "for i, media_item in enumerate(media_for_manifests):\n",
    "    \n",
    "    # Get the url of the media item's thumbnail:\n",
    "    thumb_url = media_item.thumbnail_url\n",
    "    if thumb_url != None:\n",
    "        print_progress_bar(i + 1, len(media_for_manifests), f\"Adding thumbnails for \\\"{media_item.title}\\\"\")\n",
    "        \n",
    "        # Get the thumbnail's dimensions and file info:\n",
    "        dl_location = jhutils.online_files.download(thumb_url, dir = TEMP_FOLDER)\n",
    "        thumb_info = get_image_info(dl_location)\n",
    "        mime_type, encoding = mimetypes.guess_type(dl_location)\n",
    "\n",
    "        # Create a thumbnail object:\n",
    "        thumb_object = {\n",
    "            \"id\" : thumb_url,\n",
    "            \"type\" : mime_type.split(\"/\")[0].capitalize(),\n",
    "            \"format\" : mime_type,\n",
    "            \"width\" : thumb_info[\"width\"],\n",
    "            \"height\" : thumb_info[\"height\"]\n",
    "        }\n",
    "\n",
    "        # We'll add the thumbnail to the Manifest as well as the Canvas:\n",
    "        manifests[i].thumbnail = [thumb_object]\n",
    "        manifests[i].items[0].thumbnail = [thumb_object]\n",
    "\n",
    "print(\"👍 Updated Manifest thumbnails!\")"
   ]
  },
  {
   "cell_type": "markdown",
   "metadata": {},
   "source": [
    "## Save to disk\n",
    "Congrats! We've sucessfully created our Manifests. Now we just need to save it to disk as a json file. We'll save it to the `TEMP_FOLDER` as we won't be needing it after.\n",
    "\n",
    "Run the cell and take a look at your Manifests!"
   ]
  },
  {
   "cell_type": "code",
   "execution_count": null,
   "metadata": {},
   "outputs": [],
   "source": [
    "print(\"Saving to disk...\")\n",
    "\n",
    "for i, media_item in enumerate(media_for_manifests):\n",
    "    print_progress_bar(i + 1, len(media_for_manifests), f\"Savign Manifest for \\\"{media_item.title}\\\"\")\n",
    "\n",
    "    title_sanitized = slugify(media_item.title)\n",
    "    write_json(os.path.join(TEMP_FOLDER, f\"{title_sanitized}-manifest.json\"), manifests[i].dict())\n",
    "\n",
    "print(\"👍 Finished!\")"
   ]
  },
  {
   "cell_type": "markdown",
   "metadata": {},
   "source": [
    "# 3. Upload to Arvest\n",
    "Congrats! We've succesfully created our first Manifests. Let's upload them to Arvest in order to see how they look. To do this, we'll use the `add_manifest()` function.\n",
    "\n",
    "`add_manifest()` will take one kwarg, `path`, which is the path to the file we'd like to upload. This is the local path to the Manifest file we have created. We'll also need to set the `update_id` kwarg to `True` so that the placeholder urls get replaced with the new url created when we upload the Manifest to arvest.\n",
    "\n",
    "Let's also modify the **title**, **description** and **thumbnail** of the Manifest item that will be created in Arvest, as well as it's **metadata** (note that this is the Arvest Manifest item's metadata, not the actual metadata of the Manifest itself)."
   ]
  },
  {
   "cell_type": "code",
   "execution_count": null,
   "metadata": {},
   "outputs": [],
   "source": [
    "uploaded_manifests = []\n",
    "count = 0\n",
    "print(\"Uploading files...\")\n",
    "\n",
    "for i, media_item in enumerate(media_for_manifests):\n",
    "    print_progress_bar(i + 1, len(media_for_manifests), f\"Uploading Manifest for \\\"{media_item.title}\\\"\")\n",
    "    \n",
    "    # Add the Manifest here:\n",
    "    title_sanitized = slugify(media_item.title)\n",
    "    added_manifest = ar.add_manifest(path = os.path.join(TEMP_FOLDER, f\"{title_sanitized}-manifest.json\"), update_id = True)\n",
    "    \n",
    "    # Update the Manifest item's info:\n",
    "    added_manifest.update_title(f\"{media_item.title} Manifest\")\n",
    "    added_manifest.update_description(\"An API created Manifest!\")\n",
    "    media_thumb_url = media_item.thumbnail_url\n",
    "    if media_thumb_url != None:\n",
    "        added_manifest.update_thumbnail_url(media_thumb_url)\n",
    "\n",
    "    # Update the Manifest item's metadata:\n",
    "    manifest_metadata = added_manifest.get_metadata()\n",
    "    manifest_metadata[\"creator\"] = \"Batch manifest upload example script\"\n",
    "    manifest_metadata[\"identifier\"] = \"&&BATCH_UPLOAD\"\n",
    "    added_manifest.update_metadata(manifest_metadata)\n",
    "        \n",
    "    uploaded_manifests.append(added_manifest)\n",
    "    count = count + 1\n",
    "\n",
    "print(f\"👏 Added {count} Manifest files to Arvest!\")"
   ]
  },
  {
   "cell_type": "markdown",
   "metadata": {},
   "source": [
    "## View in Arvest\n",
    "Not that our Manifest has been uploaded, we can open it in Arvest. You can either go to your [workspace](https://workspace.arvest.app) and find it in your Manifest ist, or run the following cell to get a direct link to consult the Manifest using the `get_preview_url()` method."
   ]
  },
  {
   "cell_type": "code",
   "execution_count": null,
   "metadata": {},
   "outputs": [],
   "source": [
    "for i, manifest in enumerate(uploaded_manifests):\n",
    "    print(f\"Manifest {i + 1}:\\n\\t{manifest.get_preview_url()}\")"
   ]
  },
  {
   "cell_type": "markdown",
   "metadata": {},
   "source": [
    "Follow our other tutorials to see how to create Manifests with other types of media, and more complicated Manifests, such as multi-page Manifests, Manifests with metadata, and Manifests with Annotations."
   ]
  },
  {
   "cell_type": "markdown",
   "metadata": {},
   "source": [
    "# 4. The quick version: `arvesttools` `media_to_manifest()`\n",
    "\n",
    "Now that we know how everything works, we'll finish by shoing you a utility function which allows you to do all of this in any less lines of code using the [arvesttools](https://github.com/arvest-data-in-context/arvest-api-tools) package and its `media_to_manifest()` function.\n",
    "\n",
    "This function will take an **Arvest media item** and create a IIIF Manifest formated dict from it which can then be saved and uploaded straight to Arvest."
   ]
  },
  {
   "cell_type": "code",
   "execution_count": null,
   "metadata": {},
   "outputs": [],
   "source": [
    "uploaded_manifests = []\n",
    "\n",
    "for i, media_item in enumerate(media_for_manifests):\n",
    "    print_progress_bar(i + 1, len(media_for_manifests), f\"Creating Manifest for \\\"{media_item.title}\\\"\")\n",
    "\n",
    "    # Using the media_to_manifest() fucntion (returns the iiif_prezi3 Manifest):\n",
    "    manifest = arvesttools.manifest_creation.media_to_manifest(media_item)\n",
    "\n",
    "    # Save to disk:\n",
    "    path_on_disk = os.path.join(TEMP_FOLDER, f\"{slugify(media_item.title)}-automatically-created-manifest.json\")\n",
    "    write_json(path_on_disk, manifests[i].dict())\n",
    "\n",
    "    # Upload to Arvest:\n",
    "    added_manifest = ar.add_manifest(path = path_on_disk, update_id = True)\n",
    "\n",
    "    added_manifest.update_title(f\"{media_item.title} Manifest (automatically created)\")\n",
    "    media_thumb_url = media_item.thumbnail_url\n",
    "    if media_thumb_url != None:\n",
    "        added_manifest.update_thumbnail_url(media_thumb_url)\n",
    "\n",
    "    manifest_metadata = added_manifest.get_metadata()\n",
    "    manifest_metadata[\"creator\"] = \"Batch manifest upload example script\"\n",
    "    manifest_metadata[\"identifier\"] = \"&&BATCH_UPLOAD\"\n",
    "    added_manifest.update_metadata(manifest_metadata)\n",
    "\n",
    "    uploaded_manifests.append(added_manifest)\n",
    "\n",
    "print(f\"👏 Finished!\")"
   ]
  },
  {
   "cell_type": "markdown",
   "metadata": {},
   "source": [
    "Like above, get their preview urls here or view them in your [workspace](https://workspace.arvest.app/app/my-projects):"
   ]
  },
  {
   "cell_type": "code",
   "execution_count": null,
   "metadata": {},
   "outputs": [],
   "source": [
    "for i, manifest in enumerate(uploaded_manifests):\n",
    "    print(f\"Manifest {i + 1}:\\n\\t{manifest.get_preview_url()}\")"
   ]
  },
  {
   "cell_type": "markdown",
   "metadata": {},
   "source": [
    "# 5. Cleanup\n",
    "To finish, lets clean up our mess! First, we can delete the temporary folder where the media was downloaded and our Manifests were created."
   ]
  },
  {
   "cell_type": "code",
   "execution_count": null,
   "metadata": {},
   "outputs": [],
   "source": [
    "shutil.rmtree(TEMP_FOLDER)\n",
    "print(f\"🗑️ {TEMP_FOLDER} removed !\")"
   ]
  },
  {
   "cell_type": "markdown",
   "metadata": {},
   "source": [
    "And finally, we can remove from Arvest all of our Manifests. We can get all of our Manifests by using the `get_manifests()` function, then check it's metadata. If it's one of the files we want to remove, we can then use the `remove()` function.\n",
    "\n",
    "**⚠️ Warning: there's no going back after using the remove function, so be careful! To avoid accidential removal, we've added a `REMOVE` variable that need to be set to `True` for the code to run.**"
   ]
  },
  {
   "cell_type": "code",
   "execution_count": null,
   "metadata": {},
   "outputs": [],
   "source": [
    "REMOVE = False\n",
    "\n",
    "if REMOVE:\n",
    "    all_manifests = ar.get_manifests()\n",
    "    count = 0\n",
    "    print(\"Removing manifests...\")\n",
    "\n",
    "    for i, media_file in enumerate(all_manifests):\n",
    "        print_progress_bar(i + 1, len(all_manifests), f\"(Processing file {i + 1}/{len(all_manifests)})\")\n",
    "        media_metadata = media_file.get_metadata()\n",
    "        if media_metadata[\"creator\"] == \"Batch manifest upload example script\" and media_metadata[\"identifier\"] == \"&&BATCH_UPLOAD\":\n",
    "            media_file.remove()\n",
    "            count = count + 1\n",
    "\n",
    "    print(f\"🗑️ Removed {count} Manifest files!\")"
   ]
  }
 ],
 "metadata": {
  "kernelspec": {
   "display_name": "venv",
   "language": "python",
   "name": "python3"
  },
  "language_info": {
   "codemirror_mode": {
    "name": "ipython",
    "version": 3
   },
   "file_extension": ".py",
   "mimetype": "text/x-python",
   "name": "python",
   "nbconvert_exporter": "python",
   "pygments_lexer": "ipython3",
   "version": "3.11.12"
  }
 },
 "nbformat": 4,
 "nbformat_minor": 2
}
