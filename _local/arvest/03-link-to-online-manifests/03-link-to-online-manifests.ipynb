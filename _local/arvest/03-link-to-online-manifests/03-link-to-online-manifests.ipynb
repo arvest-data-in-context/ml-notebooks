{
 "cells": [
  {
   "cell_type": "markdown",
   "metadata": {},
   "source": [
    "![Arvest batch media upload](https://raw.githubusercontent.com/arvest-data-in-context/ml-notebooks/refs/heads/main/docs/images/notebooks/link-online-manifests.png)\n",
    "\n",
    "In this notebook, we shall learn how to add online IIIF Manifests to your Manifest list on [Arvest](https://arvest.app) using the [Arvest API](https://github.com/arvest-data-in-context/arvest-api). This allows you to build up a collection of IIIF Manifests and also organize them according to metadata notably so that you can easily acces them for processing."
   ]
  },
  {
   "cell_type": "markdown",
   "metadata": {},
   "source": [
    "# 0. Setup\n",
    "\n",
    "Let's begin by installing and importing all of the different components we will need."
   ]
  },
  {
   "cell_type": "code",
   "execution_count": null,
   "metadata": {},
   "outputs": [],
   "source": [
    "print(\"Installing and importing packages...\")\n",
    "\n",
    "# Uninstall and reinstall packages for a clean environment\n",
    "!pip uninstall -q -y arvestapi\n",
    "!pip uninstall -q -y jhutils\n",
    "!pip install -q --disable-pip-version-check git+https://github.com/arvest-data-in-context/arvest-api.git\n",
    "!pip install -q --disable-pip-version-check git+https://github.com/jdchart/jh-py-utils.git\n",
    "\n",
    "# Import packages\n",
    "import arvestapi\n",
    "from jhutils.local_files import read_json\n",
    "from jhutils.misc import print_progress_bar\n",
    "import os\n",
    "\n",
    "print(\"👍 Ready!\")"
   ]
  },
  {
   "cell_type": "markdown",
   "metadata": {},
   "source": [
    "# 1. Prepare your media\n",
    "First, we need to get the path to to your IIIF Manifest files. We shall create a list of urls in the `ONLINE_MANIFEST_FILES` variable that leads directly to where a IIIF Manifest file is found online."
   ]
  },
  {
   "cell_type": "code",
   "execution_count": null,
   "metadata": {},
   "outputs": [],
   "source": [
    "ONLINE_MANIFEST_FILES = [\n",
    "    \"https://iiif.harvardartmuseums.org/manifests/object/299843\",\n",
    "    \"https://iiif.bodleian.ox.ac.uk/iiif/manifest/e32a277e-91e2-4a6d-8ba6-cc4bad230410.json\",\n",
    "    \"https://www.e-codices.unifr.ch/metadata/iiif/gau-Fragment/manifest.json\"\n",
    "]"
   ]
  },
  {
   "cell_type": "markdown",
   "metadata": {},
   "source": [
    "# 2. Connect to Arvest\n",
    "Next, we need to \"connect\" to Arvest using the Arvest API package. For this, we need our user email and our password which we will give to an instance of the `arvestapi.Arvest()` class. For convenience, we've saved ours in a file which is why we get `LOGIN_DATA` by reading a json file."
   ]
  },
  {
   "cell_type": "code",
   "execution_count": null,
   "metadata": {},
   "outputs": [],
   "source": [
    "LOGIN_DATA = read_json(os.path.join(os.getcwd(), \"login_private.json\"))\n",
    "\n",
    "ar = arvestapi.Arvest(LOGIN_DATA[\"email\"], LOGIN_DATA[\"password\"])\n",
    "print(f\"👍 Succesfully connected to Arvest with \\\"{ar.profile.name}\\\"\")"
   ]
  },
  {
   "cell_type": "markdown",
   "metadata": {},
   "source": [
    "Now we can add the Manifest to Arvest using the `add_manifest()` function. This will take one kwarg, `path`, which is the path to the file we'd like to upload.\n",
    "\n",
    "We'll first upload the file and put the returned object into a variable called `added_manifest`. This will then allow us to update the **title** and the **description** in Arvest of the media item."
   ]
  },
  {
   "cell_type": "code",
   "execution_count": null,
   "metadata": {},
   "outputs": [],
   "source": [
    "uploaded_manifests = []\n",
    "count = 0\n",
    "print(\"Uploading files...\")\n",
    "\n",
    "for i, manifest_file_path in enumerate(ONLINE_MANIFEST_FILES):\n",
    "    print_progress_bar(i + 1, len(ONLINE_MANIFEST_FILES), f\"(Local file {i + 1}/{len(ONLINE_MANIFEST_FILES)})\")\n",
    "\n",
    "    # Add manifest using the add_manifest() function:\n",
    "    added_manifest = ar.add_manifest(path = manifest_file_path)\n",
    "\n",
    "    # Update the title and description (change this to whatever you want):\n",
    "    added_manifest.update_title(f\"{manifest_file_path} (batch upload file {i + 1}).\")\n",
    "    added_manifest.update_description(f\"Uploaded to demonstrate batch media uploading from a python notebook.\")\n",
    "    \n",
    "    # We add the manifets to a list so that we can retrieve them later:\n",
    "    uploaded_manifests.append(added_manifest)\n",
    "    count = count + 1\n",
    "\n",
    "print(f\"👏 Added {count} media files to Arvest!\")"
   ]
  },
  {
   "cell_type": "markdown",
   "metadata": {},
   "source": [
    "You can now logon to your [workspace](https://workspace.arvest.app/) and see the new Manifest items in your list."
   ]
  },
  {
   "cell_type": "markdown",
   "metadata": {},
   "source": [
    "# 3. Update metadata\n",
    "Finally we can update our Manifest's metadata. Note that this is modifying the Manifest item in Arvest, not the actual content of the Manifest itself. Among other things, this will notably be useful for parsing our documents and making sure that we find the files we need when scripting.\n",
    "\n",
    "We can deal with our metadata as a `dict` in python which we get using the `get_metadata()` function. We can then update this dict and use the `update_metadata()` function to update in Arvest.\n",
    "\n",
    "Check your [workspace](https://workspace.arvest.app/) again to examine how the metadata has been updated."
   ]
  },
  {
   "cell_type": "code",
   "execution_count": null,
   "metadata": {},
   "outputs": [],
   "source": [
    "print(\"Updating metadata...\")\n",
    "\n",
    "for i, added_manifest in enumerate(uploaded_manifests):\n",
    "    print_progress_bar(i + 1, len(uploaded_manifests), f\"(File {i + 1}/{len(uploaded_manifests)})\")\n",
    "\n",
    "    # Get the metadata dict:\n",
    "    media_metadata = added_manifest.get_metadata()\n",
    "\n",
    "    # Update fields:\n",
    "    media_metadata[\"creator\"] = \"Batch manifest upload example script\"\n",
    "    media_metadata[\"identifier\"] = \"&&BATCH_UPLOAD\"\n",
    "\n",
    "    # Update on Arvest:\n",
    "    added_manifest.update_metadata(media_metadata)\n",
    "\n",
    "print(f\"👍 Metadata updated!\")"
   ]
  },
  {
   "cell_type": "markdown",
   "metadata": {},
   "source": [
    "# 4. Batch remove media\n",
    "If we need to remove Manifest files we can do so by parsing through all of our Manifests and checking certain conditions. For example, we can get all of our media files using the `get_manifests()` function, then check it's metadata. If it's one of the files we want to remove, we can then use the `remove()` function.\n",
    "\n",
    "**⚠️ Warning: there's no going back after using the remove function, so be careful! To avoid accidential removal, we've added a `REMOVE` variable that need to be set to `True` for the code to run.**"
   ]
  },
  {
   "cell_type": "code",
   "execution_count": null,
   "metadata": {},
   "outputs": [],
   "source": [
    "REMOVE = True\n",
    "\n",
    "if REMOVE:\n",
    "    count = 0\n",
    "    print(\"Removing files...\")\n",
    "\n",
    "    # Get all of our Manifest files:\n",
    "    all_manifests = ar.get_manifests()\n",
    "    \n",
    "    for i, manifest_file in enumerate(all_manifests):\n",
    "        print_progress_bar(i + 1, len(all_manifests), f\"(Processing file {i + 1}/{len(all_manifests)})\")\n",
    "        \n",
    "        # Get the Manifest item's metadata and check if it matches some conditions:\n",
    "        manifest_metadata = manifest_file.get_metadata()\n",
    "        if manifest_metadata[\"creator\"] == \"Batch manifest upload example script\" and manifest_metadata[\"identifier\"] == \"&&BATCH_UPLOAD\":\n",
    "            \n",
    "            # Remove the item:\n",
    "            manifest_file.remove()\n",
    "            count = count + 1\n",
    "\n",
    "    print(f\"🗑️ Removed {count} manifest files!\")"
   ]
  }
 ],
 "metadata": {
  "kernelspec": {
   "display_name": "venv",
   "language": "python",
   "name": "python3"
  },
  "language_info": {
   "codemirror_mode": {
    "name": "ipython",
    "version": 3
   },
   "file_extension": ".py",
   "mimetype": "text/x-python",
   "name": "python",
   "nbconvert_exporter": "python",
   "pygments_lexer": "ipython3",
   "version": "3.11.10"
  }
 },
 "nbformat": 4,
 "nbformat_minor": 2
}
