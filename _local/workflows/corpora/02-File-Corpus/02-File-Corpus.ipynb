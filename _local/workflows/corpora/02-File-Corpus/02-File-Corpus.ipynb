{
 "cells": [
  {
   "cell_type": "markdown",
   "metadata": {},
   "source": [
    "![File Corpus](https://raw.githubusercontent.com/arvest-data-in-context/ml-notebooks/refs/heads/main/docs/images/notebooks/files-to-corpus.png)\n",
    "\n",
    "In this notebook, we shall see how we can turn a folder of files on your computer into a corpus. We will gather the information about each file, create a IIIF Manifest for each file, and then upload them to [Arvest](https://arvest.app)."
   ]
  },
  {
   "cell_type": "markdown",
   "metadata": {},
   "source": [
    "# 0. Setup\n",
    "\n",
    "Let's begin by installing and importing all of the different components we will need."
   ]
  },
  {
   "cell_type": "code",
   "execution_count": null,
   "metadata": {},
   "outputs": [],
   "source": [
    "print(\"Installing and importing packages...\")\n",
    "\n",
    "# Uninstall and reinstall packages for a clean environment\n",
    "!pip uninstall -q -y arvestapi\n",
    "!pip uninstall -q -y arvesttools\n",
    "!pip uninstall -q -y jhutils\n",
    "!pip uninstall -q -y iiif_prezi3\n",
    "!pip install -q --disable-pip-version-check git+https://github.com/arvest-data-in-context/arvest-api.git\n",
    "!pip install -q --disable-pip-version-check git+https://github.com/arvest-data-in-context/arvest-api-tools.git\n",
    "!pip install -q --disable-pip-version-check git+https://github.com/jdchart/jh-py-utils.git\n",
    "!pip install -q --disable-pip-version-check git+https://github.com/iiif-prezi/iiif-prezi3.git\n",
    "!pip install -q --disable-pip-version-check git+https://github.com/distant-viewing/dvt.git\n",
    "\n",
    "# Import packages\n",
    "import arvestapi\n",
    "import arvesttools.manifest_creation\n",
    "from jhutils.local_files import read_json, write_json, collect_files, get_file_info, read_txt\n",
    "import jhutils.online_files\n",
    "from jhutils.misc import print_progress_bar, slugify\n",
    "from jhutils.html import html_to_png\n",
    "import os\n",
    "import iiif_prezi3\n",
    "import shutil\n",
    "from PIL import ImageDraw\n",
    "\n",
    "TEMP_FOLDER = os.path.join(os.getcwd(), \"_TEMP\")\n",
    "if os.path.isdir(TEMP_FOLDER) == False:\n",
    "    os.makedirs(TEMP_FOLDER)\n",
    "\n",
    "print(\"👍 Ready!\")"
   ]
  },
  {
   "cell_type": "markdown",
   "metadata": {},
   "source": [
    "# 1. Get files and info\n",
    "To start, let's get all of the files we have in a `SOURCE_FOLDER`, and then gather all of each file's information using the `get_file_info` helper function. The second argument in this function hides private file information when set to `True`."
   ]
  },
  {
   "cell_type": "code",
   "execution_count": null,
   "metadata": {},
   "outputs": [],
   "source": [
    "SOURCE_FOLDER = \"/Users/jacob/Documents/sound/projects\"\n",
    "\n",
    "print(f\"Collecting info about the files in {SOURCE_FOLDER}...\")\n",
    "file_list = collect_files(SOURCE_FOLDER)\n",
    "file_info_list = []\n",
    "\n",
    "for file in file_list:\n",
    "    file_info_list.append(get_file_info(file, False)) # True hides private information\n",
    "\n",
    "print(f\"👍 Found info about {len(file_info_list)} files!\")"
   ]
  },
  {
   "cell_type": "markdown",
   "metadata": {},
   "source": [
    "To see the results, print a range of the files here:"
   ]
  },
  {
   "cell_type": "code",
   "execution_count": null,
   "metadata": {},
   "outputs": [],
   "source": [
    "for file_info in file_info_list[0:1]:\n",
    "    print(file_info)"
   ]
  },
  {
   "cell_type": "markdown",
   "metadata": {},
   "source": [
    "# 2. Create media\n",
    "Next, we will need a media file to upload for each file. If image files, we shall upload the actual image to Arvest, but for other file types, we shall create a small image that give's the file's basic information.\n",
    "\n",
    "To create the image, we define a function called `file_to_image()` which will insert file info into an html string, which then gets converted to pdf, and in turn converted to an image."
   ]
  },
  {
   "cell_type": "code",
   "execution_count": null,
   "metadata": {},
   "outputs": [],
   "source": [
    "data = {}\n",
    "\n",
    "for i, file_info in enumerate(file_info_list):\n",
    "    print_progress_bar(i + 1, len(file_info_list), f\"(Creating media for {file_info['basename']})...\")\n",
    "\n",
    "    original_file = os.path.join(file_info['dir'], file_info['basename'])\n",
    "\n",
    "    was_image = False\n",
    "    if file_info['mimetype'] != None:\n",
    "        if str(file_info['mimetype']).split('/')[0] == \"image\":\n",
    "            shutil.copy(original_file, os.path.join(TEMP_FOLDER, file_info['basename']))\n",
    "            was_image = True\n",
    "\n",
    "            data[original_file] = {\n",
    "                \"media_file\" : os.path.join(TEMP_FOLDER, file_info['basename']),\n",
    "                \"was_image\" : was_image\n",
    "            }\n",
    "    \n",
    "    if was_image == False:\n",
    "        image_path = os.path.join(TEMP_FOLDER, f\"{os.path.splitext(os.path.basename(file_info['basename']))[0]}.png\")\n",
    "\n",
    "        html_template = read_txt(os.path.join(os.getcwd(), \"html_template.html\"))\n",
    "        html_template = html_template.replace(\"&&FILENAME\", file_info[\"basename\"])\n",
    "        html_template = html_template.replace(\"&&FILESIZE\", str(file_info[\"size_bytes\"]))\n",
    "        html_template = html_template.replace(\"&&MIMETYPE\", str(file_info[\"mimetype\"]))\n",
    "        html_template = html_template.replace(\"&&FILEDIR\", str(file_info[\"dir\"]))\n",
    "        html_template = html_template.replace(\"&&CREATED\", str(file_info[\"created\"]))\n",
    "        html_template = html_template.replace(\"&&MODIFIED\", str(file_info[\"modified\"]))\n",
    "\n",
    "        this_image_posiitons = await html_to_png(html_template, image_path, wrapper_id = \"wrapper\", element_ids = [\"location_element\", \"size_element\", \"mimetype_element\", \"created_element\", \"modified_element\"])\n",
    "\n",
    "        data[original_file] = {\n",
    "            \"media_file\" : image_path,\n",
    "            \"media_positions\" : this_image_posiitons,\n",
    "            \"was_image\" : was_image\n",
    "        }\n",
    "\n",
    "write_json(os.path.join(TEMP_FOLDER, \"_media_data.json\"), data)\n",
    "write_json(os.path.join(TEMP_FOLDER, \"_file_data.json\"), {\"files\" : file_info_list})"
   ]
  },
  {
   "cell_type": "markdown",
   "metadata": {},
   "source": [
    "# 3. Upload to Arvest\n",
    "Now we can upload everything to Arvest in the form of meida items and IIIF Manifests that include al of the metadata.\n",
    "\n",
    "First, we need to \"connect\" to Arvest using the Arvest API package. For this, we need our user email and our password which we will give to an instance of the `arvestapi.Arvest()` class. For convenience, we've saved ours in a file which is why we get `LOGIN_DATA` by reading a json file."
   ]
  },
  {
   "cell_type": "code",
   "execution_count": null,
   "metadata": {},
   "outputs": [],
   "source": [
    "# First, let's connect to our Arvest account:\n",
    "LOGIN_DATA = os.path.join(os.getcwd(), \"login_private.json\")\n",
    "credentials = read_json(LOGIN_DATA)\n",
    "\n",
    "ar = arvestapi.Arvest(credentials[\"email\"], credentials[\"password\"])\n",
    "print(f\"👍 Succesfully connected to Arvest with \\\"{ar.profile.name}\\\"\")"
   ]
  },
  {
   "cell_type": "markdown",
   "metadata": {},
   "source": [
    "We'll first need to upload all of the images to Arvest. To do this, we'll use the `add_media()` function. We'll keep a track of the media items so that we can create our IIIF Manifests from them after."
   ]
  },
  {
   "cell_type": "code",
   "execution_count": null,
   "metadata": {},
   "outputs": [],
   "source": [
    "media_data = read_json(os.path.join(TEMP_FOLDER, \"_media_data.json\"))\n",
    "files_data = read_json(os.path.join(TEMP_FOLDER, \"_file_data.json\"))[\"files\"]\n",
    "arvest_media_items = {}\n",
    "\n",
    "for i, file_info in enumerate(files_data):\n",
    "    print_progress_bar(i + 1, len(files_data), f\"(uploading {file_info['basename']})...\")\n",
    "\n",
    "    original_file = os.path.join(file_info['dir'], file_info['basename'])\n",
    "    media_path = media_data[original_file][\"media_file\"]\n",
    "\n",
    "    added_media = ar.add_media(path = media_path)\n",
    "\n",
    "    added_media.update_title(f\"{file_info['basename']}\")\n",
    "    added_media.update_description(f\"An item from my file corpus\")\n",
    "    \n",
    "    media_metadata = added_media.get_metadata()\n",
    "    media_metadata[\"creator\"] = \"Folder to corpus tutorial script\"\n",
    "    media_metadata[\"identifier\"] = \"&&FOLDER-TO-CORPUS\"\n",
    "    added_media.update_metadata(media_metadata)\n",
    "\n",
    "    arvest_media_items[original_file] = added_media\n",
    "\n",
    "print(\"👍 Finished uploading to Arvest!\")"
   ]
  },
  {
   "cell_type": "markdown",
   "metadata": {},
   "source": [
    "Now we can create a IIIF Manifest from our media files using the [arvesttools](https://github.com/arvest-data-in-context/arvest-api-tools) `media_to_manifest()` function."
   ]
  },
  {
   "cell_type": "code",
   "execution_count": null,
   "metadata": {},
   "outputs": [],
   "source": [
    "for i, file_info in enumerate(files_data):\n",
    "    print_progress_bar(i + 1, len(files_data), f\"(uploading {file_info['basename']})...\")\n",
    "\n",
    "    original_file = os.path.join(file_info['dir'], file_info['basename'])\n",
    "\n",
    "    media_item = arvest_media_items[original_file]\n",
    "\n",
    "    manifest = arvesttools.manifest_creation.media_to_manifest(media_item)\n",
    "\n",
    "    metadata = []\n",
    "    for key in file_info:\n",
    "        metadata.append({\n",
    "            \"label\" : {\"en\" : [f\"{key}\"]},\n",
    "            \"value\" : {\"en\" : [f\"{str(file_info[key])}\"]}\n",
    "        })\n",
    "    \n",
    "    manifest.metadata = metadata\n",
    "    manifest.label = {\"en\" : [f\"{file_info['basename']}\"]}\n",
    "\n",
    "\n",
    "    out_path = os.path.join(TEMP_FOLDER, f\"{slugify(file_info['basename'])}-manifest.json\")\n",
    "    write_json(out_path, manifest.dict())\n",
    "    added_manifest = ar.add_manifest(path = out_path)\n",
    "\n",
    "    added_manifest.update_title(f\"{file_info['basename']}\")\n",
    "    added_manifest.update_description(f\"An item from my file corpus\")\n",
    "    if media_item.thumbnail_url != None:\n",
    "        added_manifest.update_thumbnail_url(media_item.thumbnail_url)\n",
    "    \n",
    "    manifest_metadata = added_manifest.get_metadata()\n",
    "    manifest_metadata[\"creator\"] = \"Folder to corpus tutorial script\"\n",
    "    manifest_metadata[\"identifier\"] = \"&&FOLDER-TO-CORPUS\"\n",
    "    added_manifest.update_metadata(manifest_metadata)\n",
    "\n",
    "print(\"👍 Finished uploading to Arvest!\")"
   ]
  },
  {
   "cell_type": "markdown",
   "metadata": {},
   "source": [
    "You can now view the Manifests in your Arvest [workspace](https://workspace.arvest.app/)."
   ]
  },
  {
   "cell_type": "markdown",
   "metadata": {},
   "source": [
    "# 5. Cleanup\n",
    "To finish, lets clean up our mess! First, we can delete the temporary folder where the media was downloaded and our Manifests were created."
   ]
  },
  {
   "cell_type": "code",
   "execution_count": null,
   "metadata": {},
   "outputs": [],
   "source": [
    "shutil.rmtree(TEMP_FOLDER)\n",
    "print(f\"🗑️ {TEMP_FOLDER} removed !\")"
   ]
  },
  {
   "cell_type": "markdown",
   "metadata": {},
   "source": [
    "And finally, if we want, we can remove the items uploaded to Arvest.\n",
    "\n",
    "**⚠️ Warning: there's no going back after using the remove function, so be careful! To avoid accidential removal, we've added a `REMOVE` variable that need to be set to `True` for the code to run.**"
   ]
  },
  {
   "cell_type": "code",
   "execution_count": null,
   "metadata": {},
   "outputs": [],
   "source": [
    "REMOVE = False\n",
    "\n",
    "if REMOVE:\n",
    "    count = 0\n",
    "    print(\"Removing files...\")\n",
    "\n",
    "    # Get all of our media files:\n",
    "    all_media = ar.get_manifests()\n",
    "    \n",
    "    for i, media_file in enumerate(all_media):\n",
    "        print_progress_bar(i + 1, len(all_media), f\"(Processing file {i + 1}/{len(all_media)})\")\n",
    "        \n",
    "        # Get the media item's metadata and check if it matches some conditions:\n",
    "        media_metadata = media_file.get_metadata()\n",
    "        if media_metadata[\"creator\"] == \"Folder to corpus tutorial script\" and media_metadata[\"identifier\"] == \"&&FOLDER-TO-CORPUS\":\n",
    "            \n",
    "            # Remove the item:\n",
    "            media_file.remove()\n",
    "            count = count + 1\n",
    "\n",
    "    # Get all of our media files:\n",
    "    all_media = ar.get_medias()\n",
    "    \n",
    "    for i, media_file in enumerate(all_media):\n",
    "        print_progress_bar(i + 1, len(all_media), f\"(Processing file {i + 1}/{len(all_media)})\")\n",
    "        \n",
    "        # Get the media item's metadata and check if it matches some conditions:\n",
    "        media_metadata = media_file.get_metadata()\n",
    "        if media_metadata[\"creator\"] == \"Folder to corpus tutorial script\" and media_metadata[\"identifier\"] == \"&&FOLDER-TO-CORPUS\":\n",
    "            \n",
    "            # Remove the item:\n",
    "            media_file.remove()\n",
    "            count = count + 1\n",
    "\n",
    "    print(f\"🗑️ Removed {count} media files!\")"
   ]
  }
 ],
 "metadata": {
  "kernelspec": {
   "display_name": "venv",
   "language": "python",
   "name": "python3"
  },
  "language_info": {
   "codemirror_mode": {
    "name": "ipython",
    "version": 3
   },
   "file_extension": ".py",
   "mimetype": "text/x-python",
   "name": "python",
   "nbconvert_exporter": "python",
   "pygments_lexer": "ipython3",
   "version": "3.11.10"
  }
 },
 "nbformat": 4,
 "nbformat_minor": 2
}
