{
 "cells": [
  {
   "cell_type": "markdown",
   "metadata": {},
   "source": [
    "**this is still being worked on**"
   ]
  },
  {
   "cell_type": "code",
   "execution_count": 2,
   "metadata": {},
   "outputs": [
    {
     "name": "stdout",
     "output_type": "stream",
     "text": [
      "Installing and importing packages...\n",
      "\u001b[33mWARNING: Skipping bs4 as it is not installed.\u001b[0m\u001b[33m\n",
      "\u001b[0m👍 Ready!\n"
     ]
    }
   ],
   "source": [
    "print(\"Installing and importing packages...\")\n",
    "\n",
    "# Uninstall and reinstall packages for a clean environment\n",
    "!pip uninstall -q -y jhutils\n",
    "!pip uninstall -q -y bs4\n",
    "!pip install -q --disable-pip-version-check git+https://github.com/jdchart/jh-py-utils.git\n",
    "!pip install -q --disable-pip-version-check beautifulsoup4\n",
    "\n",
    "# Import packages\n",
    "from jhutils.local_files import read_json, write_json, get_audio_info, get_video_info, get_image_info\n",
    "import jhutils.online_files\n",
    "from jhutils.misc import print_progress_bar\n",
    "import os\n",
    "import shutil\n",
    "import requests\n",
    "from bs4 import BeautifulSoup\n",
    "\n",
    "print(\"👍 Ready!\")"
   ]
  },
  {
   "cell_type": "markdown",
   "metadata": {},
   "source": [
    "## Wikimedia commons"
   ]
  },
  {
   "cell_type": "code",
   "execution_count": null,
   "metadata": {},
   "outputs": [
    {
     "name": "stdout",
     "output_type": "stream",
     "text": [
      "Processing https://commons.wikimedia.org/w/index.php?search=paris&title=Special:MediaSearch&type=image&filemime=png\n"
     ]
    },
    {
     "ename": "TypeError",
     "evalue": "'NoneType' object is not iterable",
     "output_type": "error",
     "traceback": [
      "\u001b[31m---------------------------------------------------------------------------\u001b[39m",
      "\u001b[31mTypeError\u001b[39m                                 Traceback (most recent call last)",
      "\u001b[36mCell\u001b[39m\u001b[36m \u001b[39m\u001b[32mIn[3]\u001b[39m\u001b[32m, line 28\u001b[39m\n\u001b[32m     25\u001b[39m image_list = process_page(COLLECTION_URL)\n\u001b[32m     26\u001b[39m parsed_images = []\n\u001b[32m---> \u001b[39m\u001b[32m28\u001b[39m \u001b[38;5;28;43;01mfor\u001b[39;49;00m\u001b[43m \u001b[49m\u001b[43mitem\u001b[49m\u001b[43m \u001b[49m\u001b[38;5;129;43;01min\u001b[39;49;00m\u001b[43m \u001b[49m\u001b[43mimage_list\u001b[49m\u001b[43m:\u001b[49m\n\u001b[32m     29\u001b[39m \u001b[43m    \u001b[49m\u001b[43mwithout_end\u001b[49m\u001b[43m \u001b[49m\u001b[43m=\u001b[49m\u001b[43m \u001b[49m\u001b[43mitem\u001b[49m\u001b[43m.\u001b[49m\u001b[43mreplace\u001b[49m\u001b[43m(\u001b[49m\u001b[33;43m'\u001b[39;49m\u001b[33;43m 1.5x\u001b[39;49m\u001b[33;43m'\u001b[39;49m\u001b[43m,\u001b[49m\u001b[33;43m'\u001b[39;49m\u001b[33;43m'\u001b[39;49m\u001b[43m)\u001b[49m\n\u001b[32m     31\u001b[39m \u001b[43m    \u001b[49m\u001b[43mnew_prefix\u001b[49m\u001b[43m \u001b[49m\u001b[43m=\u001b[49m\u001b[43m \u001b[49m\u001b[43mwithout_end\u001b[49m\u001b[43m.\u001b[49m\u001b[43mreplace\u001b[49m\u001b[43m(\u001b[49m\u001b[33;43m'\u001b[39;49m\u001b[33;43mhttps://upload.wikimedia.org/wikipedia/commons/thumb/\u001b[39;49m\u001b[33;43m'\u001b[39;49m\u001b[43m,\u001b[49m\u001b[43m \u001b[49m\u001b[33;43m'\u001b[39;49m\u001b[33;43mhttps://upload.wikimedia.org/wikipedia/commons/\u001b[39;49m\u001b[33;43m'\u001b[39;49m\u001b[43m)\u001b[49m\n",
      "\u001b[31mTypeError\u001b[39m: 'NoneType' object is not iterable"
     ]
    }
   ],
   "source": [
    "COLLECTION_URL = \"https://commons.wikimedia.org/wiki/Category:JPG_photos\"\n",
    "\n",
    "TEMP_FOLDER = os.path.join(os.getcwd(), \"_TEMP\")\n",
    "OUTPUT_PATH = os.path.join(os.getcwd(), \"wikimedia-commons-small-jpg.json\")\n",
    "\n",
    "print(f\"Processing {COLLECTION_URL}\")\n",
    "\n",
    "# Get urls\n",
    "def process_page(url):\n",
    "    response = requests.get(f\"{url}\")\n",
    "    if response.status_code != 200:\n",
    "        return None\n",
    "    else:\n",
    "        soup = BeautifulSoup(response.text, 'html.parser')\n",
    "        element = soup.find(class_ = \"gallery\")\n",
    "        if not element:\n",
    "            return None\n",
    "        else:\n",
    "            images = element.find_all('img')\n",
    "            img_srcs = [img['srcset'] for img in images if 'srcset' in img.attrs]\n",
    "            if not img_srcs:\n",
    "                return None\n",
    "            return img_srcs\n",
    "        \n",
    "image_list = process_page(COLLECTION_URL)\n",
    "parsed_images = []\n",
    "\n",
    "for item in image_list:\n",
    "    without_end = item.replace(' 1.5x','')\n",
    "\n",
    "    new_prefix = without_end.replace('https://upload.wikimedia.org/wikipedia/commons/thumb/', 'https://upload.wikimedia.org/wikipedia/commons/')\n",
    "    actual_path = new_prefix.split(\".jpg/\")[0] + \".jpg\"\n",
    "\n",
    "    parsed_images.append(without_end)\n",
    "\n",
    "if os.path.isdir(TEMP_FOLDER) == False:\n",
    "    os.makedirs(TEMP_FOLDER)\n",
    "\n",
    "output_data = {\"images\" : []}\n",
    "\n",
    "for i, image_url in enumerate(parsed_images):\n",
    "    #print_progress_bar(i, len(parsed_images) - 1, f\"Treating {os.path.basename(image_url)}\")\n",
    "    \n",
    "    print(image_url)\n",
    "\n",
    "    to_add = {\"url\" : image_url}\n",
    "    dl_path = jhutils.online_files.download(image_url, dir = TEMP_FOLDER)\n",
    "    \n",
    "    if os.path.isfile(dl_path):\n",
    "        img_info = get_image_info(dl_path)\n",
    "        to_add[\"data\"] = img_info\n",
    "\n",
    "        output_data[\"images\"].append(to_add)\n",
    "        write_json(OUTPUT_PATH, output_data)\n",
    "\n",
    "shutil.rmtree(TEMP_FOLDER)"
   ]
  },
  {
   "cell_type": "markdown",
   "metadata": {},
   "source": [
    "# Library of Congress Collection"
   ]
  },
  {
   "cell_type": "code",
   "execution_count": null,
   "metadata": {},
   "outputs": [],
   "source": [
    "COLLECTION_URL = \"https://www.loc.gov/collections/fsa-owi-color-photographs\"\n",
    "TEMP_FOLDER = os.path.join(os.getcwd(), \"_TEMP\")\n",
    "OUTPUT_PATH = os.path.join(os.getcwd(), \"fsa-owi-color-photographs.json\")\n",
    "\n",
    "print(f\"Processing {COLLECTION_URL}\")\n",
    "\n",
    "# Get urls\n",
    "def process_page(url, page_index):\n",
    "    response = requests.get(f\"{url}/?fa=access-restricted:false&&st=list&c=150&sp={page_index}\")\n",
    "    if response.status_code != 200:\n",
    "        return None\n",
    "    else:\n",
    "        soup = BeautifulSoup(response.text, 'html.parser')\n",
    "        element = soup.find(class_ = \"search-results\")\n",
    "        if not element:\n",
    "            return None\n",
    "        else:\n",
    "            images = element.find_all('img', class_ = \"iconic\")\n",
    "            img_srcs = [img['src'] for img in images if 'src' in img.attrs]\n",
    "            if not img_srcs:\n",
    "                return None\n",
    "            return img_srcs\n",
    "\n",
    "image_list = []\n",
    "found_last_page = False\n",
    "count = 1\n",
    "while found_last_page == False:\n",
    "    rep = process_page(COLLECTION_URL, count)\n",
    "    if rep == None:\n",
    "        found_last_page = True\n",
    "        break\n",
    "    else:\n",
    "        image_list.extend(rep)\n",
    "        count = count + 1\n",
    "\n",
    "print(f\"Found {len(image_list)} images...\")\n",
    "\n",
    "if os.path.isdir(TEMP_FOLDER) == False:\n",
    "    os.makedirs(TEMP_FOLDER)\n",
    "\n",
    "output_data = {\"images\" : []}\n",
    "\n",
    "for i, item in enumerate(image_list):\n",
    "    image_url_thumb = item.split(\"#\")[0]\n",
    "    image_url = image_url_thumb.replace(\"_150px\", \"v\")\n",
    "\n",
    "    if image_url != \"https://tile.loc.gov/storage-services/service/pnp/fsac/1a33000/1a33800/1a33881v.jpg\":\n",
    "\n",
    "        print_progress_bar(i, len(image_list) - 1, f\"Treating {os.path.basename(image_url)}\")\n",
    "\n",
    "        to_add = {\"url\" : image_url}\n",
    "        jhutils.online_files.download(image_url, dir = TEMP_FOLDER)\n",
    "        img_info = get_image_info(os.path.join(TEMP_FOLDER, os.path.basename(image_url)))\n",
    "        to_add[\"data\"] = img_info\n",
    "\n",
    "        jhutils.online_files.download(image_url_thumb, dir = TEMP_FOLDER)\n",
    "        thumb_info = get_image_info(os.path.join(TEMP_FOLDER, os.path.basename(image_url_thumb)))\n",
    "        to_add[\"thumbnail\"] = {\"url\" : image_url_thumb, \"data\" : thumb_info}\n",
    "\n",
    "        output_data[\"images\"].append(to_add)\n",
    "        write_json(OUTPUT_PATH, output_data)\n",
    "\n",
    "shutil.rmtree(TEMP_FOLDER)\n"
   ]
  }
 ],
 "metadata": {
  "kernelspec": {
   "display_name": "venv",
   "language": "python",
   "name": "python3"
  },
  "language_info": {
   "codemirror_mode": {
    "name": "ipython",
    "version": 3
   },
   "file_extension": ".py",
   "mimetype": "text/x-python",
   "name": "python",
   "nbconvert_exporter": "python",
   "pygments_lexer": "ipython3",
   "version": "3.11.10"
  }
 },
 "nbformat": 4,
 "nbformat_minor": 2
}
