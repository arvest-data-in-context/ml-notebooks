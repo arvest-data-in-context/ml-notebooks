{
 "cells": [
  {
   "cell_type": "markdown",
   "metadata": {},
   "source": [
    "![Image embedding projection](https://raw.githubusercontent.com/arvest-data-in-context/ml-notebooks/refs/heads/main/docs/images/notebooks/image-embedding-projection.png)\n",
    "\n",
    "In this notebook, we shall take a group of images, perform an embedding analysis using the [Distant Viewing Toolkit](https://github.com/distant-viewing/dvt), and then project this data into a 2 dimensional space. This is then exported as an annotated IIIF Manifest that can be opened in [Arvest](https://arvest.app), rendering an interface very similar to [PixPlot](https://dhlab.yale.edu/projects/pixplot/)."
   ]
  },
  {
   "cell_type": "markdown",
   "metadata": {},
   "source": [
    "# 0. Setup\n",
    "\n",
    "Let's begin by installing and importing all of the different components we will need."
   ]
  },
  {
   "cell_type": "code",
   "execution_count": 20,
   "metadata": {},
   "outputs": [
    {
     "name": "stdout",
     "output_type": "stream",
     "text": [
      "Installing and importing packages...\n",
      "👍 Ready!\n"
     ]
    }
   ],
   "source": [
    "print(\"Installing and importing packages...\")\n",
    "\n",
    "# Uninstall and reinstall packages for a clean environment\n",
    "!pip uninstall -q -y arvestapi\n",
    "!pip uninstall -q -y jhutils\n",
    "!pip uninstall -q -y iiif_prezi3\n",
    "!pip uninstall -q -y dvt\n",
    "!pip install -q --disable-pip-version-check git+https://github.com/arvest-data-in-context/arvest-api.git\n",
    "!pip install -q --disable-pip-version-check git+https://github.com/jdchart/jh-py-utils.git\n",
    "!pip install -q --disable-pip-version-check git+https://github.com/iiif-prezi/iiif-prezi3.git\n",
    "!pip install -q --disable-pip-version-check git+https://github.com/distant-viewing/dvt.git\n",
    "!pip install -q --disable-pip-version-check opencv-python\n",
    "!pip install -q --disable-pip-version-check scikit-learn\n",
    "!pip install -q --disable-pip-version-check matplotlib\n",
    "\n",
    "# Import packages\n",
    "import arvestapi\n",
    "from jhutils.local_files import read_json, write_json, get_audio_info, get_video_info, get_image_info\n",
    "import jhutils.online_files\n",
    "from jhutils.misc import print_progress_bar\n",
    "import os\n",
    "import dvt\n",
    "import iiif_prezi3\n",
    "import shutil\n",
    "import requests\n",
    "import json\n",
    "import cv2\n",
    "import numpy as np\n",
    "from sklearn.manifold import TSNE\n",
    "from sklearn.decomposition import PCA\n",
    "from sklearn.preprocessing import MinMaxScaler\n",
    "from sklearn.preprocessing import StandardScaler\n",
    "from sklearn.cluster import KMeans\n",
    "import matplotlib.pyplot as plt\n",
    "from PIL import Image\n",
    "import random\n",
    "import mimetypes\n",
    "\n",
    "TEMP_FOLDER = os.path.join(os.getcwd(), \"_TEMP\")\n",
    "if os.path.isdir(TEMP_FOLDER) == False:\n",
    "    os.makedirs(TEMP_FOLDER)\n",
    "\n",
    "print(\"👍 Ready!\")"
   ]
  },
  {
   "cell_type": "markdown",
   "metadata": {},
   "source": [
    "# 1. Prepare images\n",
    "You will first need a corpus of images to process. Here we give the example of a collection of images hosted by the Library of Congress."
   ]
  },
  {
   "cell_type": "code",
   "execution_count": 2,
   "metadata": {},
   "outputs": [
    {
     "name": "stdout",
     "output_type": "stream",
     "text": [
      "Loaded a corpus of 165 images.\n"
     ]
    }
   ],
   "source": [
    "CORPUS_URL = \"https://raw.githubusercontent.com/arvest-data-in-context/ml-notebooks/refs/heads/main/test-corpora/fsa-owi-color-photographs.json\"\n",
    "\n",
    "response = requests.get(CORPUS_URL)\n",
    "if response.status_code == 200:\n",
    "    corpus = json.loads(response.text)[\"images\"]\n",
    "\n",
    "print(f\"Loaded a corpus of {len(corpus)} images.\")"
   ]
  },
  {
   "cell_type": "markdown",
   "metadata": {},
   "source": [
    "# 2. Process embeddings\n",
    "Next we can use the distant viewing toolkit to map the images within an embedding space. The first time you use dvt it will download the model onto your computer. We'll save the embedding data as a numpy file so that we don't have to run this step again."
   ]
  },
  {
   "cell_type": "code",
   "execution_count": 8,
   "metadata": {},
   "outputs": [
    {
     "name": "stdout",
     "output_type": "stream",
     "text": [
      "|██████████████████████████████████████████████████| 100.0% Complete Treating 1a34181v.jpg\n",
      "[[ 0.23093319  0.2118901   0.364574   ...  0.09283781  0.02314256\n",
      "   0.1944712 ]\n",
      " [ 0.03674947  0.4208375   0.4882737  ...  0.45851144 -0.1185564\n",
      "  -0.0648063 ]\n",
      " [ 0.05495544  0.41608045  0.43657443 ...  0.15191904 -0.12234852\n",
      "   0.01773163]\n",
      " ...\n",
      " [ 0.13900533 -0.07040443 -0.0549368  ...  0.89675826  0.12317013\n",
      "  -0.00938884]\n",
      " [-0.09091117  0.08704858  0.41765168 ...  0.5094684  -0.01115491\n",
      "  -0.03740339]\n",
      " [ 0.01363899  0.3084128   0.09169351 ... -0.00226397  0.17920673\n",
      "   0.02145796]]\n"
     ]
    }
   ],
   "source": [
    "EMBEDDINGS_FILE = os.path.join(os.getcwd(), \"embeddings.npy\")\n",
    "\n",
    "embedder = dvt.AnnoEmbed()\n",
    "\n",
    "for i, image_data in enumerate(corpus):\n",
    "    print_progress_bar(i, len(corpus) - 1, f\"Treating {os.path.basename(image_data['url'])}\")\n",
    "    jhutils.online_files.download(image_data[\"url\"], dir = TEMP_FOLDER)\n",
    "    image_as_np = cv2.imread(os.path.join(TEMP_FOLDER, os.path.basename(image_data[\"url\"])))\n",
    "    image_as_np = cv2.cvtColor(image_as_np, cv2.COLOR_BGR2RGB)\n",
    "    embedding = embedder.run(image_as_np)[\"embedding\"]\n",
    "    if i == 0:\n",
    "        embedding_list = embedding\n",
    "    else:\n",
    "        embedding_list = np.vstack((embedding_list, embedding))\n",
    "\n",
    "print(embedding_list)\n",
    "np.save(EMBEDDINGS_FILE, embedding_list)"
   ]
  },
  {
   "cell_type": "markdown",
   "metadata": {},
   "source": [
    "# 3. Dimensionality reduction and clustering\n",
    "Now that we have our embedding data, we can use dimensionality reduction to crunch all of these dimensions down into 2 so that they can be projected into a 2-dimensional space. To do this, we'll use an one of the following dimensionality reduction algorithms: [T-SNE](https://en.wikipedia.org/wiki/T-distributed_stochastic_neighbor_embedding), [PCA]() or [UMAP](). Note that we also do some pre- and post-processing, the full process is: standardisation -> dimensionality reduction -> normalization."
   ]
  },
  {
   "cell_type": "code",
   "execution_count": 9,
   "metadata": {},
   "outputs": [
    {
     "name": "stderr",
     "output_type": "stream",
     "text": [
      "/Users/jacob/Documents/Repos/arvest-data-in-context/ml-notebooks/venv/lib/python3.11/site-packages/sklearn/manifold/_t_sne.py:1164: FutureWarning: 'n_iter' was renamed to 'max_iter' in version 1.5 and will be removed in 1.7.\n",
      "  warnings.warn(\n"
     ]
    },
    {
     "name": "stdout",
     "output_type": "stream",
     "text": [
      "[[6.20587051e-01 1.00000000e+00]\n",
      " [8.89075398e-01 1.44096017e-01]\n",
      " [7.66846955e-01 1.48955762e-01]\n",
      " [2.17599317e-01 4.77539629e-01]\n",
      " [6.74210310e-01 3.07329297e-02]\n",
      " [6.19801939e-01 8.68812203e-02]\n",
      " [6.94563925e-01 1.11673653e-01]\n",
      " [3.63940835e-01 4.49298322e-01]\n",
      " [5.82056046e-01 7.19071925e-01]\n",
      " [4.78032053e-01 6.91521525e-01]\n",
      " [6.26766205e-01 5.54870129e-01]\n",
      " [4.85238671e-01 3.06629956e-01]\n",
      " [8.73410344e-01 2.29565442e-01]\n",
      " [7.93131173e-01 8.64674509e-01]\n",
      " [5.80417275e-01 2.38158286e-01]\n",
      " [5.72688460e-01 7.59056449e-01]\n",
      " [8.40769231e-01 5.53440452e-01]\n",
      " [5.73417366e-01 7.44405210e-01]\n",
      " [8.12814593e-01 5.32537460e-01]\n",
      " [7.96446145e-01 5.13779759e-01]\n",
      " [7.96754777e-01 5.15111089e-01]\n",
      " [5.24809361e-01 7.78515220e-01]\n",
      " [3.76957536e-01 3.19453299e-01]\n",
      " [7.06806481e-01 2.96366870e-01]\n",
      " [2.83884615e-01 2.96386540e-01]\n",
      " [5.51289618e-01 3.23434830e-01]\n",
      " [2.55083144e-01 4.08024579e-01]\n",
      " [6.58287287e-01 6.30318522e-02]\n",
      " [3.58690798e-01 3.44189942e-01]\n",
      " [5.39062381e-01 6.38888478e-02]\n",
      " [6.55418396e-01 7.14212656e-03]\n",
      " [3.04553330e-01 2.97609329e-01]\n",
      " [6.27582729e-01 5.54321766e-01]\n",
      " [5.57030499e-01 7.81877637e-02]\n",
      " [7.29528308e-01 9.58399534e-01]\n",
      " [4.72875714e-01 2.75551498e-01]\n",
      " [5.26888669e-01 2.86494672e-01]\n",
      " [5.23781657e-01 2.63112366e-01]\n",
      " [8.87224138e-01 7.13724136e-01]\n",
      " [5.20576298e-01 2.27750123e-01]\n",
      " [9.19266820e-01 7.31648088e-01]\n",
      " [6.48074508e-01 3.98716927e-01]\n",
      " [5.37122905e-01 2.95818388e-01]\n",
      " [6.08158171e-01 3.49968374e-01]\n",
      " [6.51604891e-01 6.42401576e-01]\n",
      " [8.11222732e-01 2.28201568e-01]\n",
      " [4.51286674e-01 3.89267504e-01]\n",
      " [6.10565722e-01 6.09456658e-01]\n",
      " [4.79699969e-01 3.49536359e-01]\n",
      " [6.05435908e-01 6.21997356e-01]\n",
      " [4.19319659e-01 5.77050924e-01]\n",
      " [4.43315983e-01 5.47640085e-01]\n",
      " [5.08187830e-01 6.34724021e-01]\n",
      " [4.77780819e-01 4.72448319e-01]\n",
      " [5.09364843e-01 4.98230338e-01]\n",
      " [7.68730462e-01 3.35400522e-01]\n",
      " [5.06680310e-01 4.99724656e-01]\n",
      " [4.96185839e-01 6.63624167e-01]\n",
      " [4.32991087e-01 6.13056064e-01]\n",
      " [4.50368404e-01 5.43426752e-01]\n",
      " [4.43028688e-01 5.97865045e-01]\n",
      " [4.21305001e-01 6.20095909e-01]\n",
      " [5.10804832e-01 5.80684185e-01]\n",
      " [8.57301533e-01 7.72289038e-01]\n",
      " [8.75280321e-01 7.16499209e-01]\n",
      " [5.04956305e-01 5.83040416e-01]\n",
      " [5.35281360e-01 3.66105050e-01]\n",
      " [4.38947201e-01 4.43965644e-01]\n",
      " [5.34241199e-01 4.88785923e-01]\n",
      " [6.27446651e-01 3.48546207e-01]\n",
      " [2.36117065e-01 4.65593278e-01]\n",
      " [1.14396907e-01 7.84988642e-01]\n",
      " [1.80630684e-02 7.50659347e-01]\n",
      " [2.50871360e-01 4.67204124e-01]\n",
      " [1.16699204e-01 7.86872149e-01]\n",
      " [1.74565762e-02 7.48839974e-01]\n",
      " [2.61925071e-01 4.45761681e-01]\n",
      " [9.47204679e-02 1.46863222e-01]\n",
      " [7.60623395e-01 7.85792828e-01]\n",
      " [7.56933630e-01 7.86077559e-01]\n",
      " [8.14395905e-01 6.54482841e-01]\n",
      " [7.89944291e-01 6.89242840e-01]\n",
      " [7.86992311e-01 6.87287152e-01]\n",
      " [6.45244002e-01 4.22217488e-01]\n",
      " [7.63492227e-01 7.83224761e-01]\n",
      " [9.58260238e-01 5.23997128e-01]\n",
      " [9.02766466e-01 6.29269540e-01]\n",
      " [7.96196461e-01 7.58114576e-01]\n",
      " [9.56284404e-01 2.26128042e-01]\n",
      " [9.72941279e-01 5.23676932e-01]\n",
      " [6.14395559e-01 9.12950814e-01]\n",
      " [5.72921455e-01 9.17989254e-01]\n",
      " [5.73474050e-01 9.15285349e-01]\n",
      " [2.18778968e-01 5.45920610e-01]\n",
      " [2.84866810e-01 5.20936430e-01]\n",
      " [2.26780683e-01 5.35593629e-01]\n",
      " [1.91265166e-01 5.40075541e-01]\n",
      " [1.88361064e-01 6.31708622e-01]\n",
      " [1.95354298e-01 5.28824329e-01]\n",
      " [8.91784191e-01 4.68499750e-01]\n",
      " [6.14944875e-01 9.17299926e-01]\n",
      " [2.49401003e-01 6.74489081e-01]\n",
      " [3.02221060e-01 6.99596822e-01]\n",
      " [2.17033803e-01 6.24467492e-01]\n",
      " [2.32759848e-01 6.64293587e-01]\n",
      " [2.70997316e-01 6.26877248e-01]\n",
      " [2.77856827e-01 6.30451739e-01]\n",
      " [2.67271936e-01 5.97315729e-01]\n",
      " [3.69012177e-01 8.98120046e-01]\n",
      " [4.79534626e-01 9.81360555e-01]\n",
      " [8.42373431e-01 1.93385959e-01]\n",
      " [7.84108877e-01 2.39948630e-01]\n",
      " [4.56205368e-01 8.55463862e-01]\n",
      " [4.02494490e-01 8.26160967e-01]\n",
      " [3.81231785e-01 7.89399922e-01]\n",
      " [3.82931232e-01 8.47806394e-01]\n",
      " [3.96787226e-01 8.35325420e-01]\n",
      " [3.64459634e-01 8.52701664e-01]\n",
      " [4.77724969e-01 9.87831354e-01]\n",
      " [9.13855195e-01 2.88954973e-01]\n",
      " [3.69991690e-01 2.48005927e-01]\n",
      " [8.28829885e-01 3.37998748e-01]\n",
      " [7.63415813e-01 2.54768670e-01]\n",
      " [4.04822886e-01 1.07782185e-01]\n",
      " [1.00000000e+00 4.00716752e-01]\n",
      " [9.54886913e-01 4.59389865e-01]\n",
      " [3.34838063e-01 2.18557954e-01]\n",
      " [7.28702247e-01 2.12336183e-02]\n",
      " [4.53321338e-01 1.26472712e-01]\n",
      " [8.42836976e-01 2.96323538e-01]\n",
      " [8.44702184e-01 2.90744901e-01]\n",
      " [9.34654891e-01 3.58919621e-01]\n",
      " [8.44979048e-01 3.13739538e-01]\n",
      " [9.53539982e-02 1.47309184e-01]\n",
      " [9.45951819e-01 4.15493548e-01]\n",
      " [3.57739568e-01 1.98893309e-01]\n",
      " [3.65083545e-01 2.20938802e-01]\n",
      " [3.16285551e-01 1.82906926e-01]\n",
      " [4.20272201e-01 1.04881346e-01]\n",
      " [1.10811718e-01 9.66044605e-01]\n",
      " [8.65906477e-02 4.23384100e-01]\n",
      " [2.12131619e-01 4.34472620e-01]\n",
      " [5.84401712e-02 3.91833037e-01]\n",
      " [4.19607580e-01 6.86270118e-01]\n",
      " [6.62814438e-01 8.84757042e-01]\n",
      " [4.25817966e-02 4.24046040e-01]\n",
      " [1.89666316e-01 4.53668356e-01]\n",
      " [1.05129063e-01 9.60806012e-01]\n",
      " [9.68037471e-02 9.51434910e-01]\n",
      " [4.55065191e-01 1.92361474e-01]\n",
      " [5.08253992e-01 7.52664208e-02]\n",
      " [3.90367806e-01 1.16860867e-02]\n",
      " [5.09476960e-01 1.76994205e-02]\n",
      " [7.21618533e-04 5.60049415e-01]\n",
      " [4.31276500e-01 2.27803886e-01]\n",
      " [1.12711914e-01 1.50511563e-01]\n",
      " [5.11170030e-01 0.00000000e+00]\n",
      " [4.48414147e-01 1.93504333e-01]\n",
      " [5.82460821e-01 1.38124645e-01]\n",
      " [6.22926176e-01 1.98529184e-01]\n",
      " [6.19199038e-01 1.89452827e-01]\n",
      " [3.35085332e-01 4.62942988e-01]\n",
      " [0.00000000e+00 5.61743915e-01]\n",
      " [8.66298437e-01 8.46233010e-01]\n",
      " [6.32233560e-01 2.20241368e-01]]\n"
     ]
    }
   ],
   "source": [
    "METHOD = \"tsne\"\n",
    "\n",
    "embedding_list = np.load(\"embeddings.npy\")\n",
    "standardized = StandardScaler().fit_transform(embedding_list)\n",
    "\n",
    "\n",
    "if METHOD == \"tsne\":\n",
    "    tsne = TSNE(n_components = 2, perplexity = 50, learning_rate=200, n_iter=5000)\n",
    "    reduced = tsne.fit_transform(standardized)\n",
    "if METHOD == \"pca\":\n",
    "    pca = PCA(n_components=2)\n",
    "    reduced = pca.fit_transform(standardized)\n",
    "# if METHOD == \"umap\":\n",
    "#     reducer = umap.UMAP(n_components=2, n_neighbors=30, min_dist=0.1, metric='euclidean')\n",
    "#     reduced = reducer.fit_transform(standardized)\n",
    "\n",
    "normalized = MinMaxScaler((0, 1)).fit_transform(reduced)\n",
    "\n",
    "print(normalized)"
   ]
  },
  {
   "cell_type": "markdown",
   "metadata": {},
   "source": [
    "If we like, we can visualize the data in a scatter plot:"
   ]
  },
  {
   "cell_type": "code",
   "execution_count": 10,
   "metadata": {},
   "outputs": [
    {
     "data": {
      "image/png": "[encoded data removed]",
      "text/plain": [
       "<Figure size 640x480 with 1 Axes>"
      ]
     },
     "metadata": {},
     "output_type": "display_data"
    }
   ],
   "source": [
    "transposed = np.transpose(normalized)\n",
    "plt.scatter(transposed[0], transposed[1])\n",
    "plt.show()"
   ]
  },
  {
   "cell_type": "markdown",
   "metadata": {},
   "source": [
    "## Clustering (optional)\n",
    "\n",
    "Next we could perform some clustering on this data using [K-Means](https://en.wikipedia.org/wiki/K-means_clustering). We won't be using this data for our visualisation, but it is something that could potentially be useful."
   ]
  },
  {
   "cell_type": "code",
   "execution_count": 11,
   "metadata": {},
   "outputs": [],
   "source": [
    "NUM_CLUSTERS = 3\n",
    "\n",
    "kmeans = KMeans(n_clusters = NUM_CLUSTERS, random_state = 0, n_init = \"auto\")\n",
    "clusters = kmeans.fit(normalized).labels_\n",
    "\n",
    "# Create a random colour map for visualisation:\n",
    "colour_map = {}\n",
    "used = []\n",
    "for item in clusters:\n",
    "    if item not in used:\n",
    "        colour_map[str(item)] = (random.random(), random.random(), random.random())\n",
    "        used.append(item)"
   ]
  },
  {
   "cell_type": "markdown",
   "metadata": {},
   "source": [
    "We can visualize the clusters in a scatter plot like this:"
   ]
  },
  {
   "cell_type": "code",
   "execution_count": 12,
   "metadata": {},
   "outputs": [
    {
     "data": {
      "image/png": "[encoded data removed]",
      "text/plain": [
       "<Figure size 640x480 with 1 Axes>"
      ]
     },
     "metadata": {},
     "output_type": "display_data"
    }
   ],
   "source": [
    "transposed = np.transpose(normalized)\n",
    "col = []\n",
    "for item in clusters:\n",
    "    col.append(colour_map[str(item)])\n",
    "\n",
    "plt.scatter(transposed[0], transposed[1], c = col)\n",
    "plt.show()"
   ]
  },
  {
   "cell_type": "markdown",
   "metadata": {},
   "source": [
    "# 4. Export to Arvest\n",
    "Finally, we shall export the results of our analysis to an image file, and create an annotated (and therefore interactive) IIIF Manifest that can be consulted in [Arvest](https://arvest.app/en). First, we shall create a high-res PNG file that projects the corresponding images into the 2D space of the dimensionality reduction. We sahll also keep a track of the coordinates so that we can create our annotations later."
   ]
  },
  {
   "cell_type": "code",
   "execution_count": 17,
   "metadata": {},
   "outputs": [
    {
     "name": "stdout",
     "output_type": "stream",
     "text": [
      "|██████████████████████████████████████████████████| 100.0% Complete Treating 1a34181v.jpg\n"
     ]
    }
   ],
   "source": [
    "IMAGE_PATH = os.path.join(os.getcwd(), \"visualization-image.png\")\n",
    "COORDINATES_PATH = os.path.join(os.getcwd(), \"visualization-coordinates.json\")\n",
    "WIDTH = 5000\n",
    "HEIGHT = 5000\n",
    "PADDING = 100\n",
    "IMAGE_ZOOM = 0.1\n",
    "\n",
    "def scale(val, old_min, old_max, new_min, new_max):\n",
    "    return new_min + (((val - old_min) * (new_max - new_min)) / (old_max - old_min))\n",
    "\n",
    "def add_image(full_image, coordinates_list, image_url, coordinates):\n",
    "  img_path = os.path.join(TEMP_FOLDER, os.path.basename(image_url))\n",
    "  img_data = get_image_info(img_path)\n",
    "  this_img = Image.open(img_path)\n",
    "\n",
    "  w = int(img_data[\"width\"] * IMAGE_ZOOM)\n",
    "  h = int(img_data[\"height\"] * IMAGE_ZOOM)\n",
    "  x = int(scale(int(int(float(coordinates[0]) * WIDTH) - (w * 0.5)), 0, WIDTH, PADDING, WIDTH - (PADDING * 2)))\n",
    "  y = int(scale(int(int(float(coordinates[1]) * HEIGHT) - (h * 0.5)), 0, HEIGHT, PADDING, HEIGHT - (PADDING * 2)))\n",
    "\n",
    "  this_img = this_img.resize((w, h))\n",
    "  full_image.paste(this_img, (x, y))\n",
    "\n",
    "  coordinates_list.append({\"url\" : image_url, \"x\" : x, \"y\" : y, \"w\" : w, \"h\" : h})\n",
    "\n",
    "# Initialize image and coordinates\n",
    "full_image = Image.new('RGBA', (WIDTH, HEIGHT))\n",
    "coordinates = {\"images\" : []}\n",
    "\n",
    "# Add all of the images:\n",
    "for i, item in enumerate(normalized):\n",
    "  image_data = corpus[i]\n",
    "  print_progress_bar(i, len(corpus) - 1, f\"Treating {os.path.basename(image_data['url'])}\")\n",
    "  add_image(full_image, coordinates[\"images\"], image_data['url'], item)\n",
    "\n",
    "full_image.save(IMAGE_PATH)\n",
    "write_json(COORDINATES_PATH, coordinates)"
   ]
  },
  {
   "cell_type": "markdown",
   "metadata": {},
   "source": [
    "## Create Manifests\n",
    "Now we need to create our Manifests. In order to make the main Manifest truly interactive, we shall also make a Manifest for each of the images in our corpus. This must be done first, as we will need the URLs of these Manifests when creating our annotations."
   ]
  },
  {
   "cell_type": "code",
   "execution_count": null,
   "metadata": {},
   "outputs": [
    {
     "name": "stdout",
     "output_type": "stream",
     "text": [
      "👍 Succesfully connected to Arvest with \"JH\"\n"
     ]
    }
   ],
   "source": [
    "# First, let's connect to our Arvest account:\n",
    "LOGIN_DATA = os.path.join(os.getcwd(), \"login_private.json\")\n",
    "credentials = read_json(LOGIN_DATA)\n",
    "\n",
    "ar = arvestapi.Arvest(credentials[\"email\"], credentials[\"password\"])\n",
    "print(f\"👍 Succesfully connected to Arvest with \\\"{ar.profile.name}\\\"\")"
   ]
  },
  {
   "cell_type": "code",
   "execution_count": 23,
   "metadata": {},
   "outputs": [
    {
     "name": "stdout",
     "output_type": "stream",
     "text": [
      "|██████████████████████████████████████████████████| 100.0% Complete Treating 1a34181v.jpg\n"
     ]
    }
   ],
   "source": [
    "MANIFEST_DICT = {}\n",
    "\n",
    "for i, image_data in enumerate(corpus):\n",
    "  print_progress_bar(i, len(corpus) - 1, f\"Treating {os.path.basename(image_data['url'])}\")\n",
    "\n",
    "  img_path = os.path.join(TEMP_FOLDER, os.path.basename(image_data['url']))\n",
    "  img_filename = os.path.splitext(os.path.basename(image_data['url']))[0]\n",
    "  img_data = get_image_info(img_path)\n",
    "\n",
    "  manifest = iiif_prezi3.Manifest(\n",
    "    id = f\"https://placeholder.com/{img_filename}.json\",\n",
    "    label = {\"en\" : [f\"{img_filename}\"]}\n",
    "  )\n",
    "\n",
    "  # Next we create Canvas, think of this as a page in your Manifest:\n",
    "  canvas = iiif_prezi3.Canvas(\n",
    "      id = \"https://placeholder.com/canvas/1\",\n",
    "      label = {\"en\" : [f\"{os.path.basename(image_data['url'])}\"]}\n",
    "  )\n",
    "\n",
    "  # Next we need to add the media file:\n",
    "  annotation_page = iiif_prezi3.AnnotationPage(id = \"https://placeholder.com/canvas/1/page/1\")\n",
    "  media_annotation_element = iiif_prezi3.Annotation(\n",
    "      id = \"https://placeholder.com/canvas/1/page/1/1\",\n",
    "      motivation = \"painting\",\n",
    "      target = \"https://placeholder.com/canvas/1\"\n",
    "  )\n",
    "  mime_type, encoding = mimetypes.guess_type(img_path)\n",
    "  body = {\n",
    "      \"id\" : image_data['url'],\n",
    "      \"type\" : mime_type.split(\"/\")[0].capitalize(),\n",
    "      \"format\" : mime_type\n",
    "  }\n",
    "\n",
    "  media_annotation_element.target = media_annotation_element.target + f\"#xywh=0,0,{img_data['width']},{img_data['height']}\"\n",
    "  body[\"width\"] = img_data['width']\n",
    "  body[\"height\"] = img_data['height']\n",
    "  canvas.width = img_data['width']\n",
    "  canvas.height = img_data['height']\n",
    "\n",
    "  media_annotation_element.body = body\n",
    "  annotation_page.items.append(media_annotation_element)\n",
    "  canvas.items.append(annotation_page)\n",
    "  manifest.items.append(canvas)\n",
    "\n",
    "  local_path = os.path.join(TEMP_FOLDER, f\"{os.path.splitext(os.path.basename(image_data['url']))[0]}.json\")\n",
    "  write_json(local_path, manifest.dict())\n",
    "\n",
    "  added_manifest = ar.add_manifest(path = local_path, update_id = True)\n",
    "  added_manifest.update_title(f\"{os.path.splitext(os.path.basename(image_data['url']))[0]}\")\n",
    "  added_manifest.update_description(\"Local view of an image embedding projection.\")\n",
    "  \n",
    "  # Update metadata:\n",
    "  manifest_metadata = added_manifest.get_metadata()\n",
    "  manifest_metadata[\"creator\"] = \"Batch media upload example script\"\n",
    "  manifest_metadata[\"identifier\"] = \"&&BATCH_UPLOAD\"\n",
    "  added_manifest.update_metadata(manifest_metadata)\n",
    "\n",
    "  MANIFEST_DICT[image_data['url']] = added_manifest.get_full_url()"
   ]
  },
  {
   "cell_type": "code",
   "execution_count": 24,
   "metadata": {},
   "outputs": [
    {
     "name": "stdout",
     "output_type": "stream",
     "text": [
      "{'https://tile.loc.gov/storage-services/service/pnp/fsac/1a33000/1a33800/1a33849v.jpg': 'https://resource.arvest.app/600e10a590445f4fae94ebe32cba4b0857701c3f/1a33849v.json', 'https://tile.loc.gov/storage-services/service/pnp/fsac/1a33000/1a33800/1a33858v.jpg': 'https://resource.arvest.app/e37ed5be44f96eb2906029944b4c9479199d62b9/1a33858v.json', 'https://tile.loc.gov/storage-services/service/pnp/fsac/1a34000/1a34300/1a34319v.jpg': 'https://resource.arvest.app/11f077271d16a73d8f0597359972f29735470fed/1a34319v.json', 'https://tile.loc.gov/storage-services/service/pnp/fsac/1a33000/1a33800/1a33876v.jpg': 'https://resource.arvest.app/c00bd1d84156e9a10dac05443791ba6a0d3ec5df/1a33876v.json', 'https://tile.loc.gov/storage-services/service/pnp/fsac/1a34000/1a34300/1a34320v.jpg': 'https://resource.arvest.app/89ca8f5e5d8d8711f671a28da6c01a63330bce8b/1a34320v.json', 'https://tile.loc.gov/storage-services/service/pnp/fsac/1a34000/1a34300/1a34321v.jpg': 'https://resource.arvest.app/7d8d4f9436bdade13329a911a16980c8a0d85f68/1a34321v.json', 'https://tile.loc.gov/storage-services/service/pnp/fsac/1a34000/1a34300/1a34322v.jpg': 'https://resource.arvest.app/609f408a15c8a1debcfa0c9ad447f7e0d8d1624d/1a34322v.json', 'https://tile.loc.gov/storage-services/service/pnp/fsac/1a34000/1a34300/1a34330v.jpg': 'https://resource.arvest.app/870493559364ae94981c79e4d187643fca05e8e3/1a34330v.json', 'https://tile.loc.gov/storage-services/service/pnp/fsac/1a34000/1a34300/1a34331v.jpg': 'https://resource.arvest.app/956a3003dda99cd83429c2ae10be82a36789e01c/1a34331v.json', 'https://tile.loc.gov/storage-services/service/pnp/fsac/1a34000/1a34300/1a34332v.jpg': 'https://resource.arvest.app/430361ff6c6cfa44f90d75ef33973f7faa2565ba/1a34332v.json', 'https://tile.loc.gov/storage-services/service/pnp/fsac/1a34000/1a34300/1a34357v.jpg': 'https://resource.arvest.app/600ea8230744a4a9188e5f965bc9ac22325cf526/1a34357v.json', 'https://tile.loc.gov/storage-services/service/pnp/fsac/1a34000/1a34300/1a34358v.jpg': 'https://resource.arvest.app/51c00a692edb0309816a4341d98e0a9fdbfd94f0/1a34358v.json', 'https://tile.loc.gov/storage-services/service/pnp/fsac/1a33000/1a33800/1a33859v.jpg': 'https://resource.arvest.app/5f0729f784563bdc80b9016a3742a8d4585d8b12/1a33859v.json', 'https://tile.loc.gov/storage-services/service/pnp/fsac/1a34000/1a34300/1a34359v.jpg': 'https://resource.arvest.app/5573585abcf440cff6690e43ce37082c31f07773/1a34359v.json', 'https://tile.loc.gov/storage-services/service/pnp/fsac/1a34000/1a34300/1a34307v.jpg': 'https://resource.arvest.app/e68317413f5ec8ad896863fbfa658cb91435909d/1a34307v.json', 'https://tile.loc.gov/storage-services/service/pnp/fsac/1a34000/1a34300/1a34360v.jpg': 'https://resource.arvest.app/14a2cf48450adb6837ef9fdee986923bc6f79319/1a34360v.json', 'https://tile.loc.gov/storage-services/service/pnp/fsac/1a34000/1a34300/1a34361v.jpg': 'https://resource.arvest.app/fe3f994abf7da58d72ba13121737e4ab9f50b10c/1a34361v.json', 'https://tile.loc.gov/storage-services/service/pnp/fsac/1a34000/1a34300/1a34362v.jpg': 'https://resource.arvest.app/4f5d4e122dddc3fd20d1a899215e32e373dac0e3/1a34362v.json', 'https://tile.loc.gov/storage-services/service/pnp/fsac/1a34000/1a34300/1a34333v.jpg': 'https://resource.arvest.app/03a43ad69eb95abe6c1df780187fbc5fe97dfc4f/1a34333v.json', 'https://tile.loc.gov/storage-services/service/pnp/fsac/1a34000/1a34300/1a34334v.jpg': 'https://resource.arvest.app/04feb74201990186e600f98376b0272969f21942/1a34334v.json', 'https://tile.loc.gov/storage-services/service/pnp/fsac/1a34000/1a34300/1a34335v.jpg': 'https://resource.arvest.app/e17a9bf764a04437c6c11296dd84b7faf41f3a02/1a34335v.json', 'https://tile.loc.gov/storage-services/service/pnp/fsac/1a34000/1a34300/1a34363v.jpg': 'https://resource.arvest.app/556ac674ccd273a3f133515aa5d6a625cc2e3b9a/1a34363v.json', 'https://tile.loc.gov/storage-services/service/pnp/fsac/1a34000/1a34300/1a34308v.jpg': 'https://resource.arvest.app/b1ccd42bb9eefcd21c1d510a77320a7299313bda/1a34308v.json', 'https://tile.loc.gov/storage-services/service/pnp/fsac/1a33000/1a33800/1a33860v.jpg': 'https://resource.arvest.app/d6b9e0c086dc5e32f114a93ab08249e98ad30ab3/1a33860v.json', 'https://tile.loc.gov/storage-services/service/pnp/fsac/1a34000/1a34300/1a34323v.jpg': 'https://resource.arvest.app/ccb8823ec8d463b27985780a6ddff5daf4866c4b/1a34323v.json', 'https://tile.loc.gov/storage-services/service/pnp/fsac/1a34000/1a34300/1a34364v.jpg': 'https://resource.arvest.app/4b70b18c6a9f1a715ebf1aeffe76986904b90a09/1a34364v.json', 'https://tile.loc.gov/storage-services/service/pnp/fsac/1a34000/1a34300/1a34309v.jpg': 'https://resource.arvest.app/77ae5d28fa4f56072b731d8dd4d924e4685b6e63/1a34309v.json', 'https://tile.loc.gov/storage-services/service/pnp/fsac/1a34000/1a34300/1a34324v.jpg': 'https://resource.arvest.app/fa3c39bbd867e2104768b385666b3c0ad7013163/1a34324v.json', 'https://tile.loc.gov/storage-services/service/pnp/fsac/1a34000/1a34300/1a34310v.jpg': 'https://resource.arvest.app/bf52bb8b488ae3d224851e59f7ae45650c7aca14/1a34310v.json', 'https://tile.loc.gov/storage-services/service/pnp/fsac/1a34000/1a34300/1a34325v.jpg': 'https://resource.arvest.app/13d69b848f687a67f23f63e99e92ef31100c33e3/1a34325v.json', 'https://tile.loc.gov/storage-services/service/pnp/fsac/1a34000/1a34300/1a34326v.jpg': 'https://resource.arvest.app/c2d8ad81a4f6a867df2a4b1cb9c8088bb67e7b2c/1a34326v.json', 'https://tile.loc.gov/storage-services/service/pnp/fsac/1a34000/1a34300/1a34327v.jpg': 'https://resource.arvest.app/3c64082ca54442195fc5ae6e8c98d0c8cb3e79c8/1a34327v.json', 'https://tile.loc.gov/storage-services/service/pnp/fsac/1a34000/1a34300/1a34365v.jpg': 'https://resource.arvest.app/15f97273c7a942ebff040fb59d235d3896c65d5f/1a34365v.json', 'https://tile.loc.gov/storage-services/service/pnp/fsac/1a34000/1a34300/1a34328v.jpg': 'https://resource.arvest.app/4a714fbfd873ef00bd90e7a78db0031d79147f64/1a34328v.json', 'https://tile.loc.gov/storage-services/service/pnp/fsac/1a33000/1a33800/1a33861v.jpg': 'https://resource.arvest.app/7e41a6b8d1279590d6e050ab9155c8378874a5c2/1a33861v.json', 'https://tile.loc.gov/storage-services/service/pnp/fsac/1a34000/1a34300/1a34311v.jpg': 'https://resource.arvest.app/e8624df7dc0d39dbc640b77b0d4aa3d2afbcc5ed/1a34311v.json', 'https://tile.loc.gov/storage-services/service/pnp/fsac/1a34000/1a34300/1a34312v.jpg': 'https://resource.arvest.app/6d1ccf725b96c901d56ac03d35f6e4e769ef34cc/1a34312v.json', 'https://tile.loc.gov/storage-services/service/pnp/fsac/1a34000/1a34300/1a34313v.jpg': 'https://resource.arvest.app/5f160b4a99abf24971aac7d7be522dd39bd3f477/1a34313v.json', 'https://tile.loc.gov/storage-services/service/pnp/fsac/1a34000/1a34300/1a34366v.jpg': 'https://resource.arvest.app/534d8108589f6a4ee45d21f7391c1a3db7b5e67e/1a34366v.json', 'https://tile.loc.gov/storage-services/service/pnp/fsac/1a34000/1a34300/1a34314v.jpg': 'https://resource.arvest.app/0cec6d1a33b9b9fb43e35c7a41d5fa98c9d5894a/1a34314v.json', 'https://tile.loc.gov/storage-services/service/pnp/fsac/1a34000/1a34300/1a34367v.jpg': 'https://resource.arvest.app/92084a60d2fd1c94873248e89549ee754751c96c/1a34367v.json', 'https://tile.loc.gov/storage-services/service/pnp/fsac/1a34000/1a34300/1a34336v.jpg': 'https://resource.arvest.app/6ee8b73a0038ea959ed520d16112bdb84db1b040/1a34336v.json', 'https://tile.loc.gov/storage-services/service/pnp/fsac/1a34000/1a34200/1a34293v.jpg': 'https://resource.arvest.app/e3891dfa1a6a761848ca8524385920d5305ee1a7/1a34293v.json', 'https://tile.loc.gov/storage-services/service/pnp/fsac/1a34000/1a34200/1a34294v.jpg': 'https://resource.arvest.app/72021c34afe8e579e37fb73081d1f5ea1de22f80/1a34294v.json', 'https://tile.loc.gov/storage-services/service/pnp/fsac/1a33000/1a33800/1a33877v.jpg': 'https://resource.arvest.app/777b6ba67b8cdec3a2bdfd4ebe78c6054a7faede/1a33877v.json', 'https://tile.loc.gov/storage-services/service/pnp/fsac/1a33000/1a33800/1a33862v.jpg': 'https://resource.arvest.app/abbe0e534b14e6e675bbdc21bb52c29de14be30c/1a33862v.json', 'https://tile.loc.gov/storage-services/service/pnp/fsac/1a33000/1a33800/1a33878v.jpg': 'https://resource.arvest.app/7fa142cde2c43356b55def74ef7f17e1b0dbb7b6/1a33878v.json', 'https://tile.loc.gov/storage-services/service/pnp/fsac/1a33000/1a33800/1a33879v.jpg': 'https://resource.arvest.app/7689531a07611baac195c2fa186edc02de91b6dc/1a33879v.json', 'https://tile.loc.gov/storage-services/service/pnp/fsac/1a33000/1a33800/1a33880v.jpg': 'https://resource.arvest.app/227d2e0fff08f13f19ff311730310c7d8cb22b89/1a33880v.json', 'https://tile.loc.gov/storage-services/service/pnp/fsac/1a33000/1a33800/1a33882v.jpg': 'https://resource.arvest.app/1380582dc1495c7a0c65ed507d8aa1d99481d3d1/1a33882v.json', 'https://tile.loc.gov/storage-services/service/pnp/fsac/1a34000/1a34300/1a34337v.jpg': 'https://resource.arvest.app/8b6b1425ce1cf67cb951fcdf1e0f522811a409f8/1a34337v.json', 'https://tile.loc.gov/storage-services/service/pnp/fsac/1a34000/1a34300/1a34338v.jpg': 'https://resource.arvest.app/b1ca7e148bf7af7dc88a374c8368c82efa1b4989/1a34338v.json', 'https://tile.loc.gov/storage-services/service/pnp/fsac/1a34000/1a34300/1a34339v.jpg': 'https://resource.arvest.app/67b508023a80c90c3b283f5d7d2d2ae338896918/1a34339v.json', 'https://tile.loc.gov/storage-services/service/pnp/fsac/1a34000/1a34300/1a34340v.jpg': 'https://resource.arvest.app/2a7085c6dce99c3438a53ecc1e5f8f09c446dbd6/1a34340v.json', 'https://tile.loc.gov/storage-services/service/pnp/fsac/1a34000/1a34300/1a34341v.jpg': 'https://resource.arvest.app/faf164dff1ad291d4c48682fe2c2caf1ea077530/1a34341v.json', 'https://tile.loc.gov/storage-services/service/pnp/fsac/1a33000/1a33800/1a33863v.jpg': 'https://resource.arvest.app/4d87d22753ea6bf6810085cacc77c045138be6c7/1a33863v.json', 'https://tile.loc.gov/storage-services/service/pnp/fsac/1a34000/1a34300/1a34342v.jpg': 'https://resource.arvest.app/a49ff49da56a1fdf61cacd128b14c69b9df14a67/1a34342v.json', 'https://tile.loc.gov/storage-services/service/pnp/fsac/1a34000/1a34300/1a34343v.jpg': 'https://resource.arvest.app/0f40f8b1c16f151088e80ec0246658c236dc6a4f/1a34343v.json', 'https://tile.loc.gov/storage-services/service/pnp/fsac/1a34000/1a34300/1a34344v.jpg': 'https://resource.arvest.app/a7ce2a8d0b91299826449bd9d7f75e283d4a6ac5/1a34344v.json', 'https://tile.loc.gov/storage-services/service/pnp/fsac/1a34000/1a34300/1a34345v.jpg': 'https://resource.arvest.app/3c84083f4095f240e64b861ee6c5320eb7664ebe/1a34345v.json', 'https://tile.loc.gov/storage-services/service/pnp/fsac/1a34000/1a34300/1a34346v.jpg': 'https://resource.arvest.app/1fd52940d4329ab116a82b8b2ce974d0bae35629/1a34346v.json', 'https://tile.loc.gov/storage-services/service/pnp/fsac/1a34000/1a34300/1a34347v.jpg': 'https://resource.arvest.app/0450b1abe9aa87a4cce1591a52b5ba498c1a2597/1a34347v.json', 'https://tile.loc.gov/storage-services/service/pnp/fsac/1a34000/1a34300/1a34348v.jpg': 'https://resource.arvest.app/2659ff95dcbba1ec4ba8debc080d127769b51ba2/1a34348v.json', 'https://tile.loc.gov/storage-services/service/pnp/fsac/1a34000/1a34300/1a34349v.jpg': 'https://resource.arvest.app/42f0162cf60b0b19e1c1cf61a2a8ead66c337a67/1a34349v.json', 'https://tile.loc.gov/storage-services/service/pnp/fsac/1a34000/1a34300/1a34350v.jpg': 'https://resource.arvest.app/321397f540833bbdd8612d311886a3e9c59dce49/1a34350v.json', 'https://tile.loc.gov/storage-services/service/pnp/fsac/1a34000/1a34300/1a34351v.jpg': 'https://resource.arvest.app/f6646e0b3a55a42f6371b44e0b158a2df7a33a38/1a34351v.json', 'https://tile.loc.gov/storage-services/service/pnp/fsac/1a33000/1a33800/1a33864v.jpg': 'https://resource.arvest.app/fe0a1d6b0f3c36e7c3c2092c9a9d2c6c9d168e75/1a33864v.json', 'https://tile.loc.gov/storage-services/service/pnp/fsac/1a34000/1a34300/1a34352v.jpg': 'https://resource.arvest.app/28d149bcf698ac0b6d60f5476e7d5149e8f916b9/1a34352v.json', 'https://tile.loc.gov/storage-services/service/pnp/fsac/1a34000/1a34300/1a34353v.jpg': 'https://resource.arvest.app/8333957b1f3df8dd6df8cc841e85910e6b737595/1a34353v.json', 'https://tile.loc.gov/storage-services/service/pnp/fsac/1a34000/1a34300/1a34368v.jpg': 'https://resource.arvest.app/8dfe4091ce147b0523231a12b4d79d757e727951/1a34368v.json', 'https://tile.loc.gov/storage-services/service/pnp/fsac/1a34000/1a34300/1a34369v.jpg': 'https://resource.arvest.app/1fd41aa923f2a288be18b3c465669799238003b6/1a34369v.json', 'https://tile.loc.gov/storage-services/service/pnp/fsac/1a34000/1a34300/1a34370v.jpg': 'https://resource.arvest.app/f5a4368ee26793c412bf7246bc1df24b47288433/1a34370v.json', 'https://tile.loc.gov/storage-services/service/pnp/fsac/1a34000/1a34300/1a34371v.jpg': 'https://resource.arvest.app/be078e6debc8c24093601540de49ce36b53be85f/1a34371v.json', 'https://tile.loc.gov/storage-services/service/pnp/fsac/1a34000/1a34300/1a34372v.jpg': 'https://resource.arvest.app/0a82a67eb7894f9b00096366074be0a376c2dd26/1a34372v.json', 'https://tile.loc.gov/storage-services/service/pnp/fsac/1a34000/1a34300/1a34373v.jpg': 'https://resource.arvest.app/2f8bd7d87cd7db004bb9f4f0e0bfc5c0ff5f2e2f/1a34373v.json', 'https://tile.loc.gov/storage-services/service/pnp/fsac/1a34000/1a34300/1a34374v.jpg': 'https://resource.arvest.app/273ca4dcc14adbb20b83c249f05d9fe419a64d99/1a34374v.json', 'https://tile.loc.gov/storage-services/service/pnp/fsac/1a34000/1a34300/1a34375v.jpg': 'https://resource.arvest.app/af231f49535e11a341345dcc4a7e362b6408e8cc/1a34375v.json', 'https://tile.loc.gov/storage-services/service/pnp/fsac/1a33000/1a33800/1a33865v.jpg': 'https://resource.arvest.app/dbd56a74bfddce408586fe18fe62f28a4dc9dd6d/1a33865v.json', 'https://tile.loc.gov/storage-services/service/pnp/fsac/1a34000/1a34300/1a34393v.jpg': 'https://resource.arvest.app/64d327067e38c5efa72344b91f2887444d7695e9/1a34393v.json', 'https://tile.loc.gov/storage-services/service/pnp/fsac/1a34000/1a34300/1a34394v.jpg': 'https://resource.arvest.app/d722cdcef3c2882f44394bd8bc67d3bbd1c410da/1a34394v.json', 'https://tile.loc.gov/storage-services/service/pnp/fsac/1a34000/1a34300/1a34395v.jpg': 'https://resource.arvest.app/7ee3fc70f15d742f96bf51d5619095de6a0944e3/1a34395v.json', 'https://tile.loc.gov/storage-services/service/pnp/fsac/1a34000/1a34300/1a34396v.jpg': 'https://resource.arvest.app/9a0b56431c1801c09ca6b167bc5602ce16a1509c/1a34396v.json', 'https://tile.loc.gov/storage-services/service/pnp/fsac/1a34000/1a34300/1a34397v.jpg': 'https://resource.arvest.app/2ba86119e965ec4d2f4a3af222047b62d4c534f2/1a34397v.json', 'https://tile.loc.gov/storage-services/service/pnp/fsac/1a34000/1a34300/1a34398v.jpg': 'https://resource.arvest.app/9b13c6c597b8ecb568938857208af98a1197d3ff/1a34398v.json', 'https://tile.loc.gov/storage-services/service/pnp/fsac/1a34000/1a34300/1a34399v.jpg': 'https://resource.arvest.app/e677a545699e00676284c4dda59c965d4ffe1e77/1a34399v.json', 'https://tile.loc.gov/storage-services/service/pnp/fsac/1a34000/1a34200/1a34295v.jpg': 'https://resource.arvest.app/e61250643108d8e4aba613cf9f680ce1643476e8/1a34295v.json', 'https://tile.loc.gov/storage-services/service/pnp/fsac/1a34000/1a34400/1a34400v.jpg': 'https://resource.arvest.app/033690f5f2d7f64125a7f2cecea98c228b0a01ad/1a34400v.json', 'https://tile.loc.gov/storage-services/service/pnp/fsac/1a34000/1a34400/1a34401v.jpg': 'https://resource.arvest.app/afdeda897ec8acb2da8ae01de7168c70a6499ce1/1a34401v.json', 'https://tile.loc.gov/storage-services/service/pnp/fsac/1a33000/1a33800/1a33866v.jpg': 'https://resource.arvest.app/9ce6312ac0b1dbe85d86058bf579a12abf1f7dd5/1a33866v.json', 'https://tile.loc.gov/storage-services/service/pnp/fsac/1a34000/1a34400/1a34402v.jpg': 'https://resource.arvest.app/f784a762db70f2b71d9b7de1fe4dad19f50b3274/1a34402v.json', 'https://tile.loc.gov/storage-services/service/pnp/fsac/1a34000/1a34300/1a34376v.jpg': 'https://resource.arvest.app/04e3e8b2a80b7e4246b117a0c10cdf80ef42199f/1a34376v.json', 'https://tile.loc.gov/storage-services/service/pnp/fsac/1a34000/1a34300/1a34377v.jpg': 'https://resource.arvest.app/e27ce0995a0be6c2ae43df8a2469447db6aeb7f1/1a34377v.json', 'https://tile.loc.gov/storage-services/service/pnp/fsac/1a34000/1a34300/1a34378v.jpg': 'https://resource.arvest.app/306bf2968c114a6df35a1fae99aafb9a0980b233/1a34378v.json', 'https://tile.loc.gov/storage-services/service/pnp/fsac/1a34000/1a34300/1a34379v.jpg': 'https://resource.arvest.app/1afac20a3e01723b871754b3d1cf2fe9025553c1/1a34379v.json', 'https://tile.loc.gov/storage-services/service/pnp/fsac/1a34000/1a34300/1a34380v.jpg': 'https://resource.arvest.app/1438b10a344eb8717393235d508e6f73c26e11ff/1a34380v.json', 'https://tile.loc.gov/storage-services/service/pnp/fsac/1a34000/1a34300/1a34381v.jpg': 'https://resource.arvest.app/aa997d9fd08ca2172017ed3b2dfa722c2fc7c30c/1a34381v.json', 'https://tile.loc.gov/storage-services/service/pnp/fsac/1a34000/1a34300/1a34382v.jpg': 'https://resource.arvest.app/f33dad6fe378c402e8caac13ad1be4602d6c0d14/1a34382v.json', 'https://tile.loc.gov/storage-services/service/pnp/fsac/1a34000/1a34300/1a34383v.jpg': 'https://resource.arvest.app/6134f097d296d9b049cb27b0eaafd5d8abf9ec01/1a34383v.json', 'https://tile.loc.gov/storage-services/service/pnp/fsac/1a34000/1a34300/1a34384v.jpg': 'https://resource.arvest.app/aabb3365b8dc386a3ce8a16086520a09b999f3b9/1a34384v.json', 'https://tile.loc.gov/storage-services/service/pnp/fsac/1a33000/1a33800/1a33867v.jpg': 'https://resource.arvest.app/a07d830d1b29aa0d6a1be945ae4ad8cc96cdaeca/1a33867v.json', 'https://tile.loc.gov/storage-services/service/pnp/fsac/1a34000/1a34300/1a34385v.jpg': 'https://resource.arvest.app/5a11e55dfceb20c62588b7d0f6c7bf736816e082/1a34385v.json', 'https://tile.loc.gov/storage-services/service/pnp/fsac/1a34000/1a34300/1a34386v.jpg': 'https://resource.arvest.app/ae88b2bb2592fdcf083c3e4cc53c9ceffef4e695/1a34386v.json', 'https://tile.loc.gov/storage-services/service/pnp/fsac/1a34000/1a34300/1a34387v.jpg': 'https://resource.arvest.app/1ff5037e37949e078ce3f8595b94d14d36b31d8b/1a34387v.json', 'https://tile.loc.gov/storage-services/service/pnp/fsac/1a34000/1a34300/1a34388v.jpg': 'https://resource.arvest.app/45ecb6abb2d236d088d9c081cbcdfb003cffaf25/1a34388v.json', 'https://tile.loc.gov/storage-services/service/pnp/fsac/1a34000/1a34300/1a34389v.jpg': 'https://resource.arvest.app/569d0c19c7e04fe889bb32274c617380c1ae44fd/1a34389v.json', 'https://tile.loc.gov/storage-services/service/pnp/fsac/1a34000/1a34300/1a34390v.jpg': 'https://resource.arvest.app/8a0fe1e626ccc21617ec9820e9c1d33412064af3/1a34390v.json', 'https://tile.loc.gov/storage-services/service/pnp/fsac/1a34000/1a34300/1a34391v.jpg': 'https://resource.arvest.app/d03925f1e4fee2b08c36a964b1c77a5c7395c3ff/1a34391v.json', 'https://tile.loc.gov/storage-services/service/pnp/fsac/1a34000/1a34300/1a34392v.jpg': 'https://resource.arvest.app/63d4d396715f2903f56711d62770cd004c7d22a1/1a34392v.json', 'https://tile.loc.gov/storage-services/service/pnp/fsac/1a34000/1a34200/1a34296v.jpg': 'https://resource.arvest.app/a32bd05004913086bca0a148ffa0acaf51bd0ea9/1a34296v.json', 'https://tile.loc.gov/storage-services/service/pnp/fsac/1a34000/1a34200/1a34297v.jpg': 'https://resource.arvest.app/f8484b4c9f97eb2839f2fa25565073ec11fa17c9/1a34297v.json', 'https://tile.loc.gov/storage-services/service/pnp/fsac/1a33000/1a33800/1a33850v.jpg': 'https://resource.arvest.app/be27bfa7efec14ff8e7bc5a1437ac1f140401925/1a33850v.json', 'https://tile.loc.gov/storage-services/service/pnp/fsac/1a33000/1a33800/1a33868v.jpg': 'https://resource.arvest.app/e25412f89b12269df2c0fb27316f5463c6737277/1a33868v.json', 'https://tile.loc.gov/storage-services/service/pnp/fsac/1a34000/1a34200/1a34298v.jpg': 'https://resource.arvest.app/689ba1d75e7ff83ceafe55fd5056f4a79b720fe0/1a34298v.json', 'https://tile.loc.gov/storage-services/service/pnp/fsac/1a34000/1a34200/1a34299v.jpg': 'https://resource.arvest.app/98c01e877e4fe695ae52c378988e4e481d789c50/1a34299v.json', 'https://tile.loc.gov/storage-services/service/pnp/fsac/1a34000/1a34300/1a34300v.jpg': 'https://resource.arvest.app/a01e79aa37c148675376f77c31f42ccadd774a32/1a34300v.json', 'https://tile.loc.gov/storage-services/service/pnp/fsac/1a34000/1a34300/1a34301v.jpg': 'https://resource.arvest.app/43842c982b0b6679ebd6dc65b3129291ae7fdf51/1a34301v.json', 'https://tile.loc.gov/storage-services/service/pnp/fsac/1a34000/1a34300/1a34302v.jpg': 'https://resource.arvest.app/aeeeddd8666a2944ba370eab649dcc0241a3e9bf/1a34302v.json', 'https://tile.loc.gov/storage-services/service/pnp/fsac/1a34000/1a34300/1a34303v.jpg': 'https://resource.arvest.app/34dcfcdf11811e98ec7e3a879309c79b1ad829da/1a34303v.json', 'https://tile.loc.gov/storage-services/service/pnp/ppmsca/69000/69091v.jpg': 'https://resource.arvest.app/a0d07991d41d9f81558d01b9dd0de5edcf720616/69091v.json', 'https://tile.loc.gov/storage-services/service/pnp/fsac/1a34000/1a34200/1a34206v.jpg': 'https://resource.arvest.app/59f6c10a0cfbc64d1b802a10b322cbb3feb2ec1c/1a34206v.json', 'https://tile.loc.gov/storage-services/service/pnp/fsac/1a34000/1a34200/1a34221v.jpg': 'https://resource.arvest.app/b43c0c313cdd9b72ea0f83055330084db226cd2e/1a34221v.json', 'https://tile.loc.gov/storage-services/service/pnp/fsac/1a34000/1a34200/1a34207v.jpg': 'https://resource.arvest.app/b7759ff49fc9487ae15217d60cda40d58b5d5d59/1a34207v.json', 'https://tile.loc.gov/storage-services/service/pnp/fsac/1a33000/1a33800/1a33869v.jpg': 'https://resource.arvest.app/9b28992dbec160f90a1b25dd88becebf36bcfde4/1a33869v.json', 'https://tile.loc.gov/storage-services/service/pnp/fsac/1a34000/1a34200/1a34208v.jpg': 'https://resource.arvest.app/f84400e512b1ab7ee5802e67abf93f75cabc19ab/1a34208v.json', 'https://tile.loc.gov/storage-services/service/pnp/fsac/1a34000/1a34200/1a34222v.jpg': 'https://resource.arvest.app/2c57d54797c6923f2df56c99f9d9e10b8cca1deb/1a34222v.json', 'https://tile.loc.gov/storage-services/service/pnp/fsac/1a34000/1a34200/1a34209v.jpg': 'https://resource.arvest.app/d987dce6032812e745081e4dab27e5166b8df118/1a34209v.json', 'https://tile.loc.gov/storage-services/service/pnp/fsac/1a34000/1a34200/1a34223v.jpg': 'https://resource.arvest.app/58bc76516c5e77a05195a2d84c02ace1cd153b46/1a34223v.json', 'https://tile.loc.gov/storage-services/service/pnp/fsac/1a34000/1a34200/1a34210v.jpg': 'https://resource.arvest.app/32d3cfec2c1dc63bb3c907fd8d3c0bc9ba1d12ec/1a34210v.json', 'https://tile.loc.gov/storage-services/service/pnp/fsac/1a34000/1a34200/1a34211v.jpg': 'https://resource.arvest.app/ae17089e615ca024bfa3bda5ab55d6fcbdda8e43/1a34211v.json', 'https://tile.loc.gov/storage-services/service/pnp/fsac/1a34000/1a34200/1a34212v.jpg': 'https://resource.arvest.app/468ef1ef3c7f7f0426870dad3b0728f99fa1f0aa/1a34212v.json', 'https://tile.loc.gov/storage-services/service/pnp/fsac/1a34000/1a34200/1a34213v.jpg': 'https://resource.arvest.app/0baec6315510c29bb933688d8b21a1199f9e4947/1a34213v.json', 'https://tile.loc.gov/storage-services/service/pnp/fsac/1a34000/1a34200/1a34214v.jpg': 'https://resource.arvest.app/8bc3b558f63609a0815b3b3f2a30f0d40dfe329f/1a34214v.json', 'https://tile.loc.gov/storage-services/service/pnp/fsac/1a34000/1a34200/1a34215v.jpg': 'https://resource.arvest.app/6f67efed579dd3211c0c1dd7562dfc1f0d247b08/1a34215v.json', 'https://tile.loc.gov/storage-services/service/pnp/fsac/1a33000/1a33800/1a33870v.jpg': 'https://resource.arvest.app/9682b3605336ab184390993ab9ac5da184d31798/1a33870v.json', 'https://tile.loc.gov/storage-services/service/pnp/fsac/1a34000/1a34200/1a34216v.jpg': 'https://resource.arvest.app/985af138a1135b34c91bac130e2fd684d32ba682/1a34216v.json', 'https://tile.loc.gov/storage-services/service/pnp/fsac/1a34000/1a34200/1a34224v.jpg': 'https://resource.arvest.app/85756aba5960d9fc4c81b2c4649546f492dc8d3c/1a34224v.json', 'https://tile.loc.gov/storage-services/service/pnp/fsac/1a34000/1a34200/1a34225v.jpg': 'https://resource.arvest.app/34f18fba1095d41a74a109a53cd77ef733b13a8f/1a34225v.json', 'https://tile.loc.gov/storage-services/service/pnp/fsac/1a34000/1a34200/1a34226v.jpg': 'https://resource.arvest.app/82fe6ce4bab20e075375e7bdbeb9ec184d9c1474/1a34226v.json', 'https://tile.loc.gov/storage-services/service/pnp/fsac/1a34000/1a34200/1a34217v.jpg': 'https://resource.arvest.app/7ba34705478e92e69095cc4fcea6ac2b28a2902d/1a34217v.json', 'https://tile.loc.gov/storage-services/service/pnp/fsac/1a34000/1a34100/1a34191v.jpg': 'https://resource.arvest.app/c2ea6506f2149f24fbd9c80eb09014540c26b139/1a34191v.json', 'https://tile.loc.gov/storage-services/service/pnp/fsac/1a34000/1a34100/1a34192v.jpg': 'https://resource.arvest.app/fc92e7a2786364c2b159d587f1c69487e397c186/1a34192v.json', 'https://tile.loc.gov/storage-services/service/pnp/fsac/1a34000/1a34100/1a34193v.jpg': 'https://resource.arvest.app/e8d3726d016ee807c0e637f81704fb56e844db8e/1a34193v.json', 'https://tile.loc.gov/storage-services/service/pnp/fsac/1a34000/1a34100/1a34194v.jpg': 'https://resource.arvest.app/948f5f2d5901df716f030afced25936f52c66c85/1a34194v.json', 'https://tile.loc.gov/storage-services/service/pnp/fsac/1a34000/1a34100/1a34195v.jpg': 'https://resource.arvest.app/ba71f08139c5dfd0b03d826b2a827928687c2ceb/1a34195v.json', 'https://tile.loc.gov/storage-services/service/pnp/fsac/1a33000/1a33800/1a33871v.jpg': 'https://resource.arvest.app/e8e655634a4c5baf712c27786c0ff53d4026bba5/1a33871v.json', 'https://tile.loc.gov/storage-services/service/pnp/fsac/1a34000/1a34100/1a34196v.jpg': 'https://resource.arvest.app/90690586309f182a9edbf53192a82a6062ad7489/1a34196v.json', 'https://tile.loc.gov/storage-services/service/pnp/fsac/1a34000/1a34100/1a34197v.jpg': 'https://resource.arvest.app/aeb6c282d60d54039e24826f091c26d12baa226f/1a34197v.json', 'https://tile.loc.gov/storage-services/service/pnp/fsac/1a34000/1a34100/1a34198v.jpg': 'https://resource.arvest.app/11c14d56ceeebdf08460db50286d96f0405fa7c1/1a34198v.json', 'https://tile.loc.gov/storage-services/service/pnp/fsac/1a34000/1a34100/1a34199v.jpg': 'https://resource.arvest.app/07693c4154ae9a44ef54856d1571cf71fa63d21d/1a34199v.json', 'https://tile.loc.gov/storage-services/service/pnp/fsac/1a34000/1a34100/1a34171v.jpg': 'https://resource.arvest.app/b17111c87bbcacd9c630509623d886a5de823a3d/1a34171v.json', 'https://tile.loc.gov/storage-services/service/pnp/fsac/1a34000/1a34100/1a34172v.jpg': 'https://resource.arvest.app/5cbcb91ed28ec20de2e54df5ac8a695fef0a3af3/1a34172v.json', 'https://tile.loc.gov/storage-services/service/pnp/fsac/1a34000/1a34100/1a34173v.jpg': 'https://resource.arvest.app/c60535f316af26a592307010f0f7d82bcc238567/1a34173v.json', 'https://tile.loc.gov/storage-services/service/pnp/fsac/1a34000/1a34100/1a34174v.jpg': 'https://resource.arvest.app/85d2f0fba2265d4722d104bda2c4075b428b3efc/1a34174v.json', 'https://tile.loc.gov/storage-services/service/pnp/fsac/1a34000/1a34100/1a34185v.jpg': 'https://resource.arvest.app/2ea7bee7ccf709b2a992398338a165b81aee17fb/1a34185v.json', 'https://tile.loc.gov/storage-services/service/pnp/fsac/1a34000/1a34100/1a34175v.jpg': 'https://resource.arvest.app/c036c59575de7b92f56df978d0e58c8bc215bbb3/1a34175v.json', 'https://tile.loc.gov/storage-services/service/pnp/fsac/1a33000/1a33800/1a33872v.jpg': 'https://resource.arvest.app/ba15eb0f0340779586bfafff3424c2c2621ca7ba/1a33872v.json', 'https://tile.loc.gov/storage-services/service/pnp/fsac/1a34000/1a34100/1a34176v.jpg': 'https://resource.arvest.app/fd55cc808011e32c497323e65a4a6228f7d521d4/1a34176v.json', 'https://tile.loc.gov/storage-services/service/pnp/fsac/1a34000/1a34100/1a34177v.jpg': 'https://resource.arvest.app/2fa4d46544908607f3305e34f6e6cb7186a10c64/1a34177v.json', 'https://tile.loc.gov/storage-services/service/pnp/fsac/1a34000/1a34100/1a34178v.jpg': 'https://resource.arvest.app/3aafe93c1db2a4655d3e4d6fcc4bd9416a30b6bd/1a34178v.json', 'https://tile.loc.gov/storage-services/service/pnp/fsac/1a34000/1a34100/1a34179v.jpg': 'https://resource.arvest.app/e68317caf777c7442ab62bf998869fa041bf0127/1a34179v.json', 'https://tile.loc.gov/storage-services/service/pnp/fsac/1a34000/1a34100/1a34180v.jpg': 'https://resource.arvest.app/eb0a0ce65fc13e5cb3066c46802a8ecc20726784/1a34180v.json', 'https://tile.loc.gov/storage-services/service/pnp/fsac/1a34000/1a34100/1a34186v.jpg': 'https://resource.arvest.app/b55421054a633f4c596b7a01f69bff558aa64c0d/1a34186v.json', 'https://tile.loc.gov/storage-services/service/pnp/fsac/1a34000/1a34100/1a34187v.jpg': 'https://resource.arvest.app/08542be601e836265d38fa6f5cf6ca3db9a583c5/1a34187v.json', 'https://tile.loc.gov/storage-services/service/pnp/fsac/1a34000/1a34100/1a34188v.jpg': 'https://resource.arvest.app/7800e516bdcfbe1c7d33bf66cef845ea7e49f073/1a34188v.json', 'https://tile.loc.gov/storage-services/service/pnp/fsac/1a34000/1a34100/1a34181v.jpg': 'https://resource.arvest.app/cbafd54b6b8354e80697943430003174926b25f6/1a34181v.json'}\n"
     ]
    }
   ],
   "source": [
    "print(MANIFEST_DICT)"
   ]
  },
  {
   "cell_type": "markdown",
   "metadata": {},
   "source": [
    "Now we can create the Manifest for the visualization which will point to all of the various Manifests we have just created."
   ]
  }
 ],
 "metadata": {
  "kernelspec": {
   "display_name": "venv",
   "language": "python",
   "name": "python3"
  },
  "language_info": {
   "codemirror_mode": {
    "name": "ipython",
    "version": 3
   },
   "file_extension": ".py",
   "mimetype": "text/x-python",
   "name": "python",
   "nbconvert_exporter": "python",
   "pygments_lexer": "ipython3",
   "version": "3.11.10"
  }
 },
 "nbformat": 4,
 "nbformat_minor": 2
}
