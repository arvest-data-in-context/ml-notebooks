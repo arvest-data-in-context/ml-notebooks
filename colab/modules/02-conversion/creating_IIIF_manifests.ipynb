{
 "cells": [
  {
   "cell_type": "markdown",
   "metadata": {},
   "source": [
    "# Creating IIIF Manifests\n",
    "\n",
    "|Category(ies)         |References            |Input Type            |Workflows             |Next Steps            |\n",
    "|----------------------|----------------------|----------------------|----------------------|----------------------|\n",
    "|conversion|[IIIF website](https://iiif.io/), [iiif-prezi3 package](https://github.com/iiif-prezi/iiif-prezi3)|multiple|||\n",
    "\n",
    "In this notebook we will create [IIIF](https://iiif.io/) Manifests from different kinds of media. A IIIF Manifest is a light weight json file that allows us to point to media that is hosted online (or several medias in one Manifest), and also define things like metadata and annotations. It follows a standardized structure that is defined by the [IIIF Presentation API](https://iiif.io/api/presentation/3.0/)."
   ]
  },
  {
   "cell_type": "markdown",
   "metadata": {},
   "source": [
    "## 1. Setup\n",
    "First, let's import all of our dependencies."
   ]
  },
  {
   "cell_type": "code",
   "execution_count": 3,
   "metadata": {},
   "outputs": [],
   "source": [
    "# Installs\n",
    "!pip cache purge > /dev/null 2>&1 # Purge pip's cache so that everything installs correctly.\n",
    "!pip uninstall -y gcu > /dev/null 2>&1 # Uninstall gcu if it was previously installed.\n",
    "!pip install -q git+https://github.com/arvest-data-in-context/gcu > /dev/null 2>&1 # Install the gcu package.\n",
    "!conda install -y -c conda-forge ffmpeg > /dev/null 2>&1 # Install ffmpeg for file conversion. TODO: check this is necessary for this notebook.\n",
    "!pip install -q git+https://github.com/iiif-prezi/iiif-prezi3.git # Install the iiif-prezi3 package.\n",
    "\n",
    "# Imports\n",
    "import gcu\n",
    "import iiif_prezi3\n",
    "import uuid"
   ]
  },
  {
   "cell_type": "markdown",
   "metadata": {},
   "source": [
    "## 2. Prepare your media\n",
    "In order to work, IIIF needs the URL of an accesible media file on the internet. There are plenty of services that let you store files and render them accessible, some of them are free, some you will have to pay for. Here are a few:\n",
    "- [Internet archive](https://archive.org/): you can store any type of file on internet archive.\n",
    "- [Github](https://github.com/): if you have a github account, you can upload small files to a repo and access them with a direct url.\n",
    "- [Nakala](https://www.nakala.fr/): run by Huma-Num, Nakala is a service that allows you to store data for digital humanities projects.\n",
    "- [File Browser](https://filebrowser.org/): file browser is an open source file hosting system you can set up on your own server.\n",
    "- [Arvest](https://arvest.app): Arvest is a digital humanities tool specifically designed for IIIF which also lets you store media.\n",
    "\n",
    "You will know that a file is directly available if you go to the link in an internet browser and nothing but the media file's contents appears. For the purposes of this module, we shall use some content that we know is available at the following adresses (follow the links to see them), however you can always replace these file names with your own. "
   ]
  },
  {
   "cell_type": "code",
   "execution_count": null,
   "metadata": {},
   "outputs": [],
   "source": [
    "media_urls = {\n",
    "    \"image_1\" : \"https://files.tetras-libre.fr/media/sceno_avignon.jpg\",\n",
    "    \"image_2\" : \"https://files.tetras-libre.fr/media/walden_nouvel.JPG\",\n",
    "    \"audio_1\" : \"https://files.tetras-libre.fr/media/test_markeas.wav\",\n",
    "    \"audio_2\" : \"https://files.tetras-libre.fr/media/speech_recognition_test_corpus/en/clean-support-call.wav\",\n",
    "    \"video_1\" : \"https://files.tetras-libre.fr/media/jf_peyret_re_walden.mp4\",\n",
    "    \"video_2\" : \"https://files.tetras-libre.fr/media/plozevet/fonds_gessain/132.mp4\"\n",
    "}"
   ]
  },
  {
   "cell_type": "markdown",
   "metadata": {},
   "source": [
    "## 3. Create a basic Manifest\n",
    "\n",
    "Let's create our first Manifest. Remeber, a Manifest is just a json file with a certain structure, we could do everything by hand, but we'll use the [iiif-prezi3](https://github.com/iiif-prezi/iiif-prezi3) package to make things easier. \n",
    "\n",
    "We can create an instance of the Manifest class to represent our IIIF Manifest."
   ]
  },
  {
   "cell_type": "code",
   "execution_count": null,
   "metadata": {},
   "outputs": [],
   "source": [
    "filename = f\"{str(uuid.uuid4())}.json\" # First, let's set a filename four our Manifest (we just set a random one).\n",
    "\n",
    "m = iiif_prezi3.Manifest(\n",
    "    # The id is the URL to the Manifest when it will be uploaded online:\n",
    "    id = f\"https://files.tetras-libre.fr/manifests/{filename}\",\n",
    "    # We must also give our Manifest a label using the w3c annotations model):\n",
    "    label = {\"en\" : [\"My first Manifest\"]}\n",
    ")\n",
    "\n",
    "# Now we can print the Manifest in json form to see its structure:\n",
    "print(m.json(indent=2))"
   ]
  },
  {
   "cell_type": "markdown",
   "metadata": {},
   "source": [
    "Great! Now if we want, we can turn this into a json file and download the Manifest onto our machine so that we can upload it later."
   ]
  },
  {
   "cell_type": "code",
   "execution_count": null,
   "metadata": {},
   "outputs": [],
   "source": [
    "file = gcu.files.File(\n",
    "    filename = filename\n",
    "    m.json(indent=2)\n",
    ")\n",
    "\n",
    "file.download()"
   ]
  }
 ],
 "metadata": {
  "kernelspec": {
   "display_name": "Python 3 (ipykernel)",
   "language": "python",
   "name": "python3"
  },
  "language_info": {
   "codemirror_mode": {
    "name": "ipython",
    "version": 3
   },
   "file_extension": ".py",
   "mimetype": "text/x-python",
   "name": "python",
   "nbconvert_exporter": "python",
   "pygments_lexer": "ipython3",
   "version": "3.11.8"
  }
 },
 "nbformat": 4,
 "nbformat_minor": 4
}
