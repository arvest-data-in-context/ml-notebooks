{
 "cells": [
  {
   "cell_type": "markdown",
   "metadata": {},
   "source": [
    "![IIIF Manifest Creation](https://raw.githubusercontent.com/arvest-data-in-context/ml-notebooks/refs/heads/main/docs/images/notebooks/iiif-manifest-creation.png)\n",
    "\n",
    "In this notebook, you'll learn how to create [IIIF](https://iiif.io/) Manifests in python using the [iiif-prezi3](https://github.com/iiif-prezi/iiif-prezi3) package, and upload them to [Arvest](https://arvest.app) using the [Arvest API](https://github.com/arvest-data-in-context/arvest-api) so that you can see how they look. A IIIF Manifest is a small json file that allows you to bring together different media, set metadata and add annotations. A IIIF Manifest follows a strict format called the [IIIF Presentation API](https://iiif.io/api/presentation/3.0/)."
   ]
  },
  {
   "cell_type": "markdown",
   "metadata": {},
   "source": [
    "# 0. Setup\n",
    "\n",
    "Let's begin by installing and importing all of the different components we will need."
   ]
  },
  {
   "cell_type": "code",
   "execution_count": null,
   "metadata": {},
   "outputs": [],
   "source": [
    "print(\"Installing and importing packages...\")\n",
    "\n",
    "# Uninstall and reinstall packages for a clean environment\n",
    "!pip uninstall -q -y arvestapi\n",
    "!pip uninstall -q -y jhutils\n",
    "!pip uninstall -q -y iiif_prezi3\n",
    "!pip install -q --disable-pip-version-check git+https://github.com/arvest-data-in-context/arvest-api.git\n",
    "!pip install -q --disable-pip-version-check git+https://github.com/jdchart/jh-py-utils.git\n",
    "!pip install -q --disable-pip-version-check git+https://github.com/iiif-prezi/iiif-prezi3.git\n",
    "\n",
    "# Import packages\n",
    "import arvestapi\n",
    "from jhutils.local_files import write_json, get_audio_info, get_video_info, get_image_info\n",
    "import jhutils.online_files\n",
    "from jhutils.misc import print_progress_bar_colab\n",
    "import os\n",
    "import iiif_prezi3\n",
    "import shutil\n",
    "import mimetypes\n",
    "\n",
    "print(\"👍 Ready!\")"
   ]
  },
  {
   "cell_type": "markdown",
   "metadata": {},
   "source": [
    "# 1. Prepare your media\n",
    "In order to work, IIIF needs the URL of an accesible media file on the internet. There are plenty of services that let you store files and render them accessible, some of them are free, some you will have to pay for. Here are a few:\n",
    "- [Internet archive](https://archive.org/): you can store any type of file on internet archive.\n",
    "- [Github](https://github.com/): if you have a github account, you can upload small files to a repo and access them with a direct url.\n",
    "- [Nakala](https://www.nakala.fr/): run by Huma-Num, Nakala is a service that allows you to store data for digital humanities projects.\n",
    "- [File Browser](https://filebrowser.org/): file browser is an open source file hosting system you can set up on your own server.\n",
    "- [Arvest](https://arvest.app): Arvest is a digital humanities tool specifically designed for IIIF which also lets you store media.\n",
    "\n",
    "You will know that a file is directly available if you go to the link in an internet browser and nothing but the media file's content appears. For the purposes of this notebook, we shall use some content that we know is available at the following adresses (hosted at the [Library of Congress](https://www.loc.gov/collections/fsa-owi-color-photographs/about-this-collection/)), however you can always replace these file names with your own. "
   ]
  },
  {
   "cell_type": "code",
   "execution_count": null,
   "metadata": {},
   "outputs": [],
   "source": [
    "media_urls = {\n",
    "    \"images\" : [\n",
    "        \"https://tile.loc.gov/storage-services/service/pnp/fsac/1a34000/1a34600/1a34630v.jpg\",\n",
    "        \"https://tile.loc.gov/storage-services/service/pnp/fsac/1a34000/1a34200/1a34209v.jpg\"\n",
    "    ],\n",
    "    \"audio\" : [\n",
    "        \"https://tile.loc.gov/storage-services/master/afc/afc1940001/afc1940001_a3815a2/afc1940001_a3815a2.wav\",\n",
    "        \"https://tile.loc.gov/storage-services/master/afc/afc1999008/afc1999008_crf_mha215007.wav\"\n",
    "    ],\n",
    "    \"video\" : [\n",
    "        \"https://tile.loc.gov/storage-services/service/mbrs/ntscrm/01629085/01629085.mp4\",\n",
    "        \"https://tile.loc.gov/storage-services/public/music/musihas-200003870/musihas-200003870.0001.mp4\"\n",
    "    ]\n",
    "}"
   ]
  },
  {
   "cell_type": "markdown",
   "metadata": {},
   "source": [
    "In order to create our Manifests, we will need to gather some basic information about our media: **dimensions** and in the case of audiovisual media **duration**. Unfortunately, the most reliable way of doing this is to download the media file and then get the information. In the following cell, we download each file, get the information we need, and then remove all of the media."
   ]
  },
  {
   "cell_type": "code",
   "execution_count": null,
   "metadata": {},
   "outputs": [],
   "source": [
    "TEMP_FOLDER = os.path.join(os.getcwd(), \"_TEMP\")\n",
    "media_info = {}\n",
    "\n",
    "if os.path.isdir(TEMP_FOLDER) == False:\n",
    "    os.makedirs(TEMP_FOLDER)\n",
    "\n",
    "print(\"Downloading and retriving info...\")\n",
    "\n",
    "for media_type in media_urls:\n",
    "    for i, media_file in enumerate(media_urls[media_type]):\n",
    "        print_progress_bar_colab(i, len(media_urls[media_type]) - 1, f\"(File {i + 1}/{len(media_urls[media_type])} in {media_type})\")\n",
    "\n",
    "        jhutils.online_files.download(media_file, dir = TEMP_FOLDER)\n",
    "        if media_type == \"images\":\n",
    "            media_info[os.path.basename(media_file)] = get_image_info(os.path.join(TEMP_FOLDER, os.path.basename(media_file)))\n",
    "        if media_type == \"audio\":\n",
    "            media_info[os.path.basename(media_file)] = get_audio_info(os.path.join(TEMP_FOLDER, os.path.basename(media_file)))\n",
    "        if media_type == \"video\":\n",
    "            media_info[os.path.basename(media_file)] = get_video_info(os.path.join(TEMP_FOLDER, os.path.basename(media_file)))\n",
    "\n",
    "for item in media_info:\n",
    "    print(f\"{item}:\\n\\t{media_info[item]}\")\n",
    "\n",
    "print(\"👍 Finished!\")"
   ]
  },
  {
   "cell_type": "markdown",
   "metadata": {},
   "source": [
    "# 2. Create basic Manifests\n",
    "Now we have all of the information we need to create our basic Manifests that point to our media. "
   ]
  },
  {
   "cell_type": "code",
   "execution_count": null,
   "metadata": {},
   "outputs": [],
   "source": [
    "manifests = {\"images\" : [], \"audio\" : [], \"video\" : []}\n",
    "\n",
    "for media_type in media_urls:\n",
    "    for i, media_file in enumerate(media_urls[media_type]):\n",
    "        print_progress_bar_colab(i, len(media_urls[media_type]) - 1, f\"(File {i + 1}/{len(media_urls[media_type])} in {media_type})\")\n",
    "\n",
    "        media_file_info = media_info[os.path.basename(media_file)]\n",
    "        \n",
    "        # The Manifest class is our starting point:\n",
    "        manifest = iiif_prezi3.Manifest(\n",
    "            id = f\"https://placeholder.com/{os.path.basename(media_file)}.json\",\n",
    "            label = {\"en\" : [f\"{os.path.basename(media_file)} ({media_type} {i + 1} / {len(media_urls[media_type])})\"]}\n",
    "        )\n",
    "\n",
    "        # Next we create Canvas, think of this as a page in your Manifest:\n",
    "        canvas = iiif_prezi3.Canvas(\n",
    "            id = \"https://placeholder.com/canvas/1\",\n",
    "            label = {\"en\" : [f\"{os.path.basename(media_file)}\"]}\n",
    "        )\n",
    "\n",
    "        # Next we need to add the media file:\n",
    "        annotation_page = iiif_prezi3.AnnotationPage(id = \"https://placeholder.com/canvas/1/page/1\")\n",
    "        media_annotation_element = iiif_prezi3.Annotation(\n",
    "            id = \"https://placeholder.com/canvas/1/page/1/1\",\n",
    "            motivation = \"painting\",\n",
    "            target = \"https://placeholder.com/canvas/1\"\n",
    "        )\n",
    "        mime_type, encoding = mimetypes.guess_type(media_file)\n",
    "        body = {\n",
    "            \"id\" : media_file,\n",
    "            \"type\" : mime_type.split(\"/\")[0].capitalize(),\n",
    "            \"format\" : mime_type\n",
    "        }\n",
    "\n",
    "        # Next let's update the corresponding fields with dimansion and duration information:\n",
    "        if media_type == \"images\" or media_type == \"video\":\n",
    "            media_annotation_element.target = media_annotation_element.target + f\"#xywh=0,0,{media_file_info['width']},{media_file_info['height']}\"\n",
    "            body[\"width\"] = media_file_info['width']\n",
    "            body[\"height\"] = media_file_info['height']\n",
    "            canvas.width = media_file_info['width']\n",
    "            canvas.height = media_file_info['height']\n",
    "            if media_type == \"video\":\n",
    "                media_annotation_element.target = media_annotation_element.target + f\"&t=0,{media_file_info['duration'] / 1000}\"\n",
    "                body[\"duration\"] = media_file_info['duration'] / 1000\n",
    "                canvas.duration = media_file_info[\"duration\"] / 1000\n",
    "        if media_type == \"audio\":\n",
    "            media_annotation_element.target = media_annotation_element.target + f\"#t=0,{media_file_info['duration'] / 1000}\"\n",
    "            body[\"duration\"] = media_file_info['duration'] / 1000\n",
    "            body[\"type\"] = \"Sound\"\n",
    "            canvas.duration = media_file_info[\"duration\"] / 1000\n",
    "\n",
    "        # We need to stitch everything together:\n",
    "        media_annotation_element.body = body\n",
    "        annotation_page.items.append(media_annotation_element)\n",
    "        canvas.items.append(annotation_page)\n",
    "        manifest.items.append(canvas)\n",
    "\n",
    "        # And finally save everything to disk:\n",
    "        write_json(os.path.join(TEMP_FOLDER, f\"{os.path.splitext(os.path.basename(media_file))[0]} Basic Manifest.json\"), manifest.dict())\n",
    "        manifests[media_type].append(manifest)\n",
    "\n",
    "print(\"👍 Manifests created!\")"
   ]
  },
  {
   "cell_type": "markdown",
   "metadata": {},
   "source": [
    "# 3. Upload to Arvest\n",
    "Congrats! We've succesfully created our first Manifests. Let's upload them to Arvest in order to see how they look. First, we need to \"connect\" to Arvest using the Arvest API package. For this, we need our user email and our password."
   ]
  },
  {
   "cell_type": "code",
   "execution_count": null,
   "metadata": {},
   "outputs": [],
   "source": [
    "ar = arvestapi.Arvest(\"my_email@something.com\", \"myarvestpassword\")\n",
    "print(f\"👍 Succesfully connected to Arvest with \\\"{ar.profile.name}\\\"\")"
   ]
  },
  {
   "cell_type": "markdown",
   "metadata": {},
   "source": [
    "Now we can upload the Manifest files to Arvest using the `add_manifest()` function. This will take one kwarg, `path`, which is the path to the file we'd like to upload. This can be a local path or an online path, the API package will take care of things for us. Each time, we'll grab the added media, and also modify the **title** and **description**. Well also need to set the `update_id` kwarg to `True` so that the placeholder urls get replaced with the new url created when we upload the Manifest to arvest."
   ]
  },
  {
   "cell_type": "code",
   "execution_count": null,
   "metadata": {},
   "outputs": [],
   "source": [
    "uploaded_manifests = []\n",
    "count = 0\n",
    "print(\"Uploading files...\")\n",
    "\n",
    "for media_type in media_urls:\n",
    "    for i, media_file in enumerate(media_urls[media_type]):\n",
    "        print_progress_bar_colab(i, len(media_urls[media_type]) - 1, f\"(Manifest {i + 1}/{len(media_urls[media_type])} in {media_type})\")\n",
    "        manifest_path = os.path.join(TEMP_FOLDER, f\"{os.path.splitext(os.path.basename(media_file))[0]} Basic Manifest.json\")\n",
    "        \n",
    "        added_manifest = ar.add_manifest(path = manifest_path, update_id = True)\n",
    "        added_manifest.update_title(f\"{os.path.splitext(os.path.basename(media_file))[0]} Basic Manifest\")\n",
    "        added_manifest.update_description(\"API created Manifest\")\n",
    "        \n",
    "        # Update metadata:\n",
    "        manifest_metadata = added_manifest.get_metadata()\n",
    "        manifest_metadata[\"creator\"] = \"Batch media upload example script\"\n",
    "        manifest_metadata[\"identifier\"] = \"&&BATCH_UPLOAD\"\n",
    "        added_manifest.update_metadata(manifest_metadata)\n",
    "        count = count + 1\n",
    "\n",
    "print(f\"👏 Added {count} Manifest files to Arvest!\")"
   ]
  },
  {
   "cell_type": "markdown",
   "metadata": {},
   "source": [
    "# 4. More complicated Manifests\n",
    "Now that we've got basic Manifests up and running, lets make them a bit more coplicated! We'll go through a few functionalities here that show you the scope of what a IIIF Manifst can do."
   ]
  },
  {
   "cell_type": "markdown",
   "metadata": {},
   "source": [
    "## Manifest Metadata\n",
    "First, we can give our Manifets some metadat. Note that this isn't the same as the metadata given to the object in Arvest, this is the Metadata that is displayed within the workspace, alongside your media. For the sake of these examples, we'll take the first video Manifest created earlier. To add metadata, we simply need to update the list associated with the prezi3 `Manifest`'s `metadata` property."
   ]
  },
  {
   "cell_type": "code",
   "execution_count": null,
   "metadata": {},
   "outputs": [],
   "source": [
    "manifest = manifests[\"video\"][0]\n",
    "\n",
    "metadata = [\n",
    "    {\n",
    "        \"label\" : {\"en\" : [\"Title\"]},\n",
    "        \"value\" : {\"en\" : [\"My super video manifest\"]},\n",
    "    },\n",
    "    {\n",
    "        \"label\" : {\"en\" : [\"Creator\"]},\n",
    "        \"value\" : {\"en\" : [\"Me!\"]},\n",
    "    },\n",
    "    {\n",
    "        \"label\" : {\"en\" : [\"Date\"]},\n",
    "        \"value\" : {\"en\" : [\"My super video manifest\"]},\n",
    "    }\n",
    "]\n",
    "\n",
    "manifest.metadata = metadata\n",
    "\n",
    "print(\"👍 Updated Manifest metadata!\")"
   ]
  },
  {
   "cell_type": "markdown",
   "metadata": {},
   "source": [
    "## Annotations\n",
    "Next we can give our Manifest's canvas some annotations. To do this, we'll need to create a new prezi3 `AnnotationPage` object and some `Annotation`s which we shall format in a specific way."
   ]
  },
  {
   "cell_type": "code",
   "execution_count": null,
   "metadata": {},
   "outputs": [],
   "source": [
    "annotation_page = iiif_prezi3.AnnotationPage(id = \"https://placeholder.com/canvas/1/annotation/1\")\n",
    "\n",
    "# Simple textual annotation\n",
    "annotation_page.items.append(iiif_prezi3.Annotation(\n",
    "    id = \"https://placeholder.com/canvas/1/annotation/1/1\",\n",
    "    motivation = \"commenting\",\n",
    "    target = \"https://placeholder.com/canvas/1\",\n",
    "    body = {\n",
    "        \"type\" : \"TextualBody\",\n",
    "        \"format\" : \"text/html\",\n",
    "        \"value\" : \"<p><strong><em>MY COOL ANNOTATION</em></strong><br>This Annotation is written in html, here's a <a href=\\\"https://arvest.app/en\\\">link</a>.</p>\"\n",
    "    }\n",
    "))\n",
    "\n",
    "# Tagging annotation\n",
    "annotation_page.items.append(iiif_prezi3.Annotation(\n",
    "    id = \"https://placeholder.com/canvas/1/annotation/1/2\",\n",
    "    motivation = \"tagging\",\n",
    "    target = \"https://placeholder.com/canvas/1\",\n",
    "    body = {\n",
    "        \"type\" : \"TextualBody\",\n",
    "        \"format\" : \"text/html\",\n",
    "        \"value\" : \"Hello world\"\n",
    "    }\n",
    "))\n",
    "\n",
    "# Annotation linked to another manifest\n",
    "linked_manifest_url = \"https://iiif.harvardartmuseums.org/manifests/object/299843\"\n",
    "annotation_page.items.append(iiif_prezi3.Annotation(\n",
    "    id = f\"https://placeholder.com/canvas/1/annotation/1/3#{linked_manifest_url}\",\n",
    "    motivation = \"commenting\",\n",
    "    target = \"https://placeholder.com/canvas/1\",\n",
    "    body = {\n",
    "        \"type\" : \"TextualBody\",\n",
    "        \"format\" : \"text/html\",\n",
    "        \"value\" : \"<p>Visit this Manifest by clicking the link below.</p>\"\n",
    "    }\n",
    "))\n",
    "\n",
    "# Annotation with a spatial region:\n",
    "region = {\"x\" : 10, \"y\" : 10, \"w\" : 100, \"h\" : 100}\n",
    "annotation_page.items.append(iiif_prezi3.Annotation(\n",
    "    id = f\"https://placeholder.com/canvas/1/annotation/1/4\",\n",
    "    motivation = \"commenting\",\n",
    "    target = f\"https://placeholder.com/canvas/1#xywh={region['x']},{region['y']},{region['w']},{region['h']}\",\n",
    "    body = {\n",
    "        \"type\" : \"TextualBody\",\n",
    "        \"format\" : \"text/html\",\n",
    "        \"value\" : \"<p>This will target a 100 pixel square at the coordinates 10,10.</p>\"\n",
    "    }\n",
    "))\n",
    "\n",
    "# Annotation with a temporal region:\n",
    "region = {\"start\" : 1, \"end\" : 2}\n",
    "annotation_page.items.append(iiif_prezi3.Annotation(\n",
    "    id = f\"https://placeholder.com/canvas/1/annotation/1/5\",\n",
    "    motivation = \"commenting\",\n",
    "    target = f\"https://placeholder.com/canvas/1#t={region['start']},{region['end']}\",\n",
    "    body = {\n",
    "        \"type\" : \"TextualBody\",\n",
    "        \"format\" : \"text/html\",\n",
    "        \"value\" : \"<p>This will target from 1 second to 2 seconds.</p>\"\n",
    "    }\n",
    "))\n",
    "\n",
    "# Annotation with everything!\n",
    "region = {\"x\" : 110, \"y\" : 110, \"w\" : 100, \"h\" : 100, \"start\" : 1, \"end\" : 2}\n",
    "linked_manifest_url = \"https://iiif.harvardartmuseums.org/manifests/object/299843\"\n",
    "annotation_page.items.append(iiif_prezi3.Annotation(\n",
    "    id = f\"https://placeholder.com/canvas/1/annotation/1/6#{linked_manifest_url}\",\n",
    "    motivation = \"commenting\",\n",
    "    target = f\"https://placeholder.com/canvas/1#xywh={region['x']},{region['y']},{region['w']},{region['h']}&t={region['start']},{region['end']}\",\n",
    "    body = {\n",
    "        \"type\" : \"TextualBody\",\n",
    "        \"format\" : \"text/html\",\n",
    "        \"value\" : \"<p><strong>A BIT OF EVERYTHING PLEASE!</strong></p>\"\n",
    "    }\n",
    "))\n",
    "\n",
    "# Add the annotations to the Canvas:\n",
    "manifest.items[0].annotations = [annotation_page]\n",
    "\n",
    "print(\"👍 Updated Manifest annotations!\")"
   ]
  },
  {
   "cell_type": "markdown",
   "metadata": {},
   "source": [
    "## Attribution\n",
    "Next, let's provide a few other bits ofinformation, such as `requiredStatement`, `rights`, `provider` etc."
   ]
  },
  {
   "cell_type": "code",
   "execution_count": null,
   "metadata": {},
   "outputs": [],
   "source": [
    "manifest.rights = \"https://creativecommons.org/licenses/by-nc-nd/4.0/\"\n",
    "manifest.requiredStatement = {\n",
    "    \"label\" : {\"en\" : [\"Attribution\"]},\n",
    "    \"value\" : {\"en\" : [\"My institution\"]}\n",
    "}\n",
    "manifest.provider = [iiif_prezi3.ProviderItem(\n",
    "    id = \"https://www.univ-rennes2.fr/\",\n",
    "    label = {\"en\" : [\"My institution\"]},\n",
    "    homepage = iiif_prezi3.HomepageItem(id = \"https://arvest.app/en\", label = {\"en\" : [\"Arvest Homepage\"]}, type = \"Text\"),\n",
    "    logo = {\"id\" : \"https://arvest.app/imgs/logos/arvest_logo_cut.png\", \"type\" : \"Image\", \"format\" : \"image/png\", \"width\" : 107, \"height\" : 107}\n",
    ")]\n",
    "\n",
    "print(\"👍 Updated Manifest attribution!\")"
   ]
  },
  {
   "cell_type": "markdown",
   "metadata": {},
   "source": [
    "## Thumbnails\n",
    "Let's also add some thumbnails. We'll need to set one for the Manifest iteself as well as the Canvas."
   ]
  },
  {
   "cell_type": "code",
   "execution_count": null,
   "metadata": {},
   "outputs": [],
   "source": [
    "manifest.thumbnail = [{\"id\" : \"https://arvest.app/imgs/logos/arvest_logo_cut.png\", \"type\" : \"Image\", \"format\" : \"image/png\", \"width\" : 107, \"height\" : 107}]\n",
    "manifest.items[0].thumbnail = [{\"id\" : \"https://arvest.app/imgs/logos/arvest_logo_cut.png\", \"type\" : \"Image\", \"format\" : \"image/png\", \"width\" : 107, \"height\" : 107}]\n",
    "\n",
    "print(\"👍 Updated Manifest thumbnails!\")"
   ]
  },
  {
   "cell_type": "markdown",
   "metadata": {},
   "source": [
    "## Save the Manifest and upload\n",
    "Finally let's save the Manifest to disk, and upload the result to Arvest."
   ]
  },
  {
   "cell_type": "code",
   "execution_count": null,
   "metadata": {},
   "outputs": [],
   "source": [
    "# Save\n",
    "out_path = os.path.join(TEMP_FOLDER, \"complex_video_manifest.json\")\n",
    "write_json(out_path, manifest.dict())\n",
    "\n",
    "# Upload\n",
    "added_manifest = ar.add_manifest(path = out_path, update_id = True)\n",
    "added_manifest.update_title(\"Complex video manifest\")\n",
    "added_manifest.update_description(\"Showing off some more complex possibilities.\")\n",
    "\n",
    "# Update metadata\n",
    "manifest_metadata = added_manifest.get_metadata()\n",
    "manifest_metadata[\"creator\"] = \"Batch media upload example script\"\n",
    "manifest_metadata[\"identifier\"] = \"&&BATCH_UPLOAD\"\n",
    "added_manifest.update_metadata(manifest_metadata)"
   ]
  },
  {
   "cell_type": "markdown",
   "metadata": {},
   "source": [
    "# 5. Cleanup\n",
    "To finish, lets clean up our mess! First, we can delete the temporary folder where the media was downloaded and our Manifests were created."
   ]
  },
  {
   "cell_type": "code",
   "execution_count": null,
   "metadata": {},
   "outputs": [],
   "source": [
    "shutil.rmtree(TEMP_FOLDER)\n",
    "print(f\"🗑️ {TEMP_FOLDER} removed !\")"
   ]
  },
  {
   "cell_type": "markdown",
   "metadata": {},
   "source": [
    "And finally, we can reove from Arvest all of our Manifests. We can get all of our Manifests by using the `get_manifests()` function, then check it's metadata. If it's one of the files we want to remove, we can then use the `remove()` function.\n",
    "\n",
    "**Warning: there's no going back after using the remove function, so be careful!**"
   ]
  },
  {
   "cell_type": "code",
   "execution_count": null,
   "metadata": {},
   "outputs": [],
   "source": [
    "all_manifests = ar.get_manifests()\n",
    "count = 0\n",
    "print(\"Removing manifests...\")\n",
    "\n",
    "for i, media_file in enumerate(all_manifests):\n",
    "    print_progress_bar_colab(i, len(all_manifests) - 1, f\"(Processing file {i + 1}/{len(all_manifests)})\")\n",
    "    media_metadata = media_file.get_metadata()\n",
    "    if media_metadata[\"creator\"] == \"Batch media upload example script\" and media_metadata[\"identifier\"] == \"&&BATCH_UPLOAD\":\n",
    "        media_file.remove()\n",
    "        count = count + 1\n",
    "\n",
    "print(f\"🗑️ Removed {count} Manifest files!\")"
   ]
  }
 ],
 "metadata": {
  "kernelspec": {
   "display_name": "venv",
   "language": "python",
   "name": "python3"
  },
  "language_info": {
   "codemirror_mode": {
    "name": "ipython",
    "version": 3
   },
   "file_extension": ".py",
   "mimetype": "text/x-python",
   "name": "python",
   "nbconvert_exporter": "python",
   "pygments_lexer": "ipython3",
   "version": "3.11.10"
  }
 },
 "nbformat": 4,
 "nbformat_minor": 2
}
