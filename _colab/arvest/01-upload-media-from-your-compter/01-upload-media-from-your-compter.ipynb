{
 "cells": [
  {
   "cell_type": "markdown",
   "metadata": {},
   "source": [
    "![Arvest batch media upload](https://raw.githubusercontent.com/arvest-data-in-context/ml-notebooks/refs/heads/main/docs/images/notebooks/arvest-batch-media-upload.png)\n",
    "\n",
    "In this notebook, we shall learn how to batch upload media files from you machine to [Arvest](https://arvest.app) using the [Arvest API](https://github.com/arvest-data-in-context/arvest-api)."
   ]
  },
  {
   "cell_type": "markdown",
   "metadata": {},
   "source": [
    "# 0. Setup\n",
    "\n",
    "Let's begin by installing and importing all of the different components we will need."
   ]
  },
  {
   "cell_type": "code",
   "execution_count": null,
   "metadata": {},
   "outputs": [],
   "source": [
    "print(\"Installing and importing packages...\")\n",
    "\n",
    "# Uninstall and reinstall packages for a clean environment\n",
    "!pip uninstall -q -y arvestapi\n",
    "!pip uninstall -q -y jhutils\n",
    "!pip install -q --disable-pip-version-check git+https://github.com/arvest-data-in-context/arvest-api.git\n",
    "!pip install -q --disable-pip-version-check git+https://github.com/jdchart/jh-py-utils.git\n",
    "\n",
    "# Import packages\n",
    "import arvestapi\n",
    "from jhutils.local_files import collect_files\n",
    "from jhutils.misc import print_progress_bar_colab\n",
    "import os\n",
    "\n",
    "print(\"👍 Ready!\")"
   ]
  },
  {
   "cell_type": "markdown",
   "metadata": {},
   "source": [
    "# 1. Prepare your media\n",
    "\n",
    "In the local version of this notebook, you can directly look for files on your computer. As we're operating in Google Colab here, you'll first have to upload your files to the temporary storage section. To do this, open the `Files` tab on the left, and drop the files into the workspace.\n",
    "\n",
    "Next you can get the path to to your media files. We shall define the absolute path to a folder in the Colab workspace with the `FOLER_TO_UPLOAD` variable, then use out utility function `collect_files()` which finds all of the files of a certain type within a given folder. We shall be uploading image files, so we give the `ACCEPTED_FILES` variable a list of image extensions."
   ]
  },
  {
   "cell_type": "code",
   "execution_count": null,
   "metadata": {},
   "outputs": [],
   "source": [
    "FOLDER_TO_UPLOAD = os.path.join(os.getcwd())\n",
    "ACCEPTED_FILES = [\"jpg\", \"jpeg\", \"png\"]\n",
    "\n",
    "local_media_files = collect_files(FOLDER_TO_UPLOAD, ACCEPTED_FILES)\n",
    "print(f\"🔍 Found {len(local_media_files)} image files in {FOLDER_TO_UPLOAD}.\")"
   ]
  },
  {
   "cell_type": "markdown",
   "metadata": {},
   "source": [
    "# 2. Connect to Arvest\n",
    "Next, we need to \"connect\" to Arvest using the Arvest API package. For this, we need our user email and our password which we will give to an instance of the `arvestapi.Arvest()` class."
   ]
  },
  {
   "cell_type": "code",
   "execution_count": null,
   "metadata": {},
   "outputs": [],
   "source": [
    "EMAIL = \"my_email@something.com\"\n",
    "PASSWORD = \"myarvestpassword\"\n",
    "\n",
    "ar = arvestapi.Arvest(EMAIL, PASSWORD)\n",
    "print(f\"👍 Succesfully connected to Arvest with \\\"{ar.profile.name}\\\"\")"
   ]
  },
  {
   "cell_type": "markdown",
   "metadata": {},
   "source": [
    "Now we can add the media to Arvest using the `add_media()` function. This will take one kwarg, `path`, which is the path to the file we'd like to upload.\n",
    "\n",
    "We'll first upload the file and put the returned object into a variable called `added_media`. This will then allow us to update the **title** and the **description** in Arvest of the media item."
   ]
  },
  {
   "cell_type": "code",
   "execution_count": null,
   "metadata": {},
   "outputs": [],
   "source": [
    "uploaded_media = []\n",
    "count = 0\n",
    "print(\"Uploading files...\")\n",
    "\n",
    "for i, media_file_path in enumerate(local_media_files):\n",
    "    print_progress_bar_colab(i, len(local_media_files) - 1, f\"(Local file {i + 1}/{len(local_media_files)})\")\n",
    "\n",
    "    # Add media using the add_media() function:\n",
    "    added_media = ar.add_media(path = media_file_path)\n",
    "\n",
    "    # Update the title and description (change this to whatever you want):\n",
    "    added_media.update_title(f\"{os.path.basename(media_file_path)} (batch upload file {i + 1}).\")\n",
    "    added_media.update_description(f\"Uploaded to demonstrate batch media uploading from a python notebook.\")\n",
    "    \n",
    "    # We add the media to a list so that we can retrieve them later:\n",
    "    uploaded_media.append(added_media)\n",
    "    count = count + 1\n",
    "\n",
    "print(f\"👏 Added {count} media files to Arvest!\")"
   ]
  },
  {
   "cell_type": "markdown",
   "metadata": {},
   "source": [
    "If you like, run the following cell which uses the `get_full_url()` function to consult your media which is now stocked online, or logon to your [workspace](https://workspace.arvest.app/) and see the new media items in your list."
   ]
  },
  {
   "cell_type": "code",
   "execution_count": null,
   "metadata": {},
   "outputs": [],
   "source": [
    "print(\"Uploaded media:\")\n",
    "for media in uploaded_media:\n",
    "    print(f\"{media.get_full_url()}\")"
   ]
  },
  {
   "cell_type": "markdown",
   "metadata": {},
   "source": [
    "# 3. Update metadata\n",
    "Finally we can update our media's metadata. Among other things, this will notably be useful for parsing our documents and making sure that we find the files we need when scripting.\n",
    "\n",
    "We can deal with our metadata as a `dict` in python which we get using the `get_metadata()` function. We can then update this dict and use the `update_metadata()` function to update in Arvest.\n",
    "\n",
    "Check your [workspace](https://workspace.arvest.app/) again to examine how the metadat has been updated."
   ]
  },
  {
   "cell_type": "code",
   "execution_count": null,
   "metadata": {},
   "outputs": [],
   "source": [
    "print(\"Updating metadata...\")\n",
    "\n",
    "for i, added_media in enumerate(uploaded_media):\n",
    "    print_progress_bar_colab(i, len(uploaded_media) - 1, f\"(File {i + 1}/{len(uploaded_media)})\")\n",
    "\n",
    "    # Get the metadata dict:\n",
    "    media_metadata = added_media.get_metadata()\n",
    "\n",
    "    # Update fields:\n",
    "    media_metadata[\"creator\"] = \"Batch media upload example script\"\n",
    "    media_metadata[\"identifier\"] = \"&&BATCH_UPLOAD\"\n",
    "\n",
    "    # Update on Arvest:\n",
    "    added_media.update_metadata(media_metadata)\n",
    "\n",
    "print(f\"👍 Metadata updated!\")"
   ]
  },
  {
   "cell_type": "markdown",
   "metadata": {},
   "source": [
    "# 4. Batch remove media\n",
    "If we need to remove media files we can do so by parsing through all of our media and checjign certain conditions. For example, we can get all of our media files using the `get_medias()` function, then check it's metadata. If it's one of the files we want to remove, we can then use the `remove()` function.\n",
    "\n",
    "**⚠️ Warning: there's no going back after using the remove function, so be careful! To avoid accidential removal, we've added a `REMOVE` variable that need to be set to `True` for the code to run.**"
   ]
  },
  {
   "cell_type": "code",
   "execution_count": null,
   "metadata": {},
   "outputs": [],
   "source": [
    "REMOVE = False\n",
    "\n",
    "if REMOVE:\n",
    "    count = 0\n",
    "    print(\"Removing files...\")\n",
    "\n",
    "    # Get all of our media files:\n",
    "    all_media = ar.get_medias()\n",
    "    \n",
    "    for i, media_file in enumerate(all_media):\n",
    "        print_progress_bar_colab(i, len(all_media) - 1, f\"(Processing file {i + 1}/{len(all_media)})\")\n",
    "        \n",
    "        # Get the media item's metadata and check if it matches some conditions:\n",
    "        media_metadata = media_file.get_metadata()\n",
    "        if media_metadata[\"creator\"] == \"Batch media upload example script\" and media_metadata[\"identifier\"] == \"&&BATCH_UPLOAD\":\n",
    "            \n",
    "            # Remove the item:\n",
    "            media_file.remove()\n",
    "            count = count + 1\n",
    "\n",
    "    print(f\"🗑️ Removed {count} media files!\")"
   ]
  }
 ],
 "metadata": {
  "kernelspec": {
   "display_name": "venv",
   "language": "python",
   "name": "python3"
  },
  "language_info": {
   "codemirror_mode": {
    "name": "ipython",
    "version": 3
   },
   "file_extension": ".py",
   "mimetype": "text/x-python",
   "name": "python",
   "nbconvert_exporter": "python",
   "pygments_lexer": "ipython3",
   "version": "3.11.10"
  }
 },
 "nbformat": 4,
 "nbformat_minor": 2
}
