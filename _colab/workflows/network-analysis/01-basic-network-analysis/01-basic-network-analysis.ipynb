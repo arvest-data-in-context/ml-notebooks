{
 "cells": [
  {
   "cell_type": "markdown",
   "id": "c5da6160",
   "metadata": {},
   "source": [
    "![Basic network analysis](https://raw.githubusercontent.com/arvest-data-in-context/ml-notebooks/refs/heads/main/docs/images/notebooks/basic-network-analysis.png)\n",
    "\n",
    "In this notebook, we shall be taking some IIIF Manifests that are stored on [Arvest](https://arvest.app), and using their metadata to create a network visualization of them. The resulting visualization shall be uploaded as an interactive IIIF Manifest to Arvest."
   ]
  },
  {
   "cell_type": "markdown",
   "id": "24e6eeea",
   "metadata": {},
   "source": [
    "# 0. Setup\n",
    "\n",
    "Let's begin by installing and importing all of the different components we will need."
   ]
  },
  {
   "cell_type": "code",
   "execution_count": null,
   "id": "362539a8",
   "metadata": {},
   "outputs": [],
   "source": [
    "print(\"Installing and importing packages...\")\n",
    "\n",
    "# Uninstall and reinstall packages for a clean environment\n",
    "!pip uninstall -q -y arvestapi\n",
    "!pip uninstall -q -y arvesttools\n",
    "!pip uninstall -q -y jhutils\n",
    "!pip uninstall -q -y iiif_prezi3\n",
    "!pip install -q --disable-pip-version-check git+https://github.com/arvest-data-in-context/arvest-api.git\n",
    "!pip install -q --disable-pip-version-check git+https://github.com/arvest-data-in-context/arvest-api-tools.git\n",
    "!pip install -q --disable-pip-version-check git+https://github.com/jdchart/jh-py-utils.git\n",
    "!pip install -q --disable-pip-version-check git+https://github.com/iiif-prezi/iiif-prezi3.git\n",
    "\n",
    "# Import packages\n",
    "import arvestapi\n",
    "import arvesttools.manifest_creation\n",
    "from jhutils.local_files import read_json, write_json\n",
    "import jhutils.online_files\n",
    "import jhutils.images\n",
    "from jhutils.misc import print_progress_bar_colab, slugify\n",
    "import os\n",
    "import iiif_prezi3\n",
    "import networkx as nx\n",
    "import uuid\n",
    "import matplotlib.pyplot as plt\n",
    "from PIL import Image, ImageDraw\n",
    "import copy\n",
    "import math\n",
    "import shutil\n",
    "\n",
    "TEMP_FOLDER = os.path.join(os.getcwd(), \"_TEMP\")\n",
    "if os.path.isdir(TEMP_FOLDER) == False:\n",
    "    os.makedirs(TEMP_FOLDER)\n",
    "\n",
    "print(\"👍 Ready!\")"
   ]
  },
  {
   "cell_type": "markdown",
   "id": "d9539390",
   "metadata": {},
   "source": [
    "# 1. Get Manifests\n",
    "\n",
    "First, we shall need to find the Manifests which will represent nodes in our network. To do this, we'll connect to Arvest using the [Arvest API](https://github.com/arvest-data-in-context/arvest-api) package.\n",
    "\n",
    "First, we need to \"connect\" to Arvest using the Arvest API package. For this, we need our user email and our password which we will give to an instance of the `arvestapi.Arvest()` class."
   ]
  },
  {
   "cell_type": "code",
   "execution_count": null,
   "id": "170d5a4e",
   "metadata": {},
   "outputs": [],
   "source": [
    "EMAIL = \"my_email@something.com\"\n",
    "PASSWORD = \"myarvestpassword\"\n",
    "\n",
    "ar = arvestapi.Arvest(EMAIL, PASSWORD)\n",
    "print(f\"👍 Succesfully connected to Arvest with \\\"{ar.profile.name}\\\"\")"
   ]
  },
  {
   "cell_type": "markdown",
   "id": "db273274",
   "metadata": {},
   "source": [
    "Next, we'll get all of our Manifests using the `get_manifests()` function, and then find the ones we'll need by filtering them according to some metadata. We have some test content already uploaded to Arvest."
   ]
  },
  {
   "cell_type": "code",
   "execution_count": null,
   "id": "63f991df",
   "metadata": {},
   "outputs": [],
   "source": [
    "network_content = []\n",
    "\n",
    "all_manifests = ar.get_manifests()\n",
    "\n",
    "for i, manifest in enumerate(all_manifests):\n",
    "    print_progress_bar_colab(i + 1, len(all_manifests), \"(searching manifests...)\")\n",
    "\n",
    "    manifest_item_metadata = manifest.get_metadata()\n",
    "    if manifest_item_metadata[\"identifier\"] == \"&&FOLDER-TO-CORPUS\":\n",
    "        network_content.append(manifest)\n",
    "\n",
    "print(f\"🔍 Found {len(network_content)} manifest items!\")"
   ]
  },
  {
   "cell_type": "markdown",
   "id": "8119582f",
   "metadata": {},
   "source": [
    "# 2. Create the network\n",
    "\n",
    "Now that we have the elements which will be represented by our nodes, we need to create our network from them. To do this, we'll use the [networkx](https://networkx.org/) package. Let's first a network, and add each Manifest to it as a node."
   ]
  },
  {
   "cell_type": "code",
   "execution_count": null,
   "id": "6b4f9824",
   "metadata": {},
   "outputs": [],
   "source": [
    "node_dict = {}\n",
    "network = nx.Graph()\n",
    "\n",
    "for i, manifest in enumerate(network_content):\n",
    "    print_progress_bar_colab(i + 1, len(network_content), f\"(adding {manifest.title})\")\n",
    "\n",
    "    # Create a unique ID\n",
    "    node_id = str(uuid.uuid4())\n",
    "\n",
    "    # Add it to our node dict so we can find it later\n",
    "    node_dict[node_id] = {\"manifest_item\" : manifest, \"manifest_dict\" : manifest.get_content(), \"has_manifest\" : True}\n",
    "\n",
    "    # Add the node to the network\n",
    "    network.add_node(node_id)\n",
    "\n",
    "print(\"👍 Finished adding nodes!\")"
   ]
  },
  {
   "cell_type": "markdown",
   "id": "d1316061",
   "metadata": {},
   "source": [
    "In our example, we are creating a network from files that were found in some folders. Let's create a fe more nodes that represent each of the folders."
   ]
  },
  {
   "cell_type": "code",
   "execution_count": null,
   "id": "7573df27",
   "metadata": {},
   "outputs": [],
   "source": [
    "folder_list = []\n",
    "\n",
    "def get_metatdata_field(meta, label):\n",
    "    for item in meta:\n",
    "        if item[\"label\"][\"en\"][0] == label:\n",
    "            return item[\"value\"][\"en\"][0]\n",
    "\n",
    "# Get folders: \n",
    "for node_id in node_dict:\n",
    "    node_metadata = node_dict[node_id][\"manifest_dict\"][\"metadata\"]\n",
    "    folder_path = get_metatdata_field(node_metadata, \"dir\")\n",
    "    if folder_path not in folder_list:\n",
    "        folder_list.append(folder_path)\n",
    "\n",
    "# Add them as nodes:\n",
    "for item in folder_list:\n",
    "    node_id = str(uuid.uuid4())\n",
    "    node_dict[node_id] = {\"manifest_item\" : None, \"manifest_dict\" : None, \"has_manifest\" : False, \"folder_label\" : item}\n",
    "    network.add_node(node_id)\n",
    "\n",
    "print(f\"👍 Added {len(folder_list)} folders as nodes.\")"
   ]
  },
  {
   "cell_type": "markdown",
   "id": "2842651c",
   "metadata": {},
   "source": [
    "## Display the network\n",
    "We'll create a small function that allows us to visualize the network in our notebook:"
   ]
  },
  {
   "cell_type": "code",
   "execution_count": null,
   "id": "8859098b",
   "metadata": {},
   "outputs": [],
   "source": [
    "def display_network(graph, **kwargs):\n",
    "    graph_copy = copy.copy(graph)\n",
    "\n",
    "    label_map = get_label_map()\n",
    "    graph_copy = nx.relabel_nodes(graph_copy, label_map)\n",
    "\n",
    "    if kwargs.get(\"pos_algo\", None) != None:\n",
    "        pos = apply_layout(graph_copy, kwargs.get(\"pos_algo\"))\n",
    "\n",
    "        nx.draw(graph_copy, pos = pos, with_labels = True)\n",
    "        plt.show()\n",
    "    else:\n",
    "        nx.draw(graph_copy, with_labels = True)\n",
    "        plt.show()\n",
    "\n",
    "def apply_layout(graph: nx.Graph, algo: str) -> dict:\n",
    "    if algo == \"spring\":\n",
    "        pos = nx.spring_layout(graph, seed=3068)\n",
    "    elif algo == \"circular\":\n",
    "        pos = nx.circular_layout(graph)\n",
    "    elif algo == \"fr\":\n",
    "        pos = nx.fruchterman_reingold_layout(graph)\n",
    "    elif algo == \"spectral\":\n",
    "        pos = nx.spectral_layout(graph)\n",
    "    elif algo == \"random\":\n",
    "        pos = nx.random_layout(graph)\n",
    "    else:\n",
    "        pos = nx.spring_layout(graph, seed=3068)\n",
    "\n",
    "    return pos\n",
    "\n",
    "def get_label_map():\n",
    "    label_map = {}\n",
    "    for node_id in node_dict:\n",
    "        if node_dict[node_id][\"has_manifest\"]:\n",
    "            label_map[node_id] = node_dict[node_id][\"manifest_item\"].title\n",
    "        else:\n",
    "            label_map[node_id] = node_dict[node_id][\"folder_label\"]\n",
    "    return label_map\n",
    "\n",
    "display_network(network)"
   ]
  },
  {
   "cell_type": "markdown",
   "id": "e5817816",
   "metadata": {},
   "source": [
    "## Adding edges\n",
    "Next we need to create some edges between the different nodes. We shall process the metadata in the IIIF Manifests to do this (note that this is **not** the metadata of the Manifest item in Arvest). We can get the Manifest's metadata by running the `get_content()` function which will return the IIIF Manifest as a `dict`, and then inspecting the `metadata field`.\n",
    "\n",
    "The type of network we wish to create will depened on the type of metadata we have available. In our example, we're going to link files to the folders they are contained in, and also create a link between folders that are contained within another folder."
   ]
  },
  {
   "cell_type": "code",
   "execution_count": null,
   "id": "47a1c5b9",
   "metadata": {},
   "outputs": [],
   "source": [
    "network.remove_edges_from(list(network.edges()))\n",
    "\n",
    "for node_id in node_dict:\n",
    "    # Treat nodes that are files:\n",
    "    if node_dict[node_id][\"has_manifest\"]:\n",
    "        node_metadata = node_dict[node_id][\"manifest_dict\"][\"metadata\"]\n",
    "        node_folder = get_metatdata_field(node_metadata, \"dir\")\n",
    "        for target_id in node_dict:\n",
    "            if node_id != target_id:\n",
    "                if node_dict[target_id][\"has_manifest\"] == False:\n",
    "                    if node_dict[target_id][\"folder_label\"] == node_folder:\n",
    "                        network.add_edge(node_id, target_id)\n",
    "    \n",
    "    # Treat nodes that are folders\n",
    "    if node_dict[node_id][\"has_manifest\"] == False:\n",
    "        this_folder = node_dict[node_id][\"folder_label\"]\n",
    "        for target_id in node_dict:\n",
    "            if node_id != target_id:\n",
    "                if node_dict[target_id][\"has_manifest\"] == False:\n",
    "                    target_folder = node_dict[target_id][\"folder_label\"]\n",
    "                    if len(this_folder) < len(target_folder):\n",
    "                        if target_folder[0:len(this_folder)] == this_folder:\n",
    "                            network.add_edge(node_id, target_id)\n",
    "\n",
    "print(f\"👍 Processed nodes\")\n",
    "display_network(network)"
   ]
  },
  {
   "cell_type": "markdown",
   "id": "a1ffe8b1",
   "metadata": {},
   "source": [
    "## Layout algorithms\n",
    "We can modify the way in which the nodes configure themselves with different layout algorithms. Here are a few you can test:"
   ]
  },
  {
   "cell_type": "code",
   "execution_count": null,
   "id": "30f9afc6",
   "metadata": {},
   "outputs": [],
   "source": [
    "LAYOUT_ALGORITHM = \"circular\" # Choose between spring, circular, fr, spectral and random\n",
    "\n",
    "display_network(network, pos_algo = LAYOUT_ALGORITHM)"
   ]
  },
  {
   "cell_type": "markdown",
   "id": "d4bbc03b",
   "metadata": {},
   "source": [
    "# 3. Export to Arvest\n",
    "Finally, we can export this network visualization as an interactive IIIF Manifest that can be viewed directly in Arvest. To do this, we will first need to make a high-res image of the network, keeping track of the position and size of the nodes as they are rendered."
   ]
  },
  {
   "cell_type": "code",
   "execution_count": null,
   "id": "f82fbdfd",
   "metadata": {},
   "outputs": [],
   "source": [
    "IMAGE_PATH = os.path.join(TEMP_FOLDER, \"network_image.png\")\n",
    "\n",
    "image_data = jhutils.images.network_to_image(network, IMAGE_PATH,\n",
    "    pos_algo = \"fr\",\n",
    "    width = 1000, height = 1000,\n",
    "    size_min_max = [25, 50],\n",
    "    edge_width = 4, edge_col = (185, 187, 189),\n",
    "    node_col = (124, 187, 217), node_outline_col = (142, 146, 148)\n",
    ")\n",
    "\n",
    "print(f\"🎨 Exported image to {IMAGE_PATH}!\")"
   ]
  },
  {
   "cell_type": "markdown",
   "id": "6c2faf61",
   "metadata": {},
   "source": [
    "Now let's upload this image to Arvest using the `add_media()` function and the [Arvest API](https://github.com/arvest-data-in-context/arvest-api)."
   ]
  },
  {
   "cell_type": "code",
   "execution_count": null,
   "id": "cfeb70fd",
   "metadata": {},
   "outputs": [],
   "source": [
    "added_media = ar.add_media(path = IMAGE_PATH)\n",
    "added_media.update_title(\"Network visualization\")\n",
    "added_media.update_description(\"This was created with a tutorial to demonstrate how to make interactive networks in Arvest.\")\n",
    "\n",
    "media_metadata = added_media.get_metadata()\n",
    "media_metadata[\"identifier\"] = \"&&NETWORK-VIZ-TUT\"\n",
    "added_media.update_metadata(media_metadata)\n",
    "\n",
    "print(\"👍 Uploaded to Arvest!\")"
   ]
  },
  {
   "cell_type": "markdown",
   "id": "20908425",
   "metadata": {},
   "source": [
    "Now we can use the [arvesttools](https://github.com/arvest-data-in-context/arvest-api-tools) package's helper function `media_to_manifest` to create a Manifest from this item, and add annotations to this manifest for each node."
   ]
  },
  {
   "cell_type": "code",
   "execution_count": null,
   "id": "ef631b4c",
   "metadata": {},
   "outputs": [],
   "source": [
    "manifest = arvesttools.manifest_creation.media_to_manifest(added_media)\n",
    "\n",
    "for node_id in node_dict:\n",
    "    if node_dict[node_id][\"has_manifest\"]:\n",
    "        node_pos_data = image_data[node_id]\n",
    "\n",
    "        node_pos_annot = {\"x\" : float(node_pos_data[\"x\"]), \"y\" : float(node_pos_data[\"y\"]), \"w\" : float(node_pos_data[\"size\"]), \"h\" : float(node_pos_data[\"size\"])}\n",
    "        manifest_url = node_dict[node_id][\"manifest_item\"].get_full_url()\n",
    "        manifest_metadata = node_dict[node_id][\"manifest_dict\"][\"metadata\"]\n",
    "        file_name = get_metatdata_field(manifest_metadata, \"basename\")\n",
    "\n",
    "        arvesttools.manifest_creation.add_textual_annotation(\n",
    "            manifest, 0,\n",
    "            xywh = node_pos_annot,\n",
    "            linked_manifest = manifest_url,\n",
    "            text_content = f\"<p><strong>{file_name}</strong></p>\"\n",
    "        )\n",
    "\n",
    "print(\"👍 Manifest created!\")"
   ]
  },
  {
   "cell_type": "markdown",
   "id": "c469fe28",
   "metadata": {},
   "source": [
    "Finally, let's upload the Manifest to Arvest, and either view directly with the link that will printed to the console below, or find it in our [workspace](https://workspace.arvest.app)."
   ]
  },
  {
   "cell_type": "code",
   "execution_count": null,
   "id": "94e4761a",
   "metadata": {},
   "outputs": [],
   "source": [
    "# Save to disk\n",
    "local_path = os.path.join(TEMP_FOLDER, \"network-viz.json\")\n",
    "write_json(local_path, manifest.dict())\n",
    "\n",
    "# Upload manifest\n",
    "add_manifest = ar.add_manifest(path = local_path)\n",
    "add_manifest.update_title(\"Network visualization\")\n",
    "add_manifest.update_description(\"This was created with a tutorial to demonstrate how to make interactive networks in Arvest.\")\n",
    "add_manifest.update_thumbnail_url(added_media.thumbnail_url)\n",
    "\n",
    "media_metadata = add_manifest.get_metadata()\n",
    "media_metadata[\"identifier\"] = \"&&NETWORK-VIZ-TUT\"\n",
    "add_manifest.update_metadata(media_metadata)\n",
    "\n",
    "print(f\"👍 Uploaded to Arvest! View your Manifest here: {add_manifest.get_preview_url()}\")"
   ]
  },
  {
   "cell_type": "markdown",
   "id": "9113b223",
   "metadata": {},
   "source": [
    "# 4. Cleanup\n",
    "To finish, lets clean up our mess! First, we can delete the temporary folder ."
   ]
  },
  {
   "cell_type": "code",
   "execution_count": null,
   "id": "7002f1bc",
   "metadata": {},
   "outputs": [],
   "source": [
    "shutil.rmtree(TEMP_FOLDER)\n",
    "print(f\"🗑️ {TEMP_FOLDER} removed !\")"
   ]
  },
  {
   "cell_type": "markdown",
   "id": "500ccf12",
   "metadata": {},
   "source": [
    "And finally, we can remove from Arvest all of our created Manifest. We can get all of our content by using the `get_manifests()` and `get_medias()` functions, then check the metadata. If it's one of the files we want to remove, we can then use the `remove()` function.\n",
    "\n",
    "**⚠️ Warning: there's no going back after using the remove function, so be careful! To avoid accidential removal, we've added a `REMOVE` variable that need to be set to `True` for the code to run.**"
   ]
  },
  {
   "cell_type": "code",
   "execution_count": null,
   "id": "996e7bb6",
   "metadata": {},
   "outputs": [],
   "source": [
    "REMOVE = False\n",
    "\n",
    "if REMOVE:\n",
    "    all_manifests = ar.get_manifests()\n",
    "    count = 0\n",
    "    print(\"Removing content...\")\n",
    "\n",
    "    for i, media_file in enumerate(all_manifests):\n",
    "        print_progress_bar_colab(i + 1, len(all_manifests), f\"(Processing file {i + 1}/{len(all_manifests)})\")\n",
    "        media_metadata = media_file.get_metadata()\n",
    "        if media_metadata[\"identifier\"] == \"&&NETWORK-VIZ-TUT\":\n",
    "            media_file.remove()\n",
    "            count = count + 1\n",
    "\n",
    "    all_manifests = ar.get_medias()\n",
    "    for i, media_file in enumerate(all_manifests):\n",
    "        print_progress_bar_colab(i + 1, len(all_manifests), f\"(Processing file {i + 1}/{len(all_manifests)})\")\n",
    "        media_metadata = media_file.get_metadata()\n",
    "        if media_metadata[\"identifier\"] == \"&&NETWORK-VIZ-TUT\":\n",
    "            media_file.remove()\n",
    "            count = count + 1\n",
    "\n",
    "    print(f\"🗑️ Removed {count} items!\")"
   ]
  }
 ],
 "metadata": {
  "kernelspec": {
   "display_name": "venv",
   "language": "python",
   "name": "python3"
  },
  "language_info": {
   "codemirror_mode": {
    "name": "ipython",
    "version": 3
   },
   "file_extension": ".py",
   "mimetype": "text/x-python",
   "name": "python",
   "nbconvert_exporter": "python",
   "pygments_lexer": "ipython3",
   "version": "3.11.10"
  }
 },
 "nbformat": 4,
 "nbformat_minor": 5
}
